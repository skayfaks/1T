{
 "cells": [
  {
   "cell_type": "markdown",
   "metadata": {},
   "source": [
    "## Задание\n",
    "`Вам необходимо написать SQL-запросы для выполнения загрузите датасет для решения следующих задач:`\\\n",
    "[датасет](https://disk.yandex.ru/d/oisXz4r_6oGfqw)\n",
    "1. Запрос, который вернет характеристики размера вооружённых сил Катара. \n",
    "\n",
    "2. Запрос, который вернет все страны с Fertility Rate менее 2.\n",
    "\n",
    "3. Запрос, который вернет все страны с аббревиатурой  abbreviation, начинающейся на S, или продолжительностью жизни «Life expectancy» менее 60 лет.\n",
    "\n",
    "4. Запрос который вернёт все страны, где официальный язык английский.\n",
    "\n",
    "5. Запрос который вернёт все страны, где официальный язык английский с «Maternal mortality ratio»  менее 20  или  Life expectancy < 60. \n",
    "\n",
    "`Задание выполняется в DBeaver.`\n",
    "\n",
    "Сохраните ваши написанные SQL-запросы в текстовом формате (блокнот) и направьте ответ в виде  вложенного файла. "
   ]
  },
  {
   "cell_type": "code",
   "execution_count": 11,
   "metadata": {
    "vscode": {
     "languageId": "sql"
    }
   },
   "outputs": [
    {
     "ename": "SyntaxError",
     "evalue": "invalid syntax. Perhaps you forgot a comma? (836733326.py, line 1)",
     "output_type": "error",
     "traceback": [
      "\u001b[1;36m  Cell \u001b[1;32mIn[11], line 1\u001b[1;36m\u001b[0m\n\u001b[1;33m    SELECT * FROM test.world_data\u001b[0m\n\u001b[1;37m    ^\u001b[0m\n\u001b[1;31mSyntaxError\u001b[0m\u001b[1;31m:\u001b[0m invalid syntax. Perhaps you forgot a comma?\n"
     ]
    }
   ],
   "source": [
    "SELECT * FROM test.world_data\n",
    "-- WHERE country =  ''"
   ]
  },
  {
   "cell_type": "code",
   "execution_count": 12,
   "metadata": {
    "vscode": {
     "languageId": "sql"
    }
   },
   "outputs": [
    {
     "ename": "SyntaxError",
     "evalue": "invalid syntax. Perhaps you forgot a comma? (2713499566.py, line 1)",
     "output_type": "error",
     "traceback": [
      "\u001b[1;36m  Cell \u001b[1;32mIn[12], line 1\u001b[1;36m\u001b[0m\n\u001b[1;33m    SELECT country, abbreviation\u001b[0m\n\u001b[1;37m    ^\u001b[0m\n\u001b[1;31mSyntaxError\u001b[0m\u001b[1;31m:\u001b[0m invalid syntax. Perhaps you forgot a comma?\n"
     ]
    }
   ],
   "source": [
    "\n",
    "SELECT country, abbreviation\n",
    "FROM test.world_data\n",
    "WHERE abbreviation LIKE 'S%' OR `Life expectancy` < 60;"
   ]
  }
 ],
 "metadata": {
  "kernelspec": {
   "display_name": "Python 3",
   "language": "python",
   "name": "python3"
  },
  "language_info": {
   "codemirror_mode": {
    "name": "ipython",
    "version": 3
   },
   "file_extension": ".py",
   "mimetype": "text/x-python",
   "name": "python",
   "nbconvert_exporter": "python",
   "pygments_lexer": "ipython3",
   "version": "3.10.0"
  }
 },
 "nbformat": 4,
 "nbformat_minor": 2
}
