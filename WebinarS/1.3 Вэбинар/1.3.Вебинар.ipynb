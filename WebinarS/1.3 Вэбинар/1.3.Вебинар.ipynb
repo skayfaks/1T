{
 "cells": [
  {
   "cell_type": "markdown",
   "metadata": {},
   "source": [
    "![Alt text](image-1.png)"
   ]
  },
  {
   "cell_type": "markdown",
   "metadata": {},
   "source": [
    "например мы тестим код. "
   ]
  },
  {
   "cell_type": "markdown",
   "metadata": {},
   "source": [
    "![Alt text](image-2.png)"
   ]
  },
  {
   "cell_type": "markdown",
   "metadata": {},
   "source": [
    "![Alt text](image-3.png)"
   ]
  },
  {
   "cell_type": "markdown",
   "metadata": {},
   "source": [
    "верни 2 если True если нет, то верни 5"
   ]
  },
  {
   "cell_type": "code",
   "execution_count": 2,
   "metadata": {},
   "outputs": [
    {
     "name": "stdout",
     "output_type": "stream",
     "text": [
      "2\n"
     ]
    }
   ],
   "source": [
    "condition = False\n",
    "print(2 if 6==6 else 5)"
   ]
  },
  {
   "cell_type": "code",
   "execution_count": 3,
   "metadata": {},
   "outputs": [
    {
     "data": {
      "text/plain": [
       "True"
      ]
     },
     "execution_count": 3,
     "metadata": {},
     "output_type": "execute_result"
    }
   ],
   "source": [
    "6==6"
   ]
  },
  {
   "cell_type": "markdown",
   "metadata": {},
   "source": [
    "---- Очень редко используется --- \n"
   ]
  },
  {
   "cell_type": "markdown",
   "metadata": {},
   "source": [
    "![Alt text](image-4.png)"
   ]
  },
  {
   "cell_type": "markdown",
   "metadata": {},
   "source": [
    "!!!!!!!!!!! Пользуемся всегда !!!!!!"
   ]
  },
  {
   "cell_type": "markdown",
   "metadata": {},
   "source": [
    "![Alt text](image-5.png)"
   ]
  },
  {
   "cell_type": "code",
   "execution_count": 4,
   "metadata": {},
   "outputs": [
    {
     "name": "stdout",
     "output_type": "stream",
     "text": [
      "5\n"
     ]
    }
   ],
   "source": [
    "x  = lambda x: x+2\n",
    "\n",
    "print(x(3))"
   ]
  },
  {
   "cell_type": "code",
   "execution_count": 5,
   "metadata": {},
   "outputs": [],
   "source": [
    "def fun(x,y):\n",
    "    return  x*y"
   ]
  },
  {
   "cell_type": "code",
   "execution_count": 6,
   "metadata": {},
   "outputs": [
    {
     "data": {
      "text/plain": [
       "12"
      ]
     },
     "execution_count": 6,
     "metadata": {},
     "output_type": "execute_result"
    }
   ],
   "source": [
    "fun(3,4)"
   ]
  },
  {
   "cell_type": "code",
   "execution_count": 11,
   "metadata": {},
   "outputs": [],
   "source": [
    "lya = lambda x,y: x**y"
   ]
  },
  {
   "cell_type": "code",
   "execution_count": 12,
   "metadata": {},
   "outputs": [
    {
     "name": "stdout",
     "output_type": "stream",
     "text": [
      "<function <lambda> at 0x000002B8C9E05EE0>\n"
     ]
    }
   ],
   "source": [
    "bb = lya\n",
    "print(bb)"
   ]
  },
  {
   "cell_type": "markdown",
   "metadata": {},
   "source": [
    "![Alt text](image-6.png)"
   ]
  },
  {
   "cell_type": "markdown",
   "metadata": {},
   "source": [
    "# пример лист компрехенш, заполнение массива записями из файла разделенными табами с филтрацией комментариев, начинающихся с #. В целом погулите просто примеры\n",
    "\n",
    "data = [line.strip().split(\"\\t\") for line in open(\"my_file.tab\") \\ if not line.startswith('#')]"
   ]
  },
  {
   "cell_type": "code",
   "execution_count": null,
   "metadata": {},
   "outputs": [],
   "source": [
    "x=[1,2,3,1]\n",
    "new_x"
   ]
  },
  {
   "cell_type": "code",
   "execution_count": 14,
   "metadata": {},
   "outputs": [
    {
     "name": "stdout",
     "output_type": "stream",
     "text": [
      "8\n",
      "CPU times: total: 0 ns\n",
      "Wall time: 0 ns\n"
     ]
    }
   ],
   "source": [
    "%%time\n",
    "a=5+3\n",
    "print(a)"
   ]
  },
  {
   "cell_type": "markdown",
   "metadata": {},
   "source": [
    "f - строка"
   ]
  },
  {
   "cell_type": "code",
   "execution_count": 23,
   "metadata": {},
   "outputs": [
    {
     "name": "stdout",
     "output_type": "stream",
     "text": [
      "Привет, меня зовут Alice и мне 25 лет.\n"
     ]
    }
   ],
   "source": [
    "name = 'Alice'\n",
    "age = 25\n",
    "\n",
    "greeting = f'Привет, меня зовут {name} и мне {age} лет.'\n",
    "print(greeting)\n"
   ]
  },
  {
   "cell_type": "markdown",
   "metadata": {},
   "source": [
    "![Alt text](image-7.png)"
   ]
  },
  {
   "cell_type": "markdown",
   "metadata": {},
   "source": [
    "                                                        \n",
    "                                                        \n",
    "                                                        \n",
    "                                                        \n",
    "                                                        F - строки"
   ]
  },
  {
   "cell_type": "code",
   "execution_count": 10,
   "metadata": {},
   "outputs": [
    {
     "name": "stdout",
     "output_type": "stream",
     "text": [
      "Anton поздравляем Вам испольнилось 37годиков\n"
     ]
    }
   ],
   "source": [
    "name1 = 'Anton'\n",
    "age1 = 37\n",
    "print(f'{name1} поздравляем Вам испольнилось {age1}годиков')"
   ]
  },
  {
   "cell_type": "markdown",
   "metadata": {},
   "source": [
    "        1. Внутри фигурных скобок мы можем помещать любой  объект. Например мы можем вызывать функции прямо внутри фигурных скобок"
   ]
  },
  {
   "cell_type": "code",
   "execution_count": 14,
   "metadata": {},
   "outputs": [],
   "source": [
    "def test():\n",
    "    print(f'{name1} поздравляем Вам испольнилось {age1} годиков')\n",
    "    return"
   ]
  },
  {
   "cell_type": "code",
   "execution_count": 17,
   "metadata": {},
   "outputs": [
    {
     "name": "stdout",
     "output_type": "stream",
     "text": [
      "Anton поздравляем Вам испольнилось 37 годиков\n"
     ]
    }
   ],
   "source": [
    "test()"
   ]
  },
  {
   "cell_type": "code",
   "execution_count": 19,
   "metadata": {},
   "outputs": [
    {
     "name": "stdout",
     "output_type": "stream",
     "text": [
      "Anton поздравляем Вам испольнилось 37 годиков\n",
      "None ща будет Ф-строка---\n"
     ]
    }
   ],
   "source": [
    "print(f'{test()} ща будет Ф-строка---')"
   ]
  },
  {
   "cell_type": "code",
   "execution_count": 23,
   "metadata": {},
   "outputs": [
    {
     "name": "stdout",
     "output_type": "stream",
     "text": [
      "Дорогой Semen Semenovich Ваш баланс = 32.32 руб.\n",
      "Дорогой Eliza Siemens Ваш баланс = 234234 руб.\n",
      "Дорогой Graf Duku Ваш баланс = 231 руб.\n"
     ]
    }
   ],
   "source": [
    "a = [\n",
    "    ['Semen', 'Semenovich', 32.32],\n",
    "    ['Eliza', 'Siemens', 234234],\n",
    "    ['Graf', 'Duku', 231],\n",
    "]\n",
    "\n",
    "for name, midlename, balans in a:\n",
    "    text = f'Дорогой {name} {midlename} Ваш баланс = {balans} руб.'\n",
    "    print(text)\n"
   ]
  },
  {
   "cell_type": "code",
   "execution_count": 24,
   "metadata": {},
   "outputs": [
    {
     "name": "stdout",
     "output_type": "stream",
     "text": [
      "Дорогой Semen Semenovich Ваш баланс = 32.32 руб.\n",
      "Дорогая Eliza Siemens Ваш баланс = 234234 руб.\n",
      "Дорогой Graf Duku Ваш баланс = 231 руб.\n"
     ]
    }
   ],
   "source": [
    "gender = {'m':'Дорогой', 'f':\"Дорогая\"}\n",
    "b = [\n",
    "    ['Semen', 'Semenovich', 32.32, 'm'],\n",
    "    ['Eliza', 'Siemens', 234234, 'f'],\n",
    "    ['Graf', 'Duku', 231, 'm'],\n",
    "]\n",
    "\n",
    "for name, midlename, balans, g in b:\n",
    "    text = f'{gender[g]} {name} {midlename} Ваш баланс = {balans} руб.'\n",
    "    print(text)"
   ]
  },
  {
   "cell_type": "markdown",
   "metadata": {},
   "source": [
    "                        Лямда ФУНКЦИИ   \n",
    "                        Ананимные функции - возвращает объект  функции не присваивая ему имени \n",
    "                        НЕ МОЖЕТ СОДЕРЖАТЬ в себе более одной строки"
   ]
  },
  {
   "cell_type": "code",
   "execution_count": 1,
   "metadata": {},
   "outputs": [
    {
     "name": "stdout",
     "output_type": "stream",
     "text": [
      "8\n"
     ]
    }
   ],
   "source": [
    "def rect(a,b):\n",
    "    return a*b\n",
    "print(rect(2,4))"
   ]
  },
  {
   "cell_type": "code",
   "execution_count": 12,
   "metadata": {},
   "outputs": [
    {
     "name": "stdout",
     "output_type": "stream",
     "text": [
      "221\n"
     ]
    }
   ],
   "source": [
    "print(   (lambda a,b:a*b) (17,13)  )\n"
   ]
  },
  {
   "cell_type": "code",
   "execution_count": 13,
   "metadata": {},
   "outputs": [
    {
     "name": "stdout",
     "output_type": "stream",
     "text": [
      "16\n"
     ]
    }
   ],
   "source": [
    "def maksim(a,b):\n",
    "    if a>b:\n",
    "        return a\n",
    "    else:\n",
    "        return b\n",
    "print(maksim(14,16))"
   ]
  },
  {
   "cell_type": "code",
   "execution_count": 15,
   "metadata": {},
   "outputs": [
    {
     "name": "stdout",
     "output_type": "stream",
     "text": [
      "25\n"
     ]
    }
   ],
   "source": [
    "print( (lambda a,b: a if a>b else b) (25,14) )"
   ]
  },
  {
   "cell_type": "code",
   "execution_count": 16,
   "metadata": {},
   "outputs": [
    {
     "name": "stdout",
     "output_type": "stream",
     "text": [
      "4\n"
     ]
    }
   ],
   "source": [
    "print((lambda a:a**2) (2))"
   ]
  },
  {
   "cell_type": "code",
   "execution_count": 21,
   "metadata": {},
   "outputs": [
    {
     "name": "stdout",
     "output_type": "stream",
     "text": [
      "negot\n"
     ]
    }
   ],
   "source": [
    "def f(x):\n",
    "    if x>0:\n",
    "        return 'poz'\n",
    "    else:\n",
    "        return 'negot'\n",
    "    \n",
    "\n",
    "z=lambda i: 'poz' if i>0 else 'negot'\n",
    "print(z(-17))"
   ]
  },
  {
   "cell_type": "code",
   "execution_count": 22,
   "metadata": {},
   "outputs": [
    {
     "name": "stdout",
     "output_type": "stream",
     "text": [
      "[1, 111, 3, 23, 5]\n"
     ]
    }
   ],
   "source": [
    "def f(x):\n",
    "    return x%10\n",
    "spis = [1,3,5,111,23,]\n",
    "spis.sort(key=f)\n",
    "print(spis)\n",
    "\n"
   ]
  },
  {
   "cell_type": "code",
   "execution_count": 27,
   "metadata": {},
   "outputs": [
    {
     "name": "stdout",
     "output_type": "stream",
     "text": [
      "[3, 111, 1, 5, 23]\n"
     ]
    }
   ],
   "source": [
    "spis2 = [1,3,5,111,23,]\n",
    "spis2.sort(key=lambda  x:x%3)\n",
    "print(spis2)\n",
    "\n"
   ]
  },
  {
   "cell_type": "markdown",
   "metadata": {},
   "source": [
    "                ГЕНЕРАТОРЫ СПИСКОВ. (LIST  COMPREHENSIONS)"
   ]
  },
  {
   "cell_type": "markdown",
   "metadata": {},
   "source": [
    "# [выражение for val in коллекция]"
   ]
  },
  {
   "cell_type": "code",
   "execution_count": 34,
   "metadata": {},
   "outputs": [
    {
     "name": "stdout",
     "output_type": "stream",
     "text": [
      "[0, 1, 2, 3, 4, 5, 6, 7, 8, 9]\n"
     ]
    }
   ],
   "source": [
    "a =[i for i in range(10)]\n",
    "print(a)"
   ]
  },
  {
   "cell_type": "code",
   "execution_count": 37,
   "metadata": {},
   "outputs": [
    {
     "name": "stdout",
     "output_type": "stream",
     "text": [
      "[2, 2, 2, 2, 2, 2, 2, 2, 2, 2]\n"
     ]
    }
   ],
   "source": [
    "a =[2 for i in range(10)]\n",
    "print(a)"
   ]
  },
  {
   "cell_type": "code",
   "execution_count": 42,
   "metadata": {},
   "outputs": [
    {
     "name": "stdout",
     "output_type": "stream",
     "text": [
      "[2, 9, 5, -4, -1, -1, 9, -7, -10, -8]\n",
      "[2, 9, 5, 4, 1, 1, 9, 7, 10, 8]\n",
      "[3, 10, 6, 5, 2, 2, 10, 8, 11, 9]\n"
     ]
    }
   ],
   "source": [
    "import random\n",
    "a = [random.randint(-10,10) for i in range(10)] # random.randint раз в итерацию возвращает случайное число из диаппазона\n",
    "print(a)\n",
    "a = [abs(i) for i in a]\n",
    "print(a)\n",
    "a = [i+1 for i in a]\n",
    "print(a)"
   ]
  },
  {
   "cell_type": "markdown",
   "metadata": {},
   "source": [
    "Так же можно использовать условные конструкции"
   ]
  },
  {
   "cell_type": "markdown",
   "metadata": {},
   "source": [
    "# [выражение for val in коллекция if условие]"
   ]
  },
  {
   "cell_type": "code",
   "execution_count": 45,
   "metadata": {},
   "outputs": [
    {
     "name": "stdout",
     "output_type": "stream",
     "text": [
      "[2, -6, -5, 1, 1, 0, -6, 4, 2, -8]\n",
      "[-6, 0, -6]\n"
     ]
    }
   ],
   "source": [
    "import random\n",
    "a = [random.randint(-10,10) for i in range(10)] # random.randint раз в итерацию возвращает случайное число из диаппазона\n",
    "print(a)\n",
    "b = [elem for elem in a if elem%2==0 and elem%3==0] # составляем только  четные элементы elem%2==0 - без остатка делиться на 2\n",
    "print(b)"
   ]
  },
  {
   "cell_type": "code",
   "execution_count": 48,
   "metadata": {},
   "outputs": [
    {
     "name": "stdout",
     "output_type": "stream",
     "text": [
      "[2, 3, 4, 56, 63463]\n"
     ]
    }
   ],
   "source": [
    "a =  input().split() # ввод данные в строке ->  .split разбивает строку пробелами -> в список []\n",
    "a = [int(i) for i in a]\n",
    "print(a)"
   ]
  },
  {
   "cell_type": "code",
   "execution_count": 54,
   "metadata": {},
   "outputs": [
    {
     "name": "stdout",
     "output_type": "stream",
     "text": [
      "[[-2, -1, 7], [-2, -1, 7], [-2, -1, 7]]\n",
      "[[-2, -1, 7], [-2, -1, 7], [-2, -1, 7]]\n",
      "[[-2, -1, 7], [-2, -1, 7], [-2, -1, 7]]\n"
     ]
    }
   ],
   "source": [
    "# Инициализация двумерного списка (МАТРИЦА)\n",
    "\n",
    "import random\n",
    "r = [random.randint(-10,10) for i in range(3)]\n",
    "n = 3\n",
    "s = 4\n",
    "a  = [ [r]*n for i in range(n)]\n",
    "\n",
    "for i in a:\n",
    "    print(i)"
   ]
  },
  {
   "cell_type": "code",
   "execution_count": 56,
   "metadata": {},
   "outputs": [
    {
     "name": "stdout",
     "output_type": "stream",
     "text": [
      "[('a', 1), ('a', 2), ('a', 3), ('b', 1), ('b', 2), ('b', 3), ('c', 1), ('c', 2), ('c', 3)]\n"
     ]
    }
   ],
   "source": [
    "# Можно так же применять двойные циклы (ВЛОЖЕНЫЕ ЦИКЛЫ)\n",
    "\n",
    "a = [(i,j) for i in 'abc' for j in [1,2,3]]\n",
    "print(a)"
   ]
  },
  {
   "cell_type": "code",
   "execution_count": 59,
   "metadata": {},
   "outputs": [
    {
     "name": "stdout",
     "output_type": "stream",
     "text": [
      "[12, 10, 15]\n"
     ]
    }
   ],
   "source": [
    "# Можно добавлять  условия\n",
    "\n",
    "v = [i*j for i in [2,1,4,5] for j in [1,2,3] if i*j>=10]\n",
    "print(v)"
   ]
  },
  {
   "cell_type": "code",
   "execution_count": null,
   "metadata": {},
   "outputs": [],
   "source": []
  }
 ],
 "metadata": {
  "kernelspec": {
   "display_name": "Python 3",
   "language": "python",
   "name": "python3"
  },
  "language_info": {
   "codemirror_mode": {
    "name": "ipython",
    "version": 3
   },
   "file_extension": ".py",
   "mimetype": "text/x-python",
   "name": "python",
   "nbconvert_exporter": "python",
   "pygments_lexer": "ipython3",
   "version": "3.11.4"
  },
  "orig_nbformat": 4
 },
 "nbformat": 4,
 "nbformat_minor": 2
}
