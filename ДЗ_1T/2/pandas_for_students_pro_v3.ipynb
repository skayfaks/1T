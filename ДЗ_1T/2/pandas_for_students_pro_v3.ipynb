{
 "cells": [
  {
   "cell_type": "code",
   "execution_count": 1,
   "metadata": {},
   "outputs": [
    {
     "data": {
      "text/plain": [
       "1"
      ]
     },
     "execution_count": 1,
     "metadata": {},
     "output_type": "execute_result"
    }
   ],
   "source": [
    "import pandas as pd\n",
    "1"
   ]
  },
  {
   "attachments": {},
   "cell_type": "markdown",
   "metadata": {},
   "source": [
    "# Работа с Pandas"
   ]
  },
  {
   "attachments": {},
   "cell_type": "markdown",
   "metadata": {},
   "source": [
    "Загрузите ваш DataFrame в переменную df и выведете на экран первые пять строк "
   ]
  },
  {
   "cell_type": "code",
   "execution_count": null,
   "metadata": {},
   "outputs": [],
   "source": [
    "df = pd.read_csv(r'C:\\Users\\pufis\\Downloads\\googleplaystore.csv') # ваш путь к файлу с данными"
   ]
  },
  {
   "attachments": {},
   "cell_type": "markdown",
   "metadata": {},
   "source": [
    "Отобразите количество строк и столбцов в DataFrame"
   ]
  },
  {
   "attachments": {},
   "cell_type": "markdown",
   "metadata": {},
   "source": [
    "# PRO часть (Не обязательна к выполнению, но желательна :))\n"
   ]
  },
  {
   "attachments": {},
   "cell_type": "markdown",
   "metadata": {},
   "source": [
    "Измените названия всех столбцов приведя их к нижнему регистру"
   ]
  },
  {
   "cell_type": "code",
   "execution_count": null,
   "metadata": {},
   "outputs": [],
   "source": []
  },
  {
   "attachments": {},
   "cell_type": "markdown",
   "metadata": {},
   "source": [
    "Выведите основные статистики по категориальным столбцам. Напишите выводы о них "
   ]
  },
  {
   "cell_type": "code",
   "execution_count": null,
   "metadata": {},
   "outputs": [],
   "source": []
  },
  {
   "attachments": {},
   "cell_type": "markdown",
   "metadata": {},
   "source": [
    "Выведите на экран часть датафрейма, который соответствует условию: `приложение из категории искусства и дизайна` И `с рейтингом больше 4.5`"
   ]
  },
  {
   "cell_type": "code",
   "execution_count": null,
   "metadata": {},
   "outputs": [],
   "source": []
  },
  {
   "attachments": {},
   "cell_type": "markdown",
   "metadata": {},
   "source": [
    "Посчитатайте какое количество игр содержится в рейтинге, используя параметр разбиения (bins) равным 100. Выведите на экран топ-10 игр по количеству в рейтинге. Напишите краткий вывод.\n",
    "То есть сначала отфильтровываете лишь игры из всего датафрейма, после чего применяете value_counts к столбцу с рейтингом используя параметр, который указан выше. И выводите первые 10 строк отсортированных по убыванию."
   ]
  },
  {
   "cell_type": "code",
   "execution_count": null,
   "metadata": {},
   "outputs": [],
   "source": []
  },
  {
   "attachments": {},
   "cell_type": "markdown",
   "metadata": {},
   "source": [
    "Создайте функцию , которая будет применена к столбцу рейтинг методом `apply()`.\n",
    "Функция должна принимать строку с рейтингом и возвращать:\n",
    " - High rating, если рейтинг больше или равен 4.5\n",
    " - Middle rating, если рейтинг между 3.8 и 4.5\n",
    " - Low rating, если рейтинг меньше 3.8 \n",
    "Результат работы функции запишите в новый столбец с названием `categorical_rating`"
   ]
  },
  {
   "cell_type": "code",
   "execution_count": null,
   "metadata": {},
   "outputs": [],
   "source": []
  },
  {
   "attachments": {},
   "cell_type": "markdown",
   "metadata": {},
   "source": [
    "Выведите кол-во уникальных значений в столбцах отсортированных по убыванию на экран:"
   ]
  },
  {
   "cell_type": "code",
   "execution_count": null,
   "metadata": {},
   "outputs": [],
   "source": []
  },
  {
   "attachments": {},
   "cell_type": "markdown",
   "metadata": {},
   "source": [
    "__Super-Hard задания__\n",
    "\n",
    "Решите задачу, где мы создавали свою собственную функцию, но вместо функции `def` используйте `лямбда-функцию` внутри `apply()`"
   ]
  },
  {
   "cell_type": "code",
   "execution_count": null,
   "metadata": {},
   "outputs": [],
   "source": []
  },
  {
   "attachments": {},
   "cell_type": "markdown",
   "metadata": {},
   "source": [
    "Изучите функцию `transform` в документации Pandas. Примените её к датафрейму, который будет заранее сгруппирован по столбцу `category`. С помощью фукнции `transform` найдите средний `rating` по каждой категории и запишите в столбец с названием `mean_cat_rating`. Кол-во строк в получившемся новом столбец должно быть таким же, как и в исходном датафрейме"
   ]
  },
  {
   "cell_type": "code",
   "execution_count": null,
   "metadata": {},
   "outputs": [],
   "source": []
  },
  {
   "attachments": {},
   "cell_type": "markdown",
   "metadata": {},
   "source": [
    "Создайте функцию , которая будет применена к столбцу `last updated` и возвращать из него число месяца, если число месяца вернуть из строки невозможно, то верните вместо этого строку с значением `miss_date`.\\\n",
    "Запишите полученный столбец в датафрейм , название столбцу дайте `day_of_update`.\n",
    "\n",
    "Если вы столкнётесь с некоторой ошибкой , которую вам выдаст Pandas, то изучите конструкцию Python `try` \\ `except`.\\\n",
    "Вот псевдокод , который поможет лучше разобраться с этой конструкцией:"
   ]
  },
  {
   "cell_type": "code",
   "execution_count": null,
   "metadata": {},
   "outputs": [],
   "source": [
    "def ...():\n",
    "    try: # Помещаете то, что должно выполниться внутрь try, если же внутри try появляется ошибка, то условие переключается на оператор except и выполняется всё то, что находится внутри except.\n",
    "        ------\n",
    "        return ...\n",
    "    except:\n",
    "        ------\n",
    "        return ...\n",
    "\n",
    "df[..].apply(...)"
   ]
  }
 ],
 "metadata": {
  "kernelspec": {
   "display_name": "Python 3",
   "language": "python",
   "name": "python3"
  },
  "language_info": {
   "codemirror_mode": {
    "name": "ipython",
    "version": 3
   },
   "file_extension": ".py",
   "mimetype": "text/x-python",
   "name": "python",
   "nbconvert_exporter": "python",
   "pygments_lexer": "ipython3",
   "version": "3.11.4"
  },
  "orig_nbformat": 4
 },
 "nbformat": 4,
 "nbformat_minor": 2
}
