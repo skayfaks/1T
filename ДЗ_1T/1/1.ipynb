{
 "cells": [
  {
   "cell_type": "markdown",
   "metadata": {},
   "source": [
    "Напишите программу, которая будет выводить на экран площадь квадрата и его периметр. Сторона квадрата будет равна 25.\n"
   ]
  },
  {
   "cell_type": "code",
   "execution_count": 2,
   "metadata": {},
   "outputs": [
    {
     "name": "stdout",
     "output_type": "stream",
     "text": [
      "площадь квадрата равна  625\n",
      "периметр квадрата равен  50\n"
     ]
    }
   ],
   "source": [
    "STORONA_KVADRATA = 25\n",
    "print('площадь квадрата равна ' , STORONA_KVADRATA**2)\n",
    "print('периметр квадрата равен ' , STORONA_KVADRATA+STORONA_KVADRATA)"
   ]
  },
  {
   "cell_type": "markdown",
   "metadata": {},
   "source": [
    "Напишите функцию, которая будет принимать два числа и считать сумму квадратов этих двух чисел, запишите своё вычисление в переменную squared.\n",
    "(Подсказка: Помните, чтобы записать результат функции в переменную, она должна этот результат внутри себя возвращать! Return ). "
   ]
  },
  {
   "cell_type": "code",
   "execution_count": 16,
   "metadata": {},
   "outputs": [
    {
     "name": "stdout",
     "output_type": "stream",
     "text": [
      "функция примет два ваших значения и вычислит сумму квадратов из них \n",
      "Результат работы функции = 538\n"
     ]
    }
   ],
   "source": [
    "print('функция примет два ваших значения и вычислит сумму квадратов из них ')\n",
    "a = int(input('Введите первое число: '))\n",
    "b = int(input('Введите второе число: '))\n",
    "\n",
    "def squared_funciton(a, b):\n",
    "    x = (a**2) + (b**2)\n",
    "    return x\n",
    "\n",
    "result = squared_funciton(a, b)\n",
    "print('Результат работы функции =', result)"
   ]
  },
  {
   "cell_type": "markdown",
   "metadata": {},
   "source": [
    "Напишите функцию, которая будет принимать на вход список  [“male“,“male“,“female“,“male“,“male“,“female“,”female“] и возвращать его в обратном порядке. Запишите список в переменную new_list. Подсказка: Вам поможет обратная индексация к спискам ! [::-1]. "
   ]
  },
  {
   "cell_type": "code",
   "execution_count": 20,
   "metadata": {},
   "outputs": [
    {
     "name": "stdout",
     "output_type": "stream",
     "text": [
      "['male', 'male', 'female', 'male', 'male', 'female', 'female']\n",
      "['female', 'female', 'male', 'male', 'female', 'male', 'male']\n"
     ]
    }
   ],
   "source": [
    "list = ['male','male','female','male','male','female','female']\n",
    "print(list)\n",
    "new_list = list[::-1]\n",
    "print(new_list)"
   ]
  },
  {
   "cell_type": "markdown",
   "metadata": {},
   "source": [
    "Напишите функцию, которая будет принимать на вход список (new_list) и идти по нему в цикле. На выходе функция должна вывести на экран: Кол-во мужчин 4, Кол-во женщин 3."
   ]
  },
  {
   "cell_type": "code",
   "execution_count": 56,
   "metadata": {},
   "outputs": [
    {
     "data": {
      "text/plain": [
       "(4, 3)"
      ]
     },
     "execution_count": 56,
     "metadata": {},
     "output_type": "execute_result"
    }
   ],
   "source": [
    "def count_gender(new_list):\n",
    "    kol_mens = 0\n",
    "    kol_womans = 0\n",
    "\n",
    "    for item in new_list:\n",
    "        if item == 'male':\n",
    "            kol_mens += 1\n",
    "        elif item == 'female':\n",
    "            kol_womans += 1\n",
    "    return kol_mens, kol_womans\n",
    " \n",
    "new_list = ['male','male','female','male','male','female','female'] # входные данные\n",
    "count_gender(new_list) # Функция возвращает кортэж из элементов"
   ]
  },
  {
   "cell_type": "code",
   "execution_count": 59,
   "metadata": {},
   "outputs": [
    {
     "name": "stdout",
     "output_type": "stream",
     "text": [
      "Кол-во мужчин: 4\n",
      "Кол-во женщин: 3\n"
     ]
    }
   ],
   "source": [
    "def count_gender(new_list):\n",
    "    kol_mens = 0\n",
    "    kol_womans = 0\n",
    "\n",
    "    for item in new_list:\n",
    "        if item == 'male':\n",
    "            kol_mens += 1\n",
    "        elif item == 'female':\n",
    "            kol_womans += 1\n",
    "\n",
    "    print(\"Кол-во мужчин:\", kol_mens)\n",
    "    print(\"Кол-во женщин:\", kol_womans)\n",
    "\n",
    "# в данном варианте внутри функции реализован механизм вывода на печать значений\n",
    "new_list = ['male','male','female','male','male','female','female']\n",
    "count_gender(new_list)"
   ]
  },
  {
   "cell_type": "code",
   "execution_count": 71,
   "metadata": {},
   "outputs": [
    {
     "name": "stdout",
     "output_type": "stream",
     "text": [
      "Кол-во мужчин: 4 Кол-во женщин: 3 Кол-во гамбургеров: 2\n"
     ]
    }
   ],
   "source": [
    "def count(in_data):\n",
    "    mens = 0\n",
    "    womens = 0\n",
    "    gamburger = 0\n",
    "\n",
    "    for i in in_data:\n",
    "        if i == 'male':\n",
    "           mens += 1\n",
    "        elif i == 'female':\n",
    "            womens += 1\n",
    "        elif i == 'bulka':\n",
    "            gamburger += 1\n",
    "\n",
    "    print(\"Кол-во мужчин:\", mens, \"Кол-во женщин:\", womens, \"Кол-во гамбургеров:\", gamburger)\n",
    "\n",
    "in_data = ['male','male','female','bulka','male','male','bulka','female','female']\n",
    "count(in_data)"
   ]
  },
  {
   "cell_type": "markdown",
   "metadata": {},
   "source": [
    "Напишите функцию, которая будет принимать строку (Например: “female”), а возвращать словарь где ключи — это символы строки, а значения кол-во символов в строке. "
   ]
  },
  {
   "cell_type": "code",
   "execution_count": 3,
   "metadata": {},
   "outputs": [
    {
     "name": "stdout",
     "output_type": "stream",
     "text": [
      "{'f': 1, 'e': 2, 'm': 1, 'a': 1, 'l': 1}\n"
     ]
    }
   ],
   "source": [
    "def function(strochnie_dannie):   # Объявляем функцию которая принемает один аргумент\n",
    "    slovar = {}                   # создаем переменную - пустой словарь куда будем подавать значения\n",
    "\n",
    "    for i in strochnie_dannie:    # цикл пробегает переменную со строчными данными\n",
    "        if i in slovar:           # проверяем находится ли уже этерируемый символ в словаре если да, то +1, если нет 1\n",
    "            slovar[i] += 1        # slovar[i] - это доступ к значению элемента словаря по ключу i\n",
    "        else:                     # если элемент с таким ключем есть мы полуаем его значение\n",
    "            slovar[i] = 1         # если элемент с таким ключем отсутствует создается новый элемент с ключем i и значением 0\n",
    "\n",
    "    return slovar\n",
    "\n",
    "strochnie_dannie = \"female\"\n",
    "rezultat = function(strochnie_dannie)\n",
    "print(rezultat)\n"
   ]
  },
  {
   "cell_type": "markdown",
   "metadata": {},
   "source": [
    "Воспользуйтесь функцией range в Python и выведите на экран сумму квадратов от 1 до 100 (включительно). "
   ]
  },
  {
   "cell_type": "code",
   "execution_count": 4,
   "metadata": {},
   "outputs": [
    {
     "name": "stdout",
     "output_type": "stream",
     "text": [
      "338350\n"
     ]
    }
   ],
   "source": [
    "summ_of=0               # создаем переменную с 0м значением для старта\n",
    "for i in range(1,101):  # цикл проходится по диапазону выполняя запись в переменную пока не дойдет до конца рэнжа\n",
    "    summ_of += i **  2  #\n",
    "\n",
    "print(summ_of)"
   ]
  },
  {
   "cell_type": "markdown",
   "metadata": {},
   "source": [
    "Укажите какой метод добавит значение в конец списка. Приведите пример."
   ]
  },
  {
   "cell_type": "code",
   "execution_count": 20,
   "metadata": {},
   "outputs": [
    {
     "name": "stdout",
     "output_type": "stream",
     "text": [
      "[1, 2, 3, 4, 5]\n",
      "[1, 2, 3, 4, 5, 444]\n"
     ]
    },
    {
     "data": {
      "text/plain": [
       "list"
      ]
     },
     "execution_count": 20,
     "metadata": {},
     "output_type": "execute_result"
    }
   ],
   "source": [
    "# .append()\n",
    "\n",
    "list = [1,2,3,4,5]\n",
    "\n",
    "print(list)\n",
    "list.append(444)\n",
    "print(list)\n",
    "type(list)"
   ]
  },
  {
   "cell_type": "markdown",
   "metadata": {},
   "source": [
    "Как объединить два списка \"a\" и \"b\" в один новый список \"c\"? Приведите пример."
   ]
  },
  {
   "cell_type": "code",
   "execution_count": 22,
   "metadata": {},
   "outputs": [
    {
     "name": "stdout",
     "output_type": "stream",
     "text": [
      "['1', '2', '3', 'a', 'b', 'c']\n"
     ]
    }
   ],
   "source": [
    "list_a = ['1','2','3']\n",
    "list_b = ['a','b','c']\n",
    "list_c= list_a + list_b\n",
    "print(list_c)"
   ]
  },
  {
   "cell_type": "markdown",
   "metadata": {},
   "source": [
    "Укажите какой метод посчитает количество значений в списке. Приведите пример."
   ]
  },
  {
   "cell_type": "code",
   "execution_count": 23,
   "metadata": {},
   "outputs": [
    {
     "name": "stdout",
     "output_type": "stream",
     "text": [
      "7\n"
     ]
    }
   ],
   "source": [
    "# .len() - используем метод. Ему надо ПЕРЕДАТь нашу переменную со списком\n",
    "\n",
    "sum_list = [1,2,3,4,5,6,7]\n",
    "dlinna = len(sum_list)\n",
    "print(dlinna)"
   ]
  },
  {
   "cell_type": "markdown",
   "metadata": {},
   "source": [
    "Исправьте следующий код, так чтобы он отрабатывал правильно \n",
    "\n",
    "x = 2**4\n",
    "y = 4**2\n",
    "if x < y:\n",
    "print(\"x меньше y\") \n",
    "else: \n",
    "print(\"x больше, либо равен y\")"
   ]
  },
  {
   "cell_type": "code",
   "execution_count": 3,
   "metadata": {},
   "outputs": [
    {
     "name": "stdout",
     "output_type": "stream",
     "text": [
      "x больше, либо равен y\n"
     ]
    }
   ],
   "source": [
    "x = 2**4\n",
    "y = 4**2\n",
    "if x < y:\n",
    "    print(\"x меньше y\") \n",
    "else: \n",
    "    print(\"x больше, либо равен y\")"
   ]
  }
 ],
 "metadata": {
  "kernelspec": {
   "display_name": "Python 3",
   "language": "python",
   "name": "python3"
  },
  "language_info": {
   "codemirror_mode": {
    "name": "ipython",
    "version": 3
   },
   "file_extension": ".py",
   "mimetype": "text/x-python",
   "name": "python",
   "nbconvert_exporter": "python",
   "pygments_lexer": "ipython3",
   "version": "3.11.4"
  },
  "orig_nbformat": 4
 },
 "nbformat": 4,
 "nbformat_minor": 2
}
