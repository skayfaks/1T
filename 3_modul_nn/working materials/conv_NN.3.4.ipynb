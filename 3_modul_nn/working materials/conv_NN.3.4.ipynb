{
 "cells": [
  {
   "cell_type": "code",
   "execution_count": 1,
   "metadata": {},
   "outputs": [],
   "source": [
    "import tensorflow as tf\n",
    "import numpy as np\n",
    "from keras.datasets import mnist, cifar10\n",
    "from keras.models import Sequential\n",
    "from keras.layers import Dense, Flatten, Conv2D, MaxPooling2D, Rescaling"
   ]
  },
  {
   "cell_type": "code",
   "execution_count": 2,
   "metadata": {},
   "outputs": [
    {
     "name": "stdout",
     "output_type": "stream",
     "text": [
      "Downloading data from https://storage.googleapis.com/tensorflow/tf-keras-datasets/mnist.npz\n",
      "11490434/11490434 [==============================] - 1s 0us/step\n"
     ]
    }
   ],
   "source": [
    "# Загрузка данных MNIST\n",
    "(x_train, y_train), (x_test, y_test) = mnist.load_data()\n",
    "\n",
    "# Нормализаци"
   ]
  },
  {
   "cell_type": "code",
   "execution_count": 3,
   "metadata": {},
   "outputs": [
    {
     "data": {
      "text/plain": [
       "(60000, 28, 28)"
      ]
     },
     "execution_count": 3,
     "metadata": {},
     "output_type": "execute_result"
    }
   ],
   "source": [
    "x_train.shape"
   ]
  },
  {
   "cell_type": "code",
   "execution_count": 5,
   "metadata": {},
   "outputs": [
    {
     "data": {
      "text/plain": [
       "(10000, 28, 28)"
      ]
     },
     "execution_count": 5,
     "metadata": {},
     "output_type": "execute_result"
    }
   ],
   "source": [
    "x_test.shape"
   ]
  },
  {
   "cell_type": "code",
   "execution_count": 6,
   "metadata": {},
   "outputs": [
    {
     "name": "stdout",
     "output_type": "stream",
     "text": [
      "Epoch 1/10\n",
      "1875/1875 [==============================] - 3s 1ms/step - loss: 0.4372 - accuracy: 0.8760 - val_loss: 0.2627 - val_accuracy: 0.9253\n",
      "Epoch 2/10\n",
      "1875/1875 [==============================] - 2s 1ms/step - loss: 0.2431 - accuracy: 0.9306 - val_loss: 0.2250 - val_accuracy: 0.9381\n",
      "Epoch 3/10\n",
      "1875/1875 [==============================] - 2s 1ms/step - loss: 0.2117 - accuracy: 0.9395 - val_loss: 0.2090 - val_accuracy: 0.9407\n",
      "Epoch 4/10\n",
      "1875/1875 [==============================] - 2s 1ms/step - loss: 0.1913 - accuracy: 0.9458 - val_loss: 0.1906 - val_accuracy: 0.9437\n",
      "Epoch 5/10\n",
      "1875/1875 [==============================] - 2s 1ms/step - loss: 0.1776 - accuracy: 0.9489 - val_loss: 0.1785 - val_accuracy: 0.9496\n",
      "Epoch 6/10\n",
      "1875/1875 [==============================] - 2s 1ms/step - loss: 0.1671 - accuracy: 0.9519 - val_loss: 0.1734 - val_accuracy: 0.9491\n",
      "Epoch 7/10\n",
      "1875/1875 [==============================] - 2s 1ms/step - loss: 0.1582 - accuracy: 0.9547 - val_loss: 0.1814 - val_accuracy: 0.9463\n",
      "Epoch 8/10\n",
      "1875/1875 [==============================] - 2s 1ms/step - loss: 0.1518 - accuracy: 0.9567 - val_loss: 0.1742 - val_accuracy: 0.9472\n",
      "Epoch 9/10\n",
      "1875/1875 [==============================] - 2s 1ms/step - loss: 0.1467 - accuracy: 0.9574 - val_loss: 0.1621 - val_accuracy: 0.9520\n",
      "Epoch 10/10\n",
      "1875/1875 [==============================] - 2s 1ms/step - loss: 0.1418 - accuracy: 0.9586 - val_loss: 0.1594 - val_accuracy: 0.9540\n",
      "313/313 [==============================] - 0s 820us/step - loss: 0.1594 - accuracy: 0.9540\n",
      "Test accuracy: 0.9539999961853027\n"
     ]
    }
   ],
   "source": [
    "# Создание модели\n",
    "model = Sequential()\n",
    "model.add(Flatten(input_shape=(28, 28))) # ---> приводит к размеру (кол-во наблюдений, 28*28)\n",
    "model.add(Dense(16, activation='relu'))\n",
    "model.add(Dense(10, activation='softmax'))\n",
    "\n",
    "# Компиляция модели\n",
    "model.compile(optimizer='adam',\n",
    "              loss='sparse_categorical_crossentropy',\n",
    "              metrics=['accuracy'])\n",
    "\n",
    "# Обучение модели\n",
    "model.fit(x_train, y_train, epochs=10, batch_size=32, validation_data=(x_test, y_test))\n",
    "\n",
    "# Оценка модели на тестовых данных\n",
    "test_loss, test_acc = model.evaluate(x_test, y_test)\n",
    "print('Test accuracy:', test_acc)"
   ]
  },
  {
   "cell_type": "code",
   "execution_count": 7,
   "metadata": {},
   "outputs": [
    {
     "name": "stdout",
     "output_type": "stream",
     "text": [
      "313/313 [==============================] - 0s 785us/step\n"
     ]
    }
   ],
   "source": [
    "preds = model.predict(x_test)"
   ]
  },
  {
   "cell_type": "code",
   "execution_count": 8,
   "metadata": {},
   "outputs": [],
   "source": [
    "import pandas as pd"
   ]
  },
  {
   "cell_type": "code",
   "execution_count": 9,
   "metadata": {},
   "outputs": [
    {
     "data": {
      "text/html": [
       "<div>\n",
       "<style scoped>\n",
       "    .dataframe tbody tr th:only-of-type {\n",
       "        vertical-align: middle;\n",
       "    }\n",
       "\n",
       "    .dataframe tbody tr th {\n",
       "        vertical-align: top;\n",
       "    }\n",
       "\n",
       "    .dataframe thead th {\n",
       "        text-align: right;\n",
       "    }\n",
       "</style>\n",
       "<table border=\"1\" class=\"dataframe\">\n",
       "  <thead>\n",
       "    <tr style=\"text-align: right;\">\n",
       "      <th></th>\n",
       "      <th>0</th>\n",
       "      <th>1</th>\n",
       "      <th>2</th>\n",
       "      <th>3</th>\n",
       "      <th>4</th>\n",
       "      <th>5</th>\n",
       "      <th>6</th>\n",
       "      <th>7</th>\n",
       "      <th>8</th>\n",
       "      <th>9</th>\n",
       "    </tr>\n",
       "  </thead>\n",
       "  <tbody>\n",
       "    <tr>\n",
       "      <th>0</th>\n",
       "      <td>4.134074e-05</td>\n",
       "      <td>8.778303e-08</td>\n",
       "      <td>1.461186e-03</td>\n",
       "      <td>3.473181e-03</td>\n",
       "      <td>1.101633e-09</td>\n",
       "      <td>2.443823e-05</td>\n",
       "      <td>2.336721e-09</td>\n",
       "      <td>9.929356e-01</td>\n",
       "      <td>3.134543e-05</td>\n",
       "      <td>2.032818e-03</td>\n",
       "    </tr>\n",
       "    <tr>\n",
       "      <th>1</th>\n",
       "      <td>8.265173e-07</td>\n",
       "      <td>2.797295e-05</td>\n",
       "      <td>9.996056e-01</td>\n",
       "      <td>1.279244e-05</td>\n",
       "      <td>4.052081e-20</td>\n",
       "      <td>2.384936e-04</td>\n",
       "      <td>1.127349e-04</td>\n",
       "      <td>7.557340e-17</td>\n",
       "      <td>1.502009e-06</td>\n",
       "      <td>2.959884e-15</td>\n",
       "    </tr>\n",
       "    <tr>\n",
       "      <th>2</th>\n",
       "      <td>9.244880e-07</td>\n",
       "      <td>9.943626e-01</td>\n",
       "      <td>2.833278e-03</td>\n",
       "      <td>1.651506e-03</td>\n",
       "      <td>6.482225e-05</td>\n",
       "      <td>1.038698e-04</td>\n",
       "      <td>8.463333e-06</td>\n",
       "      <td>1.927109e-04</td>\n",
       "      <td>7.530438e-04</td>\n",
       "      <td>2.878989e-05</td>\n",
       "    </tr>\n",
       "    <tr>\n",
       "      <th>3</th>\n",
       "      <td>9.997229e-01</td>\n",
       "      <td>2.671667e-13</td>\n",
       "      <td>8.620977e-05</td>\n",
       "      <td>9.803583e-07</td>\n",
       "      <td>1.877389e-08</td>\n",
       "      <td>8.108210e-05</td>\n",
       "      <td>8.792746e-05</td>\n",
       "      <td>1.014995e-05</td>\n",
       "      <td>7.161099e-06</td>\n",
       "      <td>3.551088e-06</td>\n",
       "    </tr>\n",
       "    <tr>\n",
       "      <th>4</th>\n",
       "      <td>3.713658e-05</td>\n",
       "      <td>5.962556e-09</td>\n",
       "      <td>8.400447e-04</td>\n",
       "      <td>1.400205e-04</td>\n",
       "      <td>9.804007e-01</td>\n",
       "      <td>1.762303e-04</td>\n",
       "      <td>1.921002e-04</td>\n",
       "      <td>5.229003e-03</td>\n",
       "      <td>8.096891e-05</td>\n",
       "      <td>1.290386e-02</td>\n",
       "    </tr>\n",
       "    <tr>\n",
       "      <th>...</th>\n",
       "      <td>...</td>\n",
       "      <td>...</td>\n",
       "      <td>...</td>\n",
       "      <td>...</td>\n",
       "      <td>...</td>\n",
       "      <td>...</td>\n",
       "      <td>...</td>\n",
       "      <td>...</td>\n",
       "      <td>...</td>\n",
       "      <td>...</td>\n",
       "    </tr>\n",
       "    <tr>\n",
       "      <th>9995</th>\n",
       "      <td>3.248052e-11</td>\n",
       "      <td>9.436812e-11</td>\n",
       "      <td>9.998957e-01</td>\n",
       "      <td>1.041806e-04</td>\n",
       "      <td>2.449321e-17</td>\n",
       "      <td>3.296659e-12</td>\n",
       "      <td>3.135531e-14</td>\n",
       "      <td>1.695383e-12</td>\n",
       "      <td>6.494322e-08</td>\n",
       "      <td>3.987786e-12</td>\n",
       "    </tr>\n",
       "    <tr>\n",
       "      <th>9996</th>\n",
       "      <td>2.356292e-12</td>\n",
       "      <td>6.266039e-10</td>\n",
       "      <td>6.011727e-08</td>\n",
       "      <td>9.999520e-01</td>\n",
       "      <td>8.153111e-19</td>\n",
       "      <td>4.792581e-05</td>\n",
       "      <td>1.038263e-15</td>\n",
       "      <td>4.053628e-11</td>\n",
       "      <td>2.582249e-09</td>\n",
       "      <td>3.590252e-08</td>\n",
       "    </tr>\n",
       "    <tr>\n",
       "      <th>9997</th>\n",
       "      <td>7.798005e-14</td>\n",
       "      <td>3.501688e-10</td>\n",
       "      <td>1.596757e-09</td>\n",
       "      <td>2.449262e-07</td>\n",
       "      <td>9.967400e-01</td>\n",
       "      <td>4.462437e-06</td>\n",
       "      <td>3.333900e-09</td>\n",
       "      <td>1.193353e-05</td>\n",
       "      <td>4.923301e-05</td>\n",
       "      <td>3.194091e-03</td>\n",
       "    </tr>\n",
       "    <tr>\n",
       "      <th>9998</th>\n",
       "      <td>1.985330e-12</td>\n",
       "      <td>2.430465e-08</td>\n",
       "      <td>2.397053e-10</td>\n",
       "      <td>3.269309e-05</td>\n",
       "      <td>4.583364e-10</td>\n",
       "      <td>9.999621e-01</td>\n",
       "      <td>8.554326e-11</td>\n",
       "      <td>4.462077e-13</td>\n",
       "      <td>5.222988e-06</td>\n",
       "      <td>6.979444e-10</td>\n",
       "    </tr>\n",
       "    <tr>\n",
       "      <th>9999</th>\n",
       "      <td>5.491219e-08</td>\n",
       "      <td>6.728930e-16</td>\n",
       "      <td>8.765864e-07</td>\n",
       "      <td>1.993196e-12</td>\n",
       "      <td>2.709953e-07</td>\n",
       "      <td>4.593155e-08</td>\n",
       "      <td>9.999988e-01</td>\n",
       "      <td>3.181101e-11</td>\n",
       "      <td>4.782028e-10</td>\n",
       "      <td>3.024502e-13</td>\n",
       "    </tr>\n",
       "  </tbody>\n",
       "</table>\n",
       "<p>10000 rows × 10 columns</p>\n",
       "</div>"
      ],
      "text/plain": [
       "                 0             1             2             3             4  \\\n",
       "0     4.134074e-05  8.778303e-08  1.461186e-03  3.473181e-03  1.101633e-09   \n",
       "1     8.265173e-07  2.797295e-05  9.996056e-01  1.279244e-05  4.052081e-20   \n",
       "2     9.244880e-07  9.943626e-01  2.833278e-03  1.651506e-03  6.482225e-05   \n",
       "3     9.997229e-01  2.671667e-13  8.620977e-05  9.803583e-07  1.877389e-08   \n",
       "4     3.713658e-05  5.962556e-09  8.400447e-04  1.400205e-04  9.804007e-01   \n",
       "...            ...           ...           ...           ...           ...   \n",
       "9995  3.248052e-11  9.436812e-11  9.998957e-01  1.041806e-04  2.449321e-17   \n",
       "9996  2.356292e-12  6.266039e-10  6.011727e-08  9.999520e-01  8.153111e-19   \n",
       "9997  7.798005e-14  3.501688e-10  1.596757e-09  2.449262e-07  9.967400e-01   \n",
       "9998  1.985330e-12  2.430465e-08  2.397053e-10  3.269309e-05  4.583364e-10   \n",
       "9999  5.491219e-08  6.728930e-16  8.765864e-07  1.993196e-12  2.709953e-07   \n",
       "\n",
       "                 5             6             7             8             9  \n",
       "0     2.443823e-05  2.336721e-09  9.929356e-01  3.134543e-05  2.032818e-03  \n",
       "1     2.384936e-04  1.127349e-04  7.557340e-17  1.502009e-06  2.959884e-15  \n",
       "2     1.038698e-04  8.463333e-06  1.927109e-04  7.530438e-04  2.878989e-05  \n",
       "3     8.108210e-05  8.792746e-05  1.014995e-05  7.161099e-06  3.551088e-06  \n",
       "4     1.762303e-04  1.921002e-04  5.229003e-03  8.096891e-05  1.290386e-02  \n",
       "...            ...           ...           ...           ...           ...  \n",
       "9995  3.296659e-12  3.135531e-14  1.695383e-12  6.494322e-08  3.987786e-12  \n",
       "9996  4.792581e-05  1.038263e-15  4.053628e-11  2.582249e-09  3.590252e-08  \n",
       "9997  4.462437e-06  3.333900e-09  1.193353e-05  4.923301e-05  3.194091e-03  \n",
       "9998  9.999621e-01  8.554326e-11  4.462077e-13  5.222988e-06  6.979444e-10  \n",
       "9999  4.593155e-08  9.999988e-01  3.181101e-11  4.782028e-10  3.024502e-13  \n",
       "\n",
       "[10000 rows x 10 columns]"
      ]
     },
     "execution_count": 9,
     "metadata": {},
     "output_type": "execute_result"
    }
   ],
   "source": [
    "pd.DataFrame(preds)"
   ]
  },
  {
   "cell_type": "code",
   "execution_count": 10,
   "metadata": {},
   "outputs": [
    {
     "data": {
      "text/plain": [
       "array([7, 2, 1, ..., 4, 5, 6], dtype=int64)"
      ]
     },
     "execution_count": 10,
     "metadata": {},
     "output_type": "execute_result"
    }
   ],
   "source": [
    "np.argmax(preds, axis=1)"
   ]
  },
  {
   "cell_type": "code",
   "execution_count": 11,
   "metadata": {},
   "outputs": [],
   "source": [
    "# Загрузка данных MNIST\n",
    "(x_train, y_train), (x_test, y_test) = mnist.load_data()\n",
    "\n",
    "# Размерность данных\n",
    "input_shape = (28, 28, 1) \n",
    "\n",
    "# Преобразование данных и нормализация\n",
    "x_train = x_train.reshape(x_train.shape[0], *input_shape) # ---> аналогично x_train.reshape(60000, 28, 28, 1) с одним ЦВЕТОВЫМ ФИЛЬТРОМ\n",
    "x_test = x_test.reshape(x_test.shape[0], *input_shape)\n",
    "x_train = x_train / 255.0\n",
    "x_test = x_test / 255.0"
   ]
  },
  {
   "cell_type": "code",
   "execution_count": 12,
   "metadata": {},
   "outputs": [
    {
     "name": "stdout",
     "output_type": "stream",
     "text": [
      "Epoch 1/10\n",
      "1875/1875 [==============================] - 11s 6ms/step - loss: 0.2110 - accuracy: 0.9380 - val_loss: 0.0800 - val_accuracy: 0.9759\n",
      "Epoch 2/10\n",
      "1875/1875 [==============================] - 11s 6ms/step - loss: 0.0711 - accuracy: 0.9787 - val_loss: 0.0552 - val_accuracy: 0.9822\n",
      "Epoch 3/10\n",
      "1875/1875 [==============================] - 10s 6ms/step - loss: 0.0515 - accuracy: 0.9845 - val_loss: 0.0479 - val_accuracy: 0.9851\n",
      "Epoch 4/10\n",
      "1875/1875 [==============================] - 10s 5ms/step - loss: 0.0408 - accuracy: 0.9874 - val_loss: 0.0472 - val_accuracy: 0.9842\n",
      "Epoch 5/10\n",
      "1875/1875 [==============================] - 10s 5ms/step - loss: 0.0339 - accuracy: 0.9895 - val_loss: 0.0429 - val_accuracy: 0.9873\n",
      "Epoch 6/10\n",
      "1875/1875 [==============================] - 10s 5ms/step - loss: 0.0273 - accuracy: 0.9918 - val_loss: 0.0499 - val_accuracy: 0.9842\n",
      "Epoch 7/10\n",
      "1875/1875 [==============================] - 10s 5ms/step - loss: 0.0222 - accuracy: 0.9930 - val_loss: 0.0450 - val_accuracy: 0.9861\n",
      "Epoch 8/10\n",
      "1875/1875 [==============================] - 10s 5ms/step - loss: 0.0188 - accuracy: 0.9941 - val_loss: 0.0420 - val_accuracy: 0.9868\n",
      "Epoch 9/10\n",
      "1875/1875 [==============================] - 10s 5ms/step - loss: 0.0151 - accuracy: 0.9950 - val_loss: 0.0461 - val_accuracy: 0.9856\n",
      "Epoch 10/10\n",
      "1875/1875 [==============================] - 10s 5ms/step - loss: 0.0121 - accuracy: 0.9960 - val_loss: 0.0514 - val_accuracy: 0.9847\n",
      "313/313 [==============================] - 1s 2ms/step - loss: 0.0514 - accuracy: 0.9847\n",
      "Test accuracy: 0.9847000241279602\n"
     ]
    }
   ],
   "source": [
    "# Создание модели\n",
    "model = Sequential()\n",
    "model.add(Conv2D(32, kernel_size=(4, 4), activation='relu', input_shape=input_shape))\n",
    "model.add(MaxPooling2D(pool_size=(2, 2)))\n",
    "model.add(Flatten())\n",
    "model.add(Dense(16, activation='relu'))\n",
    "model.add(Dense(10, activation='softmax'))\n",
    "\n",
    "# Компиляция модели\n",
    "model.compile(optimizer='adam',\n",
    "              loss='sparse_categorical_crossentropy',\n",
    "              metrics=['accuracy'])\n",
    "\n",
    "# Обучение модели\n",
    "model.fit(x_train, y_train, epochs=10, batch_size=32, validation_data=(x_test, y_test))\n",
    "\n",
    "# Оценка модели на тестовых данных\n",
    "test_loss, test_acc = model.evaluate(x_test, y_test)\n",
    "print('Test accuracy:', test_acc)"
   ]
  },
  {
   "cell_type": "code",
   "execution_count": 14,
   "metadata": {},
   "outputs": [
    {
     "name": "stdout",
     "output_type": "stream",
     "text": [
      "Downloading data from https://www.cs.toronto.edu/~kriz/cifar-10-python.tar.gz\n",
      "170498071/170498071 [==============================] - 12s 0us/step\n"
     ]
    }
   ],
   "source": [
    "# Загрузка данных CIFAR-10\n",
    "(x_train, y_train), (x_test, y_test) = cifar10.load_data()\n",
    "\n",
    "# Преобразование и нормализация данных\n",
    "x_train = x_train / 255.0\n",
    "x_test = x_test / 255.0"
   ]
  },
  {
   "cell_type": "code",
   "execution_count": 16,
   "metadata": {},
   "outputs": [
    {
     "data": {
      "text/plain": [
       "(50000, 32, 32, 3)"
      ]
     },
     "execution_count": 16,
     "metadata": {},
     "output_type": "execute_result"
    }
   ],
   "source": [
    "x_train.shape"
   ]
  },
  {
   "cell_type": "code",
   "execution_count": 18,
   "metadata": {},
   "outputs": [
    {
     "name": "stdout",
     "output_type": "stream",
     "text": [
      "Epoch 1/10\n",
      "391/391 [==============================] - 24s 60ms/step - loss: 1.6861 - accuracy: 0.3798 - val_loss: 1.4226 - val_accuracy: 0.4798\n",
      "Epoch 2/10\n",
      "391/391 [==============================] - 23s 59ms/step - loss: 1.3255 - accuracy: 0.5203 - val_loss: 1.2266 - val_accuracy: 0.5589\n",
      "Epoch 3/10\n",
      "391/391 [==============================] - 23s 58ms/step - loss: 1.1754 - accuracy: 0.5804 - val_loss: 1.1528 - val_accuracy: 0.5849\n",
      "Epoch 4/10\n",
      "391/391 [==============================] - 23s 58ms/step - loss: 1.0681 - accuracy: 0.6197 - val_loss: 1.0895 - val_accuracy: 0.6063\n",
      "Epoch 5/10\n",
      "391/391 [==============================] - 23s 59ms/step - loss: 0.9831 - accuracy: 0.6508 - val_loss: 1.0200 - val_accuracy: 0.6378\n",
      "Epoch 6/10\n",
      "391/391 [==============================] - 23s 58ms/step - loss: 0.9322 - accuracy: 0.6695 - val_loss: 0.9422 - val_accuracy: 0.6635\n",
      "Epoch 7/10\n",
      "391/391 [==============================] - 23s 58ms/step - loss: 0.8776 - accuracy: 0.6899 - val_loss: 0.9248 - val_accuracy: 0.6743\n",
      "Epoch 8/10\n",
      "391/391 [==============================] - 23s 58ms/step - loss: 0.8334 - accuracy: 0.7065 - val_loss: 0.9149 - val_accuracy: 0.6785\n",
      "Epoch 9/10\n",
      "391/391 [==============================] - 24s 62ms/step - loss: 0.8090 - accuracy: 0.7161 - val_loss: 0.9057 - val_accuracy: 0.6820\n",
      "Epoch 10/10\n",
      "391/391 [==============================] - 23s 60ms/step - loss: 0.7803 - accuracy: 0.7255 - val_loss: 0.8920 - val_accuracy: 0.6899\n",
      "313/313 [==============================] - 3s 8ms/step - loss: 0.8920 - accuracy: 0.6899\n",
      "Test accuracy: 0.6898999810218811\n"
     ]
    }
   ],
   "source": [
    "# Создание модели\n",
    "model = Sequential()\n",
    "model.add(Conv2D(32, (3, 3), activation='relu', padding='same', input_shape=(32, 32, 3)))\n",
    "model.add(MaxPooling2D(pool_size=(2, 2)))\n",
    "\n",
    "model.add(Conv2D(32, 3, activation='relu', padding='same'))\n",
    "model.add(MaxPooling2D(pool_size=(2, 2)))\n",
    "\n",
    "model.add(Conv2D(32, 3, activation='relu', padding='same'))\n",
    "model.add(MaxPooling2D(pool_size=(2, 2)))\n",
    "\n",
    "model.add(Conv2D(32, 3, activation='relu', padding='same'))\n",
    "model.add(MaxPooling2D(pool_size=(2, 2)))\n",
    "\n",
    "model.add(Flatten())\n",
    "model.add(Dense(256, activation='relu'))\n",
    "model.add(Dense(10, activation='softmax'))\n",
    "\n",
    "# Компиляция модели\n",
    "model.compile(optimizer='adam',\n",
    "              loss='sparse_categorical_crossentropy',\n",
    "              metrics=['accuracy'])\n",
    "\n",
    "# Обучение модели\n",
    "model.fit(x_train, y_train, epochs=10, batch_size=128, validation_data=(x_test, y_test))\n",
    "\n",
    "# Оценка модели на тестовых данных\n",
    "test_loss, test_acc = model.evaluate(x_test, y_test)\n",
    "print('Test accuracy:', test_acc)"
   ]
  },
  {
   "cell_type": "markdown",
   "metadata": {},
   "source": [
    "### Пример как можно загрузить свой датасет изображений в Keras"
   ]
  },
  {
   "cell_type": "code",
   "execution_count": 25,
   "metadata": {},
   "outputs": [
    {
     "name": "stdout",
     "output_type": "stream",
     "text": [
      "Found 6862 files belonging to 11 classes.\n",
      "Using 5490 files for training.\n",
      "Using 1372 files for validation.\n"
     ]
    }
   ],
   "source": [
    "import os\n",
    "# Установите кодировку UTF-8 для правильной обработки русских символов\n",
    "os.environ['PYTHONIOENCODING'] = 'utf-8'\n",
    "path = r'D:\\weather_dataset'\n",
    "\n",
    "train_ds, val_ds = tf.keras.utils.image_dataset_from_directory(\n",
    "  path,\n",
    "  validation_split=0.2,\n",
    "  subset='both', # разбиение данных и на тренировочную и на валидационную части \n",
    "  seed=123,\n",
    "  image_size=(128, 128),\n",
    "  batch_size=128)"
   ]
  },
  {
   "cell_type": "code",
   "execution_count": 27,
   "metadata": {},
   "outputs": [],
   "source": [
    "model = Sequential()\n",
    "model.add(Rescaling(1./255))\n",
    "model.add(Conv2D(64, (3, 3), activation='relu', padding='same'))\n",
    "model.add(MaxPooling2D(pool_size=(2, 2)))\n",
    "model.add(Conv2D(128, (3, 3), activation='relu', padding='same'))\n",
    "model.add(MaxPooling2D(pool_size=(2, 2)))\n",
    "\n",
    "model.add(Flatten())\n",
    "model.add(Dense(256, activation='relu'))\n",
    "model.add(Dense(64, activation='relu'))\n",
    "model.add(Dense(11, activation='softmax'))\n",
    "\n",
    "# Компиляция модели\n",
    "model.compile(optimizer='adam',\n",
    "              loss='sparse_categorical_crossentropy',\n",
    "              metrics=['accuracy'])\n",
    "# В ДЗ бинарная классификация -> функция активации и loss будут другие\n",
    "# можно добавить Дропауты, бачнормы, L1 и  L2 регуляризации"
   ]
  },
  {
   "cell_type": "code",
   "execution_count": 28,
   "metadata": {},
   "outputs": [
    {
     "name": "stdout",
     "output_type": "stream",
     "text": [
      "Epoch 1/10\n"
     ]
    },
    {
     "name": "stdout",
     "output_type": "stream",
     "text": [
      "43/43 [==============================] - 100s 2s/step - loss: 2.2159 - accuracy: 0.3774 - val_loss: 1.3981 - val_accuracy: 0.5372\n",
      "Epoch 2/10\n",
      "43/43 [==============================] - 91s 2s/step - loss: 1.1576 - accuracy: 0.6137 - val_loss: 1.0779 - val_accuracy: 0.6363\n",
      "Epoch 3/10\n",
      "43/43 [==============================] - 89s 2s/step - loss: 0.8872 - accuracy: 0.7058 - val_loss: 1.0504 - val_accuracy: 0.6727\n",
      "Epoch 4/10\n",
      "43/43 [==============================] - 94s 2s/step - loss: 0.7368 - accuracy: 0.7536 - val_loss: 0.9528 - val_accuracy: 0.7004\n",
      "Epoch 5/10\n",
      "43/43 [==============================] - 91s 2s/step - loss: 0.6391 - accuracy: 0.7883 - val_loss: 0.8720 - val_accuracy: 0.7165\n",
      "Epoch 6/10\n",
      "43/43 [==============================] - 94s 2s/step - loss: 0.4430 - accuracy: 0.8585 - val_loss: 0.9934 - val_accuracy: 0.7012\n",
      "Epoch 7/10\n",
      "43/43 [==============================] - 93s 2s/step - loss: 0.3465 - accuracy: 0.8858 - val_loss: 1.0119 - val_accuracy: 0.7347\n",
      "Epoch 8/10\n",
      "43/43 [==============================] - 95s 2s/step - loss: 0.2410 - accuracy: 0.9235 - val_loss: 1.0131 - val_accuracy: 0.7347\n",
      "Epoch 9/10\n",
      "43/43 [==============================] - 90s 2s/step - loss: 0.1636 - accuracy: 0.9556 - val_loss: 1.0429 - val_accuracy: 0.7544\n",
      "Epoch 10/10\n",
      "43/43 [==============================] - 95s 2s/step - loss: 0.1166 - accuracy: 0.9672 - val_loss: 1.2013 - val_accuracy: 0.7296\n"
     ]
    },
    {
     "data": {
      "text/plain": [
       "<keras.src.callbacks.History at 0x1c9051ff090>"
      ]
     },
     "execution_count": 28,
     "metadata": {},
     "output_type": "execute_result"
    }
   ],
   "source": [
    "model.fit(train_ds, validation_data=val_ds, epochs=10)"
   ]
  }
 ],
 "metadata": {
  "kernelspec": {
   "display_name": "Python 3",
   "language": "python",
   "name": "python3"
  },
  "language_info": {
   "codemirror_mode": {
    "name": "ipython",
    "version": 3
   },
   "file_extension": ".py",
   "mimetype": "text/x-python",
   "name": "python",
   "nbconvert_exporter": "python",
   "pygments_lexer": "ipython3",
   "version": "3.11.6"
  }
 },
 "nbformat": 4,
 "nbformat_minor": 2
}
