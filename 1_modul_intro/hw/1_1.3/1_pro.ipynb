{
 "cells": [
  {
   "cell_type": "markdown",
   "metadata": {},
   "source": [
    "Написать программу, которая будет выводить на экран числа Фибоначчи до заданного числа."
   ]
  },
  {
   "cell_type": "markdown",
   "metadata": {},
   "source": [
    "Числа Фибоначчи — это последовательность чисел, которые задаются по определённому правилу. Оно звучит так: каждое следующее число равно сумме двух предыдущих. Первые два числа заданы сразу и равны 0 и 1.\n",
    "\n",
    "Вот как выглядит последовательность Фибоначчи:\n",
    "0, 1, 1, 2, 3, 5, 8, 13, 21, 34, 55, 89, 144, 233, 377, 610, 987, 1597, 2584, 4181, … , ∞\n",
    "\n",
    "В программировании последовательность Фибоначчи используют для создания криптографических алгоритмов и 3D-моделей"
   ]
  },
  {
   "cell_type": "code",
   "execution_count": 6,
   "metadata": {},
   "outputs": [
    {
     "name": "stdout",
     "output_type": "stream",
     "text": [
      "0\n",
      "1\n",
      "1\n"
     ]
    }
   ],
   "source": [
    "def fib(n):\n",
    "    fib_s = []  # Создаем пустой список, в котором будем хранить числа Фибоначчи\n",
    "    a, b = 0, 1        # Инициализируем первые два числа последовательности\n",
    "\n",
    "    while a <= n:\n",
    "        fib_s.append(a)  # Добавляем текущее число в список\n",
    "        a, b = b, a + b         # Генерируем следующее число Фибоначчи\n",
    "\n",
    "    return fib_s\n",
    "\n",
    "number = int(input(\"Введите число: \")) # Запрашиваем у пользователя число, до которого нужно вывести числа Фибоначчи\n",
    "fib_numbers = fib(number) # Получаем список чисел Фибоначчи до заданного числа\n",
    "\n",
    "for num in fib_numbers: # Выводим числа Фибоначчи на экран\n",
    "    print(num)\n"
   ]
  },
  {
   "cell_type": "code",
   "execution_count": 1,
   "metadata": {},
   "outputs": [
    {
     "name": "stdout",
     "output_type": "stream",
     "text": [
      "1\n",
      "1\n",
      "2\n",
      "3\n",
      "5\n",
      "8\n",
      "13\n"
     ]
    }
   ],
   "source": [
    "end = 20\n",
    "f1=0\n",
    "f2=1\n",
    "f3=0\n",
    "while f3<end:\n",
    "    f1,f2=f2,f3\n",
    "    f3=f1+f2\n",
    "    if f3>end: # Если  нет этого условия, то цикл может выполнятся лишний раз и вывести число, которое потом окажется\n",
    "        break\n",
    "    print(f3)"
   ]
  },
  {
   "cell_type": "markdown",
   "metadata": {},
   "source": [
    "Напишите программу, которая на вход принимает список чисел и возвращает только уникальные значения из этого списка."
   ]
  },
  {
   "cell_type": "code",
   "execution_count": 19,
   "metadata": {},
   "outputs": [
    {
     "name": "stdout",
     "output_type": "stream",
     "text": [
      "[1, 2, 3, 4, 5, 7777]\n"
     ]
    }
   ],
   "source": [
    "def uniq_num(nums):\n",
    "    nums_list = []                # Создаем пустой список, в котором будем хранить уникальные значения\n",
    "\n",
    "    for i in nums:\n",
    "        if i not in nums_list:         # Проверяем, если число уже есть в списке уникальных значений\n",
    "            nums_list.append(i)   # Добавляем число в список уникальных значений\n",
    "\n",
    "    return(nums_list)\n",
    "\n",
    "nums = [1,2,3,3,4,4,5,5,1,2,7777]\n",
    "\n",
    "x = uniq_num(nums)\n",
    "print(x)\n"
   ]
  },
  {
   "cell_type": "markdown",
   "metadata": {},
   "source": [
    "Напишите программу, которая переводит температуру в градусах Фаренгейта в градусы Цельсия."
   ]
  },
  {
   "cell_type": "markdown",
   "metadata": {},
   "source": [
    "Для перевода температуры из шкалы Фаренгейта в шкалу Цельсия нужно от исходного числа отнять 32 и умножить результат на 5/9 (0,5555555).\n",
    "Для перевода температуры из шкалы Цельсия в шкалу Фаренгейта нужно умножить исходное число на 9/5 (1,8) и прибавить 32."
   ]
  },
  {
   "cell_type": "code",
   "execution_count": 27,
   "metadata": {},
   "outputs": [
    {
     "name": "stdout",
     "output_type": "stream",
     "text": [
      "50.55555555555556\n"
     ]
    }
   ],
   "source": [
    "temp_inT = int(input('введи температуру в градусах Фаренгейта: '))\n",
    "temp_inF = (temp_inT - 32 )* (5/9)\n",
    "print(temp_inF)"
   ]
  },
  {
   "cell_type": "markdown",
   "metadata": {},
   "source": [
    "Напишите программу, которая проверяет, является ли строка палиндромом без использования стандартных методов."
   ]
  },
  {
   "cell_type": "markdown",
   "metadata": {},
   "source": [
    "Палиндром — это слово, фраза, число или другая последовательность символов, которая читается так же, как в прямом, так и в обратном направлении, игнорируя пробелы, знаки препинания и заглавные буквы."
   ]
  },
  {
   "cell_type": "code",
   "execution_count": 3,
   "metadata": {},
   "outputs": [
    {
     "name": "stdout",
     "output_type": "stream",
     "text": [
      "NO\n"
     ]
    }
   ],
   "source": [
    "a = (\"Anna\")\n",
    "if a == a[::-1]:\n",
    "    print(\"YES\")\n",
    "else:\n",
    "    print(\"NO\")"
   ]
  }
 ],
 "metadata": {
  "kernelspec": {
   "display_name": "Python 3",
   "language": "python",
   "name": "python3"
  },
  "language_info": {
   "codemirror_mode": {
    "name": "ipython",
    "version": 3
   },
   "file_extension": ".py",
   "mimetype": "text/x-python",
   "name": "python",
   "nbconvert_exporter": "python",
   "pygments_lexer": "ipython3",
   "version": "3.11.4"
  },
  "orig_nbformat": 4
 },
 "nbformat": 4,
 "nbformat_minor": 2
}
