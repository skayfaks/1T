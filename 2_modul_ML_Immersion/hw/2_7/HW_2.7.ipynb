{
 "cells": [
  {
   "cell_type": "markdown",
   "metadata": {},
   "source": [
    "\n",
    "`Основные цели этого задания:`\n",
    "\n",
    "- Научиться генерировать негативы.\n",
    "\n",
    "- Научиться настраивать алгоритмы коллаборативной фильтрации.\n",
    "\n",
    "`Задача:`\n",
    "\n",
    "`Научиться рекомендовать пользователям фильмы на основе факта просмотра фильмов пользователями. `\n",
    "\n",
    "`План решения:`\n",
    "\n",
    "Для решения задачи будем использовать те же данные, которые были использованы в скринкастах:\n",
    "\n",
    "MovieLens — источник данных.\n",
    "\n",
    "Предобработанные для обучения данные: история проставления оценок фильмам — ratings_df_sample_2.csv.\n",
    "\n",
    "\n",
    "Предположим, постановка рейтинга — обязательное по итогам просмотра фильмов действие. Основываясь на этом, сгенерируйте новый целевой признак «факт просмотра фильма пользователем», который будет равен 1 для всех пар пользователь * фильм из подгруженного датасета.\n",
    "\n",
    "А откуда взять «нолики»? В наших данных есть только пары пользователь * фильм, в которых пользователь точно смотрел фильм. Но для обучения модели нужны так называемые «негативы», то есть, пары, где пользователь фильм не смотрел. На практике приходится сталкиваться с необходимостью генерировать их вручную, давайте потренируемся это делать. \n",
    "\n",
    "- Сначала найдите уникальные id всех пользователей и уникальные id всех фильмов.\n",
    "\n",
    "- С помощью функции random.choice (документация) сгенерируйте случайные пары пользователь * фильм\n",
    "\n",
    "Поскольку среди сгенерированных пар могут быть и такие, что пользователь в них уже смотрел фильм, сгенерируйте побольше пар, например, удвоенное количество строк из источника. Это может занять пару минут.\n",
    "\n",
    "Среди сгенерированных пар могут быть и дубликаты, удалите их.\n",
    "\n",
    "Оставьте среди сгенерированных пар только те, в которых пользователь фильм не смотрел.\n",
    "\n",
    "Возможно, пар получилось больше, чем нужно, выберите из них столько, сколько у нас строк в исходных данных.\n",
    "\n",
    "Добавьте очищенные сгенерированные пары к исходным данным. Значение целевого признака в них будет равно нулю. Убедитесь, что у вас не появились дубликаты в датасете.\n",
    "\n",
    "`Подготовьте датасет к обучению:` отделите тестовую часть от тренировочной.\n",
    "\n",
    "`Обучите dummy-model.` Пусть она будет возвращать `случайную` вероятность принадлежности `классу 1`. Для этого можете использовать функцию `random.random` (документация). Оцените ее качество какой-то метрикой на свой вкус. Необходимо `прогнозировать именно вероятность`, чтобы была возможность ранжировать по ней варианты для рекомендации лучшего контента пользователю.\n",
    "\n",
    "`Реализуйте три алгоритма коллаборативной фильтрации`: user-, item-based и алгоритм на основе матричной факторизации. \n",
    "\n",
    "- Оцените их качество и адекватность. \n",
    "\n",
    "- Если качество недостаточно хорошее, попробуйте варьировать параметры: количество похожих пользователей/фильмов, количество элементов в матрицах при матричном разложении.\n",
    "\n",
    "Опишите `вывод`, содержащий информацию о том, `какой алгоритм проявил себя лучше всего`.\n",
    "\n",
    "----------------------"
   ]
  },
  {
   "cell_type": "code",
   "execution_count": 61,
   "metadata": {},
   "outputs": [],
   "source": [
    "import pandas as pd\n",
    "import numpy as np\n",
    "import scipy.sparse as sp\n",
    "\n",
    "import random\n",
    "from sklearn.feature_extraction.text import TfidfVectorizer\n",
    "from sklearn.metrics.pairwise import cosine_distances\n",
    "from sklearn.model_selection import train_test_split\n",
    "\n",
    "from sklearn.metrics import roc_auc_score, f1_score\n",
    "\n",
    "from scipy.sparse.linalg import svds\n",
    "\n",
    "pd.options.display.max_colwidth = 2000\n",
    "pd.options.display.float_format = '{:.2f}'.format"
   ]
  },
  {
   "cell_type": "code",
   "execution_count": 2,
   "metadata": {},
   "outputs": [],
   "source": [
    "ratings = pd.read_csv('ratings_df_sample_2.csv')\n",
    "movies = pd.read_csv('movies.csv')"
   ]
  },
  {
   "cell_type": "code",
   "execution_count": 3,
   "metadata": {},
   "outputs": [],
   "source": [
    "ratings.sort_values(by='movieId', ascending=True, inplace=True)"
   ]
  },
  {
   "cell_type": "code",
   "execution_count": 4,
   "metadata": {},
   "outputs": [
    {
     "name": "stdout",
     "output_type": "stream",
     "text": [
      "<class 'pandas.core.frame.DataFrame'>\n",
      "Index: 6040099 entries, 1071353 to 1099925\n",
      "Data columns (total 4 columns):\n",
      " #   Column     Dtype  \n",
      "---  ------     -----  \n",
      " 0   userId     int64  \n",
      " 1   movieId    int64  \n",
      " 2   rating     float64\n",
      " 3   timestamp  int64  \n",
      "dtypes: float64(1), int64(3)\n",
      "memory usage: 230.4 MB\n"
     ]
    }
   ],
   "source": [
    "ratings.info()"
   ]
  },
  {
   "cell_type": "markdown",
   "metadata": {},
   "source": [
    "- в ДФ ratings 4 фичи и 6040099 наблюдений"
   ]
  },
  {
   "cell_type": "code",
   "execution_count": 5,
   "metadata": {},
   "outputs": [
    {
     "data": {
      "text/html": [
       "<div>\n",
       "<style scoped>\n",
       "    .dataframe tbody tr th:only-of-type {\n",
       "        vertical-align: middle;\n",
       "    }\n",
       "\n",
       "    .dataframe tbody tr th {\n",
       "        vertical-align: top;\n",
       "    }\n",
       "\n",
       "    .dataframe thead th {\n",
       "        text-align: right;\n",
       "    }\n",
       "</style>\n",
       "<table border=\"1\" class=\"dataframe\">\n",
       "  <thead>\n",
       "    <tr style=\"text-align: right;\">\n",
       "      <th></th>\n",
       "      <th>userId</th>\n",
       "      <th>movieId</th>\n",
       "      <th>rating</th>\n",
       "      <th>timestamp</th>\n",
       "    </tr>\n",
       "  </thead>\n",
       "  <tbody>\n",
       "    <tr>\n",
       "      <th>1071353</th>\n",
       "      <td>43849</td>\n",
       "      <td>1</td>\n",
       "      <td>3.00</td>\n",
       "      <td>1017926714</td>\n",
       "    </tr>\n",
       "    <tr>\n",
       "      <th>5625543</th>\n",
       "      <td>6465</td>\n",
       "      <td>1</td>\n",
       "      <td>5.00</td>\n",
       "      <td>975982656</td>\n",
       "    </tr>\n",
       "    <tr>\n",
       "      <th>2544259</th>\n",
       "      <td>106217</td>\n",
       "      <td>1</td>\n",
       "      <td>3.50</td>\n",
       "      <td>1252286296</td>\n",
       "    </tr>\n",
       "  </tbody>\n",
       "</table>\n",
       "</div>"
      ],
      "text/plain": [
       "         userId  movieId  rating   timestamp\n",
       "1071353   43849        1    3.00  1017926714\n",
       "5625543    6465        1    5.00   975982656\n",
       "2544259  106217        1    3.50  1252286296"
      ]
     },
     "execution_count": 5,
     "metadata": {},
     "output_type": "execute_result"
    }
   ],
   "source": [
    "ratings.head(3)"
   ]
  },
  {
   "cell_type": "code",
   "execution_count": 6,
   "metadata": {},
   "outputs": [
    {
     "data": {
      "text/html": [
       "<div>\n",
       "<style scoped>\n",
       "    .dataframe tbody tr th:only-of-type {\n",
       "        vertical-align: middle;\n",
       "    }\n",
       "\n",
       "    .dataframe tbody tr th {\n",
       "        vertical-align: top;\n",
       "    }\n",
       "\n",
       "    .dataframe thead th {\n",
       "        text-align: right;\n",
       "    }\n",
       "</style>\n",
       "<table border=\"1\" class=\"dataframe\">\n",
       "  <thead>\n",
       "    <tr style=\"text-align: right;\">\n",
       "      <th></th>\n",
       "      <th>userId</th>\n",
       "      <th>movieId</th>\n",
       "      <th>rating</th>\n",
       "      <th>timestamp</th>\n",
       "    </tr>\n",
       "  </thead>\n",
       "  <tbody>\n",
       "    <tr>\n",
       "      <th>count</th>\n",
       "      <td>6040099.00</td>\n",
       "      <td>6040099.00</td>\n",
       "      <td>6040099.00</td>\n",
       "      <td>6040099.00</td>\n",
       "    </tr>\n",
       "    <tr>\n",
       "      <th>mean</th>\n",
       "      <td>68804.82</td>\n",
       "      <td>4822.96</td>\n",
       "      <td>3.55</td>\n",
       "      <td>1115774334.98</td>\n",
       "    </tr>\n",
       "    <tr>\n",
       "      <th>std</th>\n",
       "      <td>40102.24</td>\n",
       "      <td>11368.03</td>\n",
       "      <td>1.00</td>\n",
       "      <td>135843321.30</td>\n",
       "    </tr>\n",
       "    <tr>\n",
       "      <th>min</th>\n",
       "      <td>7.00</td>\n",
       "      <td>1.00</td>\n",
       "      <td>0.50</td>\n",
       "      <td>824835410.00</td>\n",
       "    </tr>\n",
       "    <tr>\n",
       "      <th>25%</th>\n",
       "      <td>34180.00</td>\n",
       "      <td>919.00</td>\n",
       "      <td>3.00</td>\n",
       "      <td>995660158.00</td>\n",
       "    </tr>\n",
       "    <tr>\n",
       "      <th>50%</th>\n",
       "      <td>68914.00</td>\n",
       "      <td>1876.00</td>\n",
       "      <td>4.00</td>\n",
       "      <td>1111706240.00</td>\n",
       "    </tr>\n",
       "    <tr>\n",
       "      <th>75%</th>\n",
       "      <td>103281.00</td>\n",
       "      <td>3448.00</td>\n",
       "      <td>4.00</td>\n",
       "      <td>1213151458.50</td>\n",
       "    </tr>\n",
       "    <tr>\n",
       "      <th>max</th>\n",
       "      <td>138493.00</td>\n",
       "      <td>81845.00</td>\n",
       "      <td>5.00</td>\n",
       "      <td>1427780469.00</td>\n",
       "    </tr>\n",
       "  </tbody>\n",
       "</table>\n",
       "</div>"
      ],
      "text/plain": [
       "          userId    movieId     rating     timestamp\n",
       "count 6040099.00 6040099.00 6040099.00    6040099.00\n",
       "mean    68804.82    4822.96       3.55 1115774334.98\n",
       "std     40102.24   11368.03       1.00  135843321.30\n",
       "min         7.00       1.00       0.50  824835410.00\n",
       "25%     34180.00     919.00       3.00  995660158.00\n",
       "50%     68914.00    1876.00       4.00 1111706240.00\n",
       "75%    103281.00    3448.00       4.00 1213151458.50\n",
       "max    138493.00   81845.00       5.00 1427780469.00"
      ]
     },
     "execution_count": 6,
     "metadata": {},
     "output_type": "execute_result"
    }
   ],
   "source": [
    "ratings.describe()"
   ]
  },
  {
   "cell_type": "code",
   "execution_count": 7,
   "metadata": {},
   "outputs": [
    {
     "data": {
      "text/html": [
       "<div>\n",
       "<style scoped>\n",
       "    .dataframe tbody tr th:only-of-type {\n",
       "        vertical-align: middle;\n",
       "    }\n",
       "\n",
       "    .dataframe tbody tr th {\n",
       "        vertical-align: top;\n",
       "    }\n",
       "\n",
       "    .dataframe thead th {\n",
       "        text-align: right;\n",
       "    }\n",
       "</style>\n",
       "<table border=\"1\" class=\"dataframe\">\n",
       "  <thead>\n",
       "    <tr style=\"text-align: right;\">\n",
       "      <th></th>\n",
       "      <th>movieId</th>\n",
       "      <th>title</th>\n",
       "      <th>genres</th>\n",
       "    </tr>\n",
       "  </thead>\n",
       "  <tbody>\n",
       "    <tr>\n",
       "      <th>0</th>\n",
       "      <td>1</td>\n",
       "      <td>Toy Story (1995)</td>\n",
       "      <td>Adventure|Animation|Children|Comedy|Fantasy</td>\n",
       "    </tr>\n",
       "    <tr>\n",
       "      <th>1</th>\n",
       "      <td>2</td>\n",
       "      <td>Jumanji (1995)</td>\n",
       "      <td>Adventure|Children|Fantasy</td>\n",
       "    </tr>\n",
       "    <tr>\n",
       "      <th>2</th>\n",
       "      <td>3</td>\n",
       "      <td>Grumpier Old Men (1995)</td>\n",
       "      <td>Comedy|Romance</td>\n",
       "    </tr>\n",
       "  </tbody>\n",
       "</table>\n",
       "</div>"
      ],
      "text/plain": [
       "   movieId                    title  \\\n",
       "0        1         Toy Story (1995)   \n",
       "1        2           Jumanji (1995)   \n",
       "2        3  Grumpier Old Men (1995)   \n",
       "\n",
       "                                        genres  \n",
       "0  Adventure|Animation|Children|Comedy|Fantasy  \n",
       "1                   Adventure|Children|Fantasy  \n",
       "2                               Comedy|Romance  "
      ]
     },
     "execution_count": 7,
     "metadata": {},
     "output_type": "execute_result"
    }
   ],
   "source": [
    "movies.head(3)"
   ]
  },
  {
   "cell_type": "code",
   "execution_count": 8,
   "metadata": {},
   "outputs": [
    {
     "name": "stdout",
     "output_type": "stream",
     "text": [
      "<class 'pandas.core.frame.DataFrame'>\n",
      "RangeIndex: 62423 entries, 0 to 62422\n",
      "Data columns (total 3 columns):\n",
      " #   Column   Non-Null Count  Dtype \n",
      "---  ------   --------------  ----- \n",
      " 0   movieId  62423 non-null  int64 \n",
      " 1   title    62423 non-null  object\n",
      " 2   genres   62423 non-null  object\n",
      "dtypes: int64(1), object(2)\n",
      "memory usage: 1.4+ MB\n"
     ]
    }
   ],
   "source": [
    "movies.info()"
   ]
  },
  {
   "cell_type": "markdown",
   "metadata": {},
   "source": [
    "- в ДФ movies 3 фичи и 62423  наблюдения"
   ]
  },
  {
   "cell_type": "code",
   "execution_count": 9,
   "metadata": {},
   "outputs": [
    {
     "name": "stdout",
     "output_type": "stream",
     "text": [
      "userId       0\n",
      "movieId      0\n",
      "rating       0\n",
      "timestamp    0\n",
      "dtype: int64\n"
     ]
    }
   ],
   "source": [
    "print(ratings.isna().sum())"
   ]
  },
  {
   "cell_type": "markdown",
   "metadata": {},
   "source": [
    "- Пропуски в ДФ ratings отсутствуют"
   ]
  },
  {
   "cell_type": "code",
   "execution_count": 10,
   "metadata": {},
   "outputs": [
    {
     "name": "stdout",
     "output_type": "stream",
     "text": [
      "movieId    0\n",
      "title      0\n",
      "genres     0\n",
      "dtype: int64\n"
     ]
    }
   ],
   "source": [
    "print(movies.isna().sum())"
   ]
  },
  {
   "cell_type": "markdown",
   "metadata": {},
   "source": [
    "- Пропуски в ДФ movies отсутствуют"
   ]
  },
  {
   "cell_type": "markdown",
   "metadata": {},
   "source": [
    "------\n",
    "- сгенерируйте новый целевой признак «факт просмотра фильма пользователем», который будет равен 1 для всех пар пользователь * фильм из подгруженного датасета."
   ]
  },
  {
   "cell_type": "markdown",
   "metadata": {},
   "source": [
    "- создам новый, обобщенный ДФ"
   ]
  },
  {
   "cell_type": "code",
   "execution_count": 11,
   "metadata": {},
   "outputs": [],
   "source": [
    "df = (ratings.merge(movies, on='movieId'))\n",
    "\n",
    "df['fact_viewed_movie'] = 1"
   ]
  },
  {
   "cell_type": "markdown",
   "metadata": {},
   "source": [
    "- Пропуски в ДФ ratings отсутствуют"
   ]
  },
  {
   "cell_type": "code",
   "execution_count": 69,
   "metadata": {},
   "outputs": [
    {
     "data": {
      "text/html": [
       "<div>\n",
       "<style scoped>\n",
       "    .dataframe tbody tr th:only-of-type {\n",
       "        vertical-align: middle;\n",
       "    }\n",
       "\n",
       "    .dataframe tbody tr th {\n",
       "        vertical-align: top;\n",
       "    }\n",
       "\n",
       "    .dataframe thead th {\n",
       "        text-align: right;\n",
       "    }\n",
       "</style>\n",
       "<table border=\"1\" class=\"dataframe\">\n",
       "  <thead>\n",
       "    <tr style=\"text-align: right;\">\n",
       "      <th></th>\n",
       "      <th>userId</th>\n",
       "      <th>movieId</th>\n",
       "      <th>rating</th>\n",
       "      <th>timestamp</th>\n",
       "      <th>title</th>\n",
       "      <th>genres</th>\n",
       "      <th>fact_viewed_movie</th>\n",
       "    </tr>\n",
       "  </thead>\n",
       "  <tbody>\n",
       "    <tr>\n",
       "      <th>0</th>\n",
       "      <td>0</td>\n",
       "      <td>0</td>\n",
       "      <td>3.00</td>\n",
       "      <td>1017926714</td>\n",
       "      <td>Toy Story (1995)</td>\n",
       "      <td>Adventure|Animation|Children|Comedy|Fantasy</td>\n",
       "      <td>1</td>\n",
       "    </tr>\n",
       "    <tr>\n",
       "      <th>1</th>\n",
       "      <td>1</td>\n",
       "      <td>0</td>\n",
       "      <td>5.00</td>\n",
       "      <td>975982656</td>\n",
       "      <td>Toy Story (1995)</td>\n",
       "      <td>Adventure|Animation|Children|Comedy|Fantasy</td>\n",
       "      <td>1</td>\n",
       "    </tr>\n",
       "    <tr>\n",
       "      <th>2</th>\n",
       "      <td>2</td>\n",
       "      <td>0</td>\n",
       "      <td>3.50</td>\n",
       "      <td>1252286296</td>\n",
       "      <td>Toy Story (1995)</td>\n",
       "      <td>Adventure|Animation|Children|Comedy|Fantasy</td>\n",
       "      <td>1</td>\n",
       "    </tr>\n",
       "  </tbody>\n",
       "</table>\n",
       "</div>"
      ],
      "text/plain": [
       "   userId  movieId  rating   timestamp             title  \\\n",
       "0       0        0    3.00  1017926714  Toy Story (1995)   \n",
       "1       1        0    5.00   975982656  Toy Story (1995)   \n",
       "2       2        0    3.50  1252286296  Toy Story (1995)   \n",
       "\n",
       "                                        genres  fact_viewed_movie  \n",
       "0  Adventure|Animation|Children|Comedy|Fantasy                  1  \n",
       "1  Adventure|Animation|Children|Comedy|Fantasy                  1  \n",
       "2  Adventure|Animation|Children|Comedy|Fantasy                  1  "
      ]
     },
     "metadata": {},
     "output_type": "display_data"
    },
    {
     "data": {
      "text/plain": [
       "(6040099, 7)"
      ]
     },
     "metadata": {},
     "output_type": "display_data"
    }
   ],
   "source": [
    "display(df[:3], df.shape)"
   ]
  },
  {
   "cell_type": "markdown",
   "metadata": {},
   "source": [
    "Отмасштабируем идентификаторы пользователей таким образом, чтобы они начинались с 0 и заканчивались на n_users-1\n",
    "\n",
    "Этот метод позволит находить пользовтеля по индексу матрицы (i-я строка матрицы это i-й пользователь)"
   ]
  },
  {
   "cell_type": "code",
   "execution_count": 15,
   "metadata": {},
   "outputs": [
    {
     "name": "stdout",
     "output_type": "stream",
     "text": [
      "CPU times: total: 36.5 s\n",
      "Wall time: 37.1 s\n"
     ]
    }
   ],
   "source": [
    "%%time\n",
    "movies_values = df['movieId'].unique()\n",
    "df['movieId'] = df['movieId'].apply(lambda x: np.where(movies_values == x)[0][0])"
   ]
  },
  {
   "cell_type": "code",
   "execution_count": 16,
   "metadata": {},
   "outputs": [
    {
     "name": "stdout",
     "output_type": "stream",
     "text": [
      "CPU times: total: 1min 11s\n",
      "Wall time: 1min 12s\n"
     ]
    }
   ],
   "source": [
    "%%time\n",
    "users_values = df['userId'].unique()\n",
    "df['userId'] = df['userId'].apply(lambda x: np.where(users_values == x)[0][0])"
   ]
  },
  {
   "cell_type": "code",
   "execution_count": 17,
   "metadata": {},
   "outputs": [
    {
     "data": {
      "text/html": [
       "<div>\n",
       "<style scoped>\n",
       "    .dataframe tbody tr th:only-of-type {\n",
       "        vertical-align: middle;\n",
       "    }\n",
       "\n",
       "    .dataframe tbody tr th {\n",
       "        vertical-align: top;\n",
       "    }\n",
       "\n",
       "    .dataframe thead th {\n",
       "        text-align: right;\n",
       "    }\n",
       "</style>\n",
       "<table border=\"1\" class=\"dataframe\">\n",
       "  <thead>\n",
       "    <tr style=\"text-align: right;\">\n",
       "      <th></th>\n",
       "      <th>userId</th>\n",
       "      <th>movieId</th>\n",
       "      <th>rating</th>\n",
       "      <th>timestamp</th>\n",
       "      <th>title</th>\n",
       "      <th>genres</th>\n",
       "      <th>fact_viewed_movie</th>\n",
       "    </tr>\n",
       "  </thead>\n",
       "  <tbody>\n",
       "    <tr>\n",
       "      <th>0</th>\n",
       "      <td>0</td>\n",
       "      <td>0</td>\n",
       "      <td>3.00</td>\n",
       "      <td>1017926714</td>\n",
       "      <td>Toy Story (1995)</td>\n",
       "      <td>Adventure|Animation|Children|Comedy|Fantasy</td>\n",
       "      <td>1</td>\n",
       "    </tr>\n",
       "    <tr>\n",
       "      <th>1</th>\n",
       "      <td>1</td>\n",
       "      <td>0</td>\n",
       "      <td>5.00</td>\n",
       "      <td>975982656</td>\n",
       "      <td>Toy Story (1995)</td>\n",
       "      <td>Adventure|Animation|Children|Comedy|Fantasy</td>\n",
       "      <td>1</td>\n",
       "    </tr>\n",
       "    <tr>\n",
       "      <th>2</th>\n",
       "      <td>2</td>\n",
       "      <td>0</td>\n",
       "      <td>3.50</td>\n",
       "      <td>1252286296</td>\n",
       "      <td>Toy Story (1995)</td>\n",
       "      <td>Adventure|Animation|Children|Comedy|Fantasy</td>\n",
       "      <td>1</td>\n",
       "    </tr>\n",
       "    <tr>\n",
       "      <th>3</th>\n",
       "      <td>3</td>\n",
       "      <td>0</td>\n",
       "      <td>3.00</td>\n",
       "      <td>974444867</td>\n",
       "      <td>Toy Story (1995)</td>\n",
       "      <td>Adventure|Animation|Children|Comedy|Fantasy</td>\n",
       "      <td>1</td>\n",
       "    </tr>\n",
       "    <tr>\n",
       "      <th>4</th>\n",
       "      <td>4</td>\n",
       "      <td>0</td>\n",
       "      <td>3.50</td>\n",
       "      <td>1269167989</td>\n",
       "      <td>Toy Story (1995)</td>\n",
       "      <td>Adventure|Animation|Children|Comedy|Fantasy</td>\n",
       "      <td>1</td>\n",
       "    </tr>\n",
       "    <tr>\n",
       "      <th>...</th>\n",
       "      <td>...</td>\n",
       "      <td>...</td>\n",
       "      <td>...</td>\n",
       "      <td>...</td>\n",
       "      <td>...</td>\n",
       "      <td>...</td>\n",
       "      <td>...</td>\n",
       "    </tr>\n",
       "    <tr>\n",
       "      <th>6040094</th>\n",
       "      <td>7581</td>\n",
       "      <td>999</td>\n",
       "      <td>4.00</td>\n",
       "      <td>1312695816</td>\n",
       "      <td>King's Speech, The (2010)</td>\n",
       "      <td>Drama</td>\n",
       "      <td>1</td>\n",
       "    </tr>\n",
       "    <tr>\n",
       "      <th>6040095</th>\n",
       "      <td>10965</td>\n",
       "      <td>999</td>\n",
       "      <td>4.00</td>\n",
       "      <td>1404250384</td>\n",
       "      <td>King's Speech, The (2010)</td>\n",
       "      <td>Drama</td>\n",
       "      <td>1</td>\n",
       "    </tr>\n",
       "    <tr>\n",
       "      <th>6040096</th>\n",
       "      <td>3281</td>\n",
       "      <td>999</td>\n",
       "      <td>5.00</td>\n",
       "      <td>1304048880</td>\n",
       "      <td>King's Speech, The (2010)</td>\n",
       "      <td>Drama</td>\n",
       "      <td>1</td>\n",
       "    </tr>\n",
       "    <tr>\n",
       "      <th>6040097</th>\n",
       "      <td>7588</td>\n",
       "      <td>999</td>\n",
       "      <td>3.00</td>\n",
       "      <td>1297197875</td>\n",
       "      <td>King's Speech, The (2010)</td>\n",
       "      <td>Drama</td>\n",
       "      <td>1</td>\n",
       "    </tr>\n",
       "    <tr>\n",
       "      <th>6040098</th>\n",
       "      <td>7695</td>\n",
       "      <td>999</td>\n",
       "      <td>4.00</td>\n",
       "      <td>1378337801</td>\n",
       "      <td>King's Speech, The (2010)</td>\n",
       "      <td>Drama</td>\n",
       "      <td>1</td>\n",
       "    </tr>\n",
       "  </tbody>\n",
       "</table>\n",
       "<p>6040099 rows × 7 columns</p>\n",
       "</div>"
      ],
      "text/plain": [
       "         userId  movieId  rating   timestamp                      title  \\\n",
       "0             0        0    3.00  1017926714           Toy Story (1995)   \n",
       "1             1        0    5.00   975982656           Toy Story (1995)   \n",
       "2             2        0    3.50  1252286296           Toy Story (1995)   \n",
       "3             3        0    3.00   974444867           Toy Story (1995)   \n",
       "4             4        0    3.50  1269167989           Toy Story (1995)   \n",
       "...         ...      ...     ...         ...                        ...   \n",
       "6040094    7581      999    4.00  1312695816  King's Speech, The (2010)   \n",
       "6040095   10965      999    4.00  1404250384  King's Speech, The (2010)   \n",
       "6040096    3281      999    5.00  1304048880  King's Speech, The (2010)   \n",
       "6040097    7588      999    3.00  1297197875  King's Speech, The (2010)   \n",
       "6040098    7695      999    4.00  1378337801  King's Speech, The (2010)   \n",
       "\n",
       "                                              genres  fact_viewed_movie  \n",
       "0        Adventure|Animation|Children|Comedy|Fantasy                  1  \n",
       "1        Adventure|Animation|Children|Comedy|Fantasy                  1  \n",
       "2        Adventure|Animation|Children|Comedy|Fantasy                  1  \n",
       "3        Adventure|Animation|Children|Comedy|Fantasy                  1  \n",
       "4        Adventure|Animation|Children|Comedy|Fantasy                  1  \n",
       "...                                              ...                ...  \n",
       "6040094                                        Drama                  1  \n",
       "6040095                                        Drama                  1  \n",
       "6040096                                        Drama                  1  \n",
       "6040097                                        Drama                  1  \n",
       "6040098                                        Drama                  1  \n",
       "\n",
       "[6040099 rows x 7 columns]"
      ]
     },
     "execution_count": 17,
     "metadata": {},
     "output_type": "execute_result"
    }
   ],
   "source": [
    "df"
   ]
  },
  {
   "cell_type": "code",
   "execution_count": 18,
   "metadata": {},
   "outputs": [
    {
     "data": {
      "text/html": [
       "<div>\n",
       "<style scoped>\n",
       "    .dataframe tbody tr th:only-of-type {\n",
       "        vertical-align: middle;\n",
       "    }\n",
       "\n",
       "    .dataframe tbody tr th {\n",
       "        vertical-align: top;\n",
       "    }\n",
       "\n",
       "    .dataframe thead th {\n",
       "        text-align: right;\n",
       "    }\n",
       "</style>\n",
       "<table border=\"1\" class=\"dataframe\">\n",
       "  <thead>\n",
       "    <tr style=\"text-align: right;\">\n",
       "      <th></th>\n",
       "      <th>userId</th>\n",
       "      <th>movieId</th>\n",
       "      <th>rating</th>\n",
       "      <th>timestamp</th>\n",
       "      <th>fact_viewed_movie</th>\n",
       "    </tr>\n",
       "  </thead>\n",
       "  <tbody>\n",
       "    <tr>\n",
       "      <th>count</th>\n",
       "      <td>6040099.00</td>\n",
       "      <td>6040099.00</td>\n",
       "      <td>6040099.00</td>\n",
       "      <td>6040099.00</td>\n",
       "      <td>6040099.00</td>\n",
       "    </tr>\n",
       "    <tr>\n",
       "      <th>mean</th>\n",
       "      <td>9449.93</td>\n",
       "      <td>485.88</td>\n",
       "      <td>3.55</td>\n",
       "      <td>1115774334.98</td>\n",
       "      <td>1.00</td>\n",
       "    </tr>\n",
       "    <tr>\n",
       "      <th>std</th>\n",
       "      <td>5550.58</td>\n",
       "      <td>280.26</td>\n",
       "      <td>1.00</td>\n",
       "      <td>135843321.30</td>\n",
       "      <td>0.00</td>\n",
       "    </tr>\n",
       "    <tr>\n",
       "      <th>min</th>\n",
       "      <td>0.00</td>\n",
       "      <td>0.00</td>\n",
       "      <td>0.50</td>\n",
       "      <td>824835410.00</td>\n",
       "      <td>1.00</td>\n",
       "    </tr>\n",
       "    <tr>\n",
       "      <th>25%</th>\n",
       "      <td>4672.00</td>\n",
       "      <td>250.00</td>\n",
       "      <td>3.00</td>\n",
       "      <td>995660158.00</td>\n",
       "      <td>1.00</td>\n",
       "    </tr>\n",
       "    <tr>\n",
       "      <th>50%</th>\n",
       "      <td>9348.00</td>\n",
       "      <td>472.00</td>\n",
       "      <td>4.00</td>\n",
       "      <td>1111706240.00</td>\n",
       "      <td>1.00</td>\n",
       "    </tr>\n",
       "    <tr>\n",
       "      <th>75%</th>\n",
       "      <td>14091.00</td>\n",
       "      <td>729.00</td>\n",
       "      <td>4.00</td>\n",
       "      <td>1213151458.50</td>\n",
       "      <td>1.00</td>\n",
       "    </tr>\n",
       "    <tr>\n",
       "      <th>max</th>\n",
       "      <td>19999.00</td>\n",
       "      <td>999.00</td>\n",
       "      <td>5.00</td>\n",
       "      <td>1427780469.00</td>\n",
       "      <td>1.00</td>\n",
       "    </tr>\n",
       "  </tbody>\n",
       "</table>\n",
       "</div>"
      ],
      "text/plain": [
       "          userId    movieId     rating     timestamp  fact_viewed_movie\n",
       "count 6040099.00 6040099.00 6040099.00    6040099.00         6040099.00\n",
       "mean     9449.93     485.88       3.55 1115774334.98               1.00\n",
       "std      5550.58     280.26       1.00  135843321.30               0.00\n",
       "min         0.00       0.00       0.50  824835410.00               1.00\n",
       "25%      4672.00     250.00       3.00  995660158.00               1.00\n",
       "50%      9348.00     472.00       4.00 1111706240.00               1.00\n",
       "75%     14091.00     729.00       4.00 1213151458.50               1.00\n",
       "max     19999.00     999.00       5.00 1427780469.00               1.00"
      ]
     },
     "execution_count": 18,
     "metadata": {},
     "output_type": "execute_result"
    }
   ],
   "source": [
    "df.describe()"
   ]
  },
  {
   "cell_type": "markdown",
   "metadata": {},
   "source": [
    "- для обучения модели `сгенерируем` `пары`, где пользователь фильм не смотрел, они называются `\"НЕГАТИВЫ\"`"
   ]
  },
  {
   "cell_type": "markdown",
   "metadata": {},
   "source": [
    "для этого требуется найти id всех пользователей и уникальные id всех фильмов"
   ]
  },
  {
   "cell_type": "code",
   "execution_count": 19,
   "metadata": {},
   "outputs": [],
   "source": [
    "users = df.userId.unique()\n",
    "movies = df.movieId.unique()"
   ]
  },
  {
   "cell_type": "code",
   "execution_count": 20,
   "metadata": {},
   "outputs": [
    {
     "data": {
      "text/plain": [
       "(6040099, 7)"
      ]
     },
     "execution_count": 20,
     "metadata": {},
     "output_type": "execute_result"
    }
   ],
   "source": [
    "df.shape"
   ]
  },
  {
   "cell_type": "code",
   "execution_count": 21,
   "metadata": {},
   "outputs": [],
   "source": [
    "random_pairs_dw = []\n",
    "for _ in range(df.shape[0]*2):\n",
    "    user = random.choice(users)\n",
    "    movie = random.choice(movies)\n",
    "    random_pairs_dw.append((user, movie))"
   ]
  },
  {
   "cell_type": "code",
   "execution_count": 22,
   "metadata": {},
   "outputs": [
    {
     "data": {
      "text/html": [
       "<div>\n",
       "<style scoped>\n",
       "    .dataframe tbody tr th:only-of-type {\n",
       "        vertical-align: middle;\n",
       "    }\n",
       "\n",
       "    .dataframe tbody tr th {\n",
       "        vertical-align: top;\n",
       "    }\n",
       "\n",
       "    .dataframe thead th {\n",
       "        text-align: right;\n",
       "    }\n",
       "</style>\n",
       "<table border=\"1\" class=\"dataframe\">\n",
       "  <thead>\n",
       "    <tr style=\"text-align: right;\">\n",
       "      <th></th>\n",
       "      <th>userId</th>\n",
       "      <th>movieId</th>\n",
       "    </tr>\n",
       "  </thead>\n",
       "  <tbody>\n",
       "    <tr>\n",
       "      <th>0</th>\n",
       "      <td>8995</td>\n",
       "      <td>587</td>\n",
       "    </tr>\n",
       "    <tr>\n",
       "      <th>1</th>\n",
       "      <td>6788</td>\n",
       "      <td>312</td>\n",
       "    </tr>\n",
       "    <tr>\n",
       "      <th>2</th>\n",
       "      <td>4708</td>\n",
       "      <td>181</td>\n",
       "    </tr>\n",
       "  </tbody>\n",
       "</table>\n",
       "</div>"
      ],
      "text/plain": [
       "   userId  movieId\n",
       "0    8995      587\n",
       "1    6788      312\n",
       "2    4708      181"
      ]
     },
     "execution_count": 22,
     "metadata": {},
     "output_type": "execute_result"
    }
   ],
   "source": [
    "random_pairs_dw = pd.DataFrame(random_pairs_dw)\n",
    "random_pairs_dw.columns = ['userId', 'movieId']\n",
    "random_pairs_dw.head(3)"
   ]
  },
  {
   "cell_type": "code",
   "execution_count": 23,
   "metadata": {},
   "outputs": [
    {
     "data": {
      "text/plain": [
       "(12080198, 2)"
      ]
     },
     "execution_count": 23,
     "metadata": {},
     "output_type": "execute_result"
    }
   ],
   "source": [
    "random_pairs_dw.shape"
   ]
  },
  {
   "cell_type": "markdown",
   "metadata": {},
   "source": [
    "Покажем те пары в которых пользователь не смотрел фильм"
   ]
  },
  {
   "cell_type": "code",
   "execution_count": 24,
   "metadata": {},
   "outputs": [],
   "source": [
    "random_pairs_w = df[['userId', 'movieId']].copy()"
   ]
  },
  {
   "cell_type": "code",
   "execution_count": 25,
   "metadata": {},
   "outputs": [],
   "source": [
    "random_pairs_dw = set(tuple(x) for x in random_pairs_dw.values)\n",
    "random_pairs_w = set(tuple(x) for x in random_pairs_w.values)"
   ]
  },
  {
   "cell_type": "code",
   "execution_count": 26,
   "metadata": {},
   "outputs": [
    {
     "data": {
      "text/html": [
       "<div>\n",
       "<style scoped>\n",
       "    .dataframe tbody tr th:only-of-type {\n",
       "        vertical-align: middle;\n",
       "    }\n",
       "\n",
       "    .dataframe tbody tr th {\n",
       "        vertical-align: top;\n",
       "    }\n",
       "\n",
       "    .dataframe thead th {\n",
       "        text-align: right;\n",
       "    }\n",
       "</style>\n",
       "<table border=\"1\" class=\"dataframe\">\n",
       "  <thead>\n",
       "    <tr style=\"text-align: right;\">\n",
       "      <th></th>\n",
       "      <th>0</th>\n",
       "      <th>1</th>\n",
       "    </tr>\n",
       "  </thead>\n",
       "  <tbody>\n",
       "    <tr>\n",
       "      <th>0</th>\n",
       "      <td>15557</td>\n",
       "      <td>614</td>\n",
       "    </tr>\n",
       "    <tr>\n",
       "      <th>1</th>\n",
       "      <td>15505</td>\n",
       "      <td>424</td>\n",
       "    </tr>\n",
       "    <tr>\n",
       "      <th>2</th>\n",
       "      <td>18177</td>\n",
       "      <td>143</td>\n",
       "    </tr>\n",
       "  </tbody>\n",
       "</table>\n",
       "</div>"
      ],
      "text/plain": [
       "       0    1\n",
       "0  15557  614\n",
       "1  15505  424\n",
       "2  18177  143"
      ]
     },
     "execution_count": 26,
     "metadata": {},
     "output_type": "execute_result"
    }
   ],
   "source": [
    "random_pairs_dw = pd.DataFrame(random_pairs_dw.difference(random_pairs_w))\n",
    "random_pairs_dw.head(3)"
   ]
  },
  {
   "cell_type": "code",
   "execution_count": 27,
   "metadata": {},
   "outputs": [
    {
     "data": {
      "text/plain": [
       "(6330090, 2)"
      ]
     },
     "execution_count": 27,
     "metadata": {},
     "output_type": "execute_result"
    }
   ],
   "source": [
    "random_pairs_dw.shape"
   ]
  },
  {
   "cell_type": "code",
   "execution_count": 28,
   "metadata": {},
   "outputs": [],
   "source": [
    "random_pairs_dw = random_pairs_dw.sample(6040099)\n",
    "random_pairs_dw.columns = ['userId', 'movieId']"
   ]
  },
  {
   "cell_type": "markdown",
   "metadata": {},
   "source": [
    "Объединим данные "
   ]
  },
  {
   "cell_type": "code",
   "execution_count": 35,
   "metadata": {},
   "outputs": [
    {
     "data": {
      "text/html": [
       "<div>\n",
       "<style scoped>\n",
       "    .dataframe tbody tr th:only-of-type {\n",
       "        vertical-align: middle;\n",
       "    }\n",
       "\n",
       "    .dataframe tbody tr th {\n",
       "        vertical-align: top;\n",
       "    }\n",
       "\n",
       "    .dataframe thead th {\n",
       "        text-align: right;\n",
       "    }\n",
       "</style>\n",
       "<table border=\"1\" class=\"dataframe\">\n",
       "  <thead>\n",
       "    <tr style=\"text-align: right;\">\n",
       "      <th></th>\n",
       "      <th>userId</th>\n",
       "      <th>movieId</th>\n",
       "      <th>rating</th>\n",
       "      <th>timestamp</th>\n",
       "      <th>fact_viewed_movie</th>\n",
       "    </tr>\n",
       "  </thead>\n",
       "  <tbody>\n",
       "    <tr>\n",
       "      <th>0</th>\n",
       "      <td>0</td>\n",
       "      <td>0</td>\n",
       "      <td>3.00</td>\n",
       "      <td>1017926714.00</td>\n",
       "      <td>1.00</td>\n",
       "    </tr>\n",
       "    <tr>\n",
       "      <th>1</th>\n",
       "      <td>1</td>\n",
       "      <td>0</td>\n",
       "      <td>5.00</td>\n",
       "      <td>975982656.00</td>\n",
       "      <td>1.00</td>\n",
       "    </tr>\n",
       "    <tr>\n",
       "      <th>2</th>\n",
       "      <td>2</td>\n",
       "      <td>0</td>\n",
       "      <td>3.50</td>\n",
       "      <td>1252286296.00</td>\n",
       "      <td>1.00</td>\n",
       "    </tr>\n",
       "    <tr>\n",
       "      <th>3</th>\n",
       "      <td>3</td>\n",
       "      <td>0</td>\n",
       "      <td>3.00</td>\n",
       "      <td>974444867.00</td>\n",
       "      <td>1.00</td>\n",
       "    </tr>\n",
       "    <tr>\n",
       "      <th>4</th>\n",
       "      <td>4</td>\n",
       "      <td>0</td>\n",
       "      <td>3.50</td>\n",
       "      <td>1269167989.00</td>\n",
       "      <td>1.00</td>\n",
       "    </tr>\n",
       "    <tr>\n",
       "      <th>...</th>\n",
       "      <td>...</td>\n",
       "      <td>...</td>\n",
       "      <td>...</td>\n",
       "      <td>...</td>\n",
       "      <td>...</td>\n",
       "    </tr>\n",
       "    <tr>\n",
       "      <th>12080193</th>\n",
       "      <td>6041</td>\n",
       "      <td>966</td>\n",
       "      <td>NaN</td>\n",
       "      <td>NaN</td>\n",
       "      <td>NaN</td>\n",
       "    </tr>\n",
       "    <tr>\n",
       "      <th>12080194</th>\n",
       "      <td>1395</td>\n",
       "      <td>748</td>\n",
       "      <td>NaN</td>\n",
       "      <td>NaN</td>\n",
       "      <td>NaN</td>\n",
       "    </tr>\n",
       "    <tr>\n",
       "      <th>12080195</th>\n",
       "      <td>11392</td>\n",
       "      <td>497</td>\n",
       "      <td>NaN</td>\n",
       "      <td>NaN</td>\n",
       "      <td>NaN</td>\n",
       "    </tr>\n",
       "    <tr>\n",
       "      <th>12080196</th>\n",
       "      <td>8389</td>\n",
       "      <td>717</td>\n",
       "      <td>NaN</td>\n",
       "      <td>NaN</td>\n",
       "      <td>NaN</td>\n",
       "    </tr>\n",
       "    <tr>\n",
       "      <th>12080197</th>\n",
       "      <td>3614</td>\n",
       "      <td>906</td>\n",
       "      <td>NaN</td>\n",
       "      <td>NaN</td>\n",
       "      <td>NaN</td>\n",
       "    </tr>\n",
       "  </tbody>\n",
       "</table>\n",
       "<p>12080198 rows × 5 columns</p>\n",
       "</div>"
      ],
      "text/plain": [
       "          userId  movieId  rating     timestamp  fact_viewed_movie\n",
       "0              0        0    3.00 1017926714.00               1.00\n",
       "1              1        0    5.00  975982656.00               1.00\n",
       "2              2        0    3.50 1252286296.00               1.00\n",
       "3              3        0    3.00  974444867.00               1.00\n",
       "4              4        0    3.50 1269167989.00               1.00\n",
       "...          ...      ...     ...           ...                ...\n",
       "12080193    6041      966     NaN           NaN                NaN\n",
       "12080194    1395      748     NaN           NaN                NaN\n",
       "12080195   11392      497     NaN           NaN                NaN\n",
       "12080196    8389      717     NaN           NaN                NaN\n",
       "12080197    3614      906     NaN           NaN                NaN\n",
       "\n",
       "[12080198 rows x 5 columns]"
      ]
     },
     "execution_count": 35,
     "metadata": {},
     "output_type": "execute_result"
    }
   ],
   "source": [
    "df_new = pd.concat([df, random_pairs_dw], ignore_index=True)\n",
    "df_new.drop(columns=['title', 'genres'], inplace=True)\n",
    "df_new"
   ]
  },
  {
   "cell_type": "code",
   "execution_count": 36,
   "metadata": {},
   "outputs": [
    {
     "data": {
      "text/plain": [
       "0"
      ]
     },
     "execution_count": 36,
     "metadata": {},
     "output_type": "execute_result"
    }
   ],
   "source": [
    "df_new[['userId', 'movieId']].duplicated().sum()"
   ]
  },
  {
   "cell_type": "markdown",
   "metadata": {},
   "source": [
    "- Заполним пропуски нулями"
   ]
  },
  {
   "cell_type": "code",
   "execution_count": 37,
   "metadata": {},
   "outputs": [
    {
     "data": {
      "text/html": [
       "<div>\n",
       "<style scoped>\n",
       "    .dataframe tbody tr th:only-of-type {\n",
       "        vertical-align: middle;\n",
       "    }\n",
       "\n",
       "    .dataframe tbody tr th {\n",
       "        vertical-align: top;\n",
       "    }\n",
       "\n",
       "    .dataframe thead th {\n",
       "        text-align: right;\n",
       "    }\n",
       "</style>\n",
       "<table border=\"1\" class=\"dataframe\">\n",
       "  <thead>\n",
       "    <tr style=\"text-align: right;\">\n",
       "      <th></th>\n",
       "      <th>userId</th>\n",
       "      <th>movieId</th>\n",
       "      <th>rating</th>\n",
       "      <th>timestamp</th>\n",
       "      <th>fact_viewed_movie</th>\n",
       "    </tr>\n",
       "  </thead>\n",
       "  <tbody>\n",
       "    <tr>\n",
       "      <th>0</th>\n",
       "      <td>0</td>\n",
       "      <td>0</td>\n",
       "      <td>3.00</td>\n",
       "      <td>1017926714.00</td>\n",
       "      <td>1.00</td>\n",
       "    </tr>\n",
       "    <tr>\n",
       "      <th>1</th>\n",
       "      <td>1</td>\n",
       "      <td>0</td>\n",
       "      <td>5.00</td>\n",
       "      <td>975982656.00</td>\n",
       "      <td>1.00</td>\n",
       "    </tr>\n",
       "    <tr>\n",
       "      <th>2</th>\n",
       "      <td>2</td>\n",
       "      <td>0</td>\n",
       "      <td>3.50</td>\n",
       "      <td>1252286296.00</td>\n",
       "      <td>1.00</td>\n",
       "    </tr>\n",
       "    <tr>\n",
       "      <th>3</th>\n",
       "      <td>3</td>\n",
       "      <td>0</td>\n",
       "      <td>3.00</td>\n",
       "      <td>974444867.00</td>\n",
       "      <td>1.00</td>\n",
       "    </tr>\n",
       "    <tr>\n",
       "      <th>4</th>\n",
       "      <td>4</td>\n",
       "      <td>0</td>\n",
       "      <td>3.50</td>\n",
       "      <td>1269167989.00</td>\n",
       "      <td>1.00</td>\n",
       "    </tr>\n",
       "    <tr>\n",
       "      <th>...</th>\n",
       "      <td>...</td>\n",
       "      <td>...</td>\n",
       "      <td>...</td>\n",
       "      <td>...</td>\n",
       "      <td>...</td>\n",
       "    </tr>\n",
       "    <tr>\n",
       "      <th>12080193</th>\n",
       "      <td>6041</td>\n",
       "      <td>966</td>\n",
       "      <td>0.00</td>\n",
       "      <td>0.00</td>\n",
       "      <td>0.00</td>\n",
       "    </tr>\n",
       "    <tr>\n",
       "      <th>12080194</th>\n",
       "      <td>1395</td>\n",
       "      <td>748</td>\n",
       "      <td>0.00</td>\n",
       "      <td>0.00</td>\n",
       "      <td>0.00</td>\n",
       "    </tr>\n",
       "    <tr>\n",
       "      <th>12080195</th>\n",
       "      <td>11392</td>\n",
       "      <td>497</td>\n",
       "      <td>0.00</td>\n",
       "      <td>0.00</td>\n",
       "      <td>0.00</td>\n",
       "    </tr>\n",
       "    <tr>\n",
       "      <th>12080196</th>\n",
       "      <td>8389</td>\n",
       "      <td>717</td>\n",
       "      <td>0.00</td>\n",
       "      <td>0.00</td>\n",
       "      <td>0.00</td>\n",
       "    </tr>\n",
       "    <tr>\n",
       "      <th>12080197</th>\n",
       "      <td>3614</td>\n",
       "      <td>906</td>\n",
       "      <td>0.00</td>\n",
       "      <td>0.00</td>\n",
       "      <td>0.00</td>\n",
       "    </tr>\n",
       "  </tbody>\n",
       "</table>\n",
       "<p>12080198 rows × 5 columns</p>\n",
       "</div>"
      ],
      "text/plain": [
       "          userId  movieId  rating     timestamp  fact_viewed_movie\n",
       "0              0        0    3.00 1017926714.00               1.00\n",
       "1              1        0    5.00  975982656.00               1.00\n",
       "2              2        0    3.50 1252286296.00               1.00\n",
       "3              3        0    3.00  974444867.00               1.00\n",
       "4              4        0    3.50 1269167989.00               1.00\n",
       "...          ...      ...     ...           ...                ...\n",
       "12080193    6041      966    0.00          0.00               0.00\n",
       "12080194    1395      748    0.00          0.00               0.00\n",
       "12080195   11392      497    0.00          0.00               0.00\n",
       "12080196    8389      717    0.00          0.00               0.00\n",
       "12080197    3614      906    0.00          0.00               0.00\n",
       "\n",
       "[12080198 rows x 5 columns]"
      ]
     },
     "execution_count": 37,
     "metadata": {},
     "output_type": "execute_result"
    }
   ],
   "source": [
    "df_new = df_new.fillna(0)\n",
    "df_new"
   ]
  },
  {
   "cell_type": "markdown",
   "metadata": {},
   "source": [
    "- Создадим наборы для обучения"
   ]
  },
  {
   "cell_type": "code",
   "execution_count": 38,
   "metadata": {},
   "outputs": [
    {
     "data": {
      "text/plain": [
       "'Размер выборки для тренировки'"
      ]
     },
     "metadata": {},
     "output_type": "display_data"
    },
    {
     "data": {
      "text/plain": [
       "(11476188, 4)"
      ]
     },
     "metadata": {},
     "output_type": "display_data"
    },
    {
     "data": {
      "text/plain": [
       "(11476188,)"
      ]
     },
     "metadata": {},
     "output_type": "display_data"
    },
    {
     "data": {
      "text/plain": [
       "'Размер выборки для теста'"
      ]
     },
     "metadata": {},
     "output_type": "display_data"
    },
    {
     "data": {
      "text/plain": [
       "(604010, 4)"
      ]
     },
     "metadata": {},
     "output_type": "display_data"
    },
    {
     "data": {
      "text/plain": [
       "(604010,)"
      ]
     },
     "metadata": {},
     "output_type": "display_data"
    }
   ],
   "source": [
    "train, test = train_test_split(df_new, test_size=0.05, random_state=45)\n",
    "\n",
    "features_train = train.drop(['fact_viewed_movie'], axis = 1)\n",
    "target_train = train['fact_viewed_movie']\n",
    "\n",
    "features_test = test.drop(['fact_viewed_movie'], axis = 1)\n",
    "target_test = test['fact_viewed_movie']\n",
    "\n",
    "display('Размер выборки для тренировки', features_train.shape,target_train.shape)\n",
    "display('Размер выборки для теста', features_test.shape,target_test.shape)"
   ]
  },
  {
   "cell_type": "markdown",
   "metadata": {},
   "source": [
    "- Обучим простую Dummy-Model. Пусть она рэндомом возвращает вероятность принадлежности к классу 1"
   ]
  },
  {
   "cell_type": "code",
   "execution_count": 39,
   "metadata": {},
   "outputs": [],
   "source": [
    "def dummy_model (features):\n",
    "    prediction_P = []\n",
    "    for i in range (len(features)):\n",
    "        prediction_P.append(random.random())\n",
    "    return prediction_P"
   ]
  },
  {
   "cell_type": "code",
   "execution_count": 45,
   "metadata": {},
   "outputs": [
    {
     "name": "stdout",
     "output_type": "stream",
     "text": [
      "метрика Roc_Auc =  0.4998282134444103\n"
     ]
    }
   ],
   "source": [
    "pred_dummy = dummy_model(features_train)\n",
    "roc_auc_dummy_model = roc_auc_score(target_train,pred_dummy)\n",
    "print('метрика Roc_Auc = ', roc_auc_dummy_model)"
   ]
  },
  {
   "cell_type": "markdown",
   "metadata": {},
   "source": [
    "- `Все верно. Для простой модели метрика roc-auc и должна быть 0.5 !!`"
   ]
  },
  {
   "cell_type": "markdown",
   "metadata": {},
   "source": [
    "-----------\n",
    "- `Реализуем 3 алгоритма коллаборативной фильтрации: user-Based, item-Based и алгоритм на основе матричной факторизации.`"
   ]
  },
  {
   "cell_type": "code",
   "execution_count": 48,
   "metadata": {},
   "outputs": [
    {
     "data": {
      "text/plain": [
       "(20000, 1000)"
      ]
     },
     "execution_count": 48,
     "metadata": {},
     "output_type": "execute_result"
    }
   ],
   "source": [
    "n_users = train['userId'].nunique()\n",
    "n_movies = train['movieId'].nunique()\n",
    "(n_users, n_movies)"
   ]
  },
  {
   "cell_type": "code",
   "execution_count": null,
   "metadata": {},
   "outputs": [
    {
     "data": {
      "text/plain": [
       "(20000, 1000)"
      ]
     },
     "metadata": {},
     "output_type": "display_data"
    }
   ],
   "source": [
    "n_users = train['userId'].nunique()\n",
    "n_movies = train['movieId'].nunique()\n",
    "(n_users, n_movies)"
   ]
  },
  {
   "cell_type": "code",
   "execution_count": null,
   "metadata": {},
   "outputs": [
    {
     "data": {
      "text/plain": [
       "(20000, 1000)"
      ]
     },
     "metadata": {},
     "output_type": "display_data"
    }
   ],
   "source": [
    "n_users = train['userId'].nunique()\n",
    "n_movies = train['movieId'].nunique()\n",
    "(n_users, n_movies)"
   ]
  },
  {
   "cell_type": "code",
   "execution_count": 51,
   "metadata": {},
   "outputs": [
    {
     "data": {
      "text/plain": [
       "(20000, 1000)"
      ]
     },
     "execution_count": 51,
     "metadata": {},
     "output_type": "execute_result"
    }
   ],
   "source": [
    "train_matrix = np.array(pd.pivot_table(train, values='fact_viewed_movie', index='userId', columns='movieId', fill_value=0))\n",
    "train_matrix.shape"
   ]
  },
  {
   "cell_type": "code",
   "execution_count": 52,
   "metadata": {},
   "outputs": [
    {
     "data": {
      "text/plain": [
       "array([[1., 1., 1., ..., 0., 0., 0.],\n",
       "       [1., 0., 0., ..., 0., 0., 1.],\n",
       "       [1., 1., 0., ..., 0., 0., 0.],\n",
       "       ...,\n",
       "       [0., 0., 0., ..., 1., 1., 1.],\n",
       "       [0., 0., 0., ..., 0., 1., 0.],\n",
       "       [0., 0., 0., ..., 0., 0., 0.]])"
      ]
     },
     "execution_count": 52,
     "metadata": {},
     "output_type": "execute_result"
    }
   ],
   "source": [
    "train_matrix"
   ]
  },
  {
   "cell_type": "markdown",
   "metadata": {},
   "source": [
    "- Произведем попарное вычисление косинусного расстояния для пользователей и фильмов."
   ]
  },
  {
   "cell_type": "code",
   "execution_count": 55,
   "metadata": {},
   "outputs": [
    {
     "data": {
      "text/plain": [
       "array([[0.        , 0.75836104, 0.65458933, ..., 0.92132353, 0.84365026,\n",
       "        0.70124728],\n",
       "       [0.75836104, 0.        , 0.65984208, ..., 0.72335558, 0.78238611,\n",
       "        0.79704214],\n",
       "       [0.65458933, 0.65984208, 0.        , ..., 0.84844223, 0.81134687,\n",
       "        0.85480749],\n",
       "       ...,\n",
       "       [0.92132353, 0.72335558, 0.84844223, ..., 0.        , 0.66437569,\n",
       "        0.56737015],\n",
       "       [0.84365026, 0.78238611, 0.81134687, ..., 0.66437569, 0.        ,\n",
       "        0.61564416],\n",
       "       [0.70124728, 0.79704214, 0.85480749, ..., 0.56737015, 0.61564416,\n",
       "        0.        ]])"
      ]
     },
     "metadata": {},
     "output_type": "display_data"
    },
    {
     "data": {
      "text/plain": [
       "(20000, 20000)"
      ]
     },
     "metadata": {},
     "output_type": "display_data"
    }
   ],
   "source": [
    "user_dist = cosine_distances(train_matrix)\n",
    "user_dist, user_dist.shape"
   ]
  },
  {
   "cell_type": "markdown",
   "metadata": {},
   "source": [
    "---------------------------\n",
    "\n",
    "- `user-Based алгоритм`"
   ]
  },
  {
   "cell_type": "markdown",
   "metadata": {},
   "source": [
    "для каждого user составим список из 10 пользователей похожих на него"
   ]
  },
  {
   "cell_type": "code",
   "execution_count": 56,
   "metadata": {},
   "outputs": [],
   "source": [
    "top = 10\n",
    "top_near_users = []\n",
    "for i in range(n_users):\n",
    "    n = user_dist[i].argsort()[1:top+1]\n",
    "    top_near_users.append(train_matrix[n])\n",
    "top_near_users = np.array(top_near_users)"
   ]
  },
  {
   "cell_type": "code",
   "execution_count": 57,
   "metadata": {},
   "outputs": [
    {
     "data": {
      "text/plain": [
       "(20000, 10, 1000)"
      ]
     },
     "execution_count": 57,
     "metadata": {},
     "output_type": "execute_result"
    }
   ],
   "source": [
    "top_near_users.shape"
   ]
  },
  {
   "cell_type": "markdown",
   "metadata": {},
   "source": [
    "- создадим матрицу предсказаний, оценив популярность среди пользователей и их соседей относительно других фильмов, вычислив среднее значение а ТОП-10"
   ]
  },
  {
   "cell_type": "code",
   "execution_count": 58,
   "metadata": {},
   "outputs": [
    {
     "data": {
      "text/plain": [
       "(20000, 1000)"
      ]
     },
     "execution_count": 58,
     "metadata": {},
     "output_type": "execute_result"
    }
   ],
   "source": [
    "pred_matrix_user_based = top_near_users.mean(1)\n",
    "pred_matrix_user_based.shape"
   ]
  },
  {
   "cell_type": "markdown",
   "metadata": {},
   "source": [
    "- сделаем предсказания для тестовой выборки"
   ]
  },
  {
   "cell_type": "code",
   "execution_count": 59,
   "metadata": {},
   "outputs": [
    {
     "data": {
      "text/html": [
       "<div>\n",
       "<style scoped>\n",
       "    .dataframe tbody tr th:only-of-type {\n",
       "        vertical-align: middle;\n",
       "    }\n",
       "\n",
       "    .dataframe tbody tr th {\n",
       "        vertical-align: top;\n",
       "    }\n",
       "\n",
       "    .dataframe thead th {\n",
       "        text-align: right;\n",
       "    }\n",
       "</style>\n",
       "<table border=\"1\" class=\"dataframe\">\n",
       "  <thead>\n",
       "    <tr style=\"text-align: right;\">\n",
       "      <th></th>\n",
       "      <th>userId</th>\n",
       "      <th>movieId</th>\n",
       "      <th>rating</th>\n",
       "      <th>timestamp</th>\n",
       "      <th>fact_viewed_movie</th>\n",
       "      <th>pred_user_based</th>\n",
       "    </tr>\n",
       "  </thead>\n",
       "  <tbody>\n",
       "    <tr>\n",
       "      <th>5594551</th>\n",
       "      <td>11859</td>\n",
       "      <td>901</td>\n",
       "      <td>3.50</td>\n",
       "      <td>1111472681.00</td>\n",
       "      <td>1.00</td>\n",
       "      <td>1</td>\n",
       "    </tr>\n",
       "    <tr>\n",
       "      <th>66943</th>\n",
       "      <td>14507</td>\n",
       "      <td>9</td>\n",
       "      <td>5.00</td>\n",
       "      <td>1156435569.00</td>\n",
       "      <td>1.00</td>\n",
       "      <td>1</td>\n",
       "    </tr>\n",
       "    <tr>\n",
       "      <th>3745537</th>\n",
       "      <td>2320</td>\n",
       "      <td>599</td>\n",
       "      <td>3.50</td>\n",
       "      <td>1304130805.00</td>\n",
       "      <td>1.00</td>\n",
       "      <td>1</td>\n",
       "    </tr>\n",
       "  </tbody>\n",
       "</table>\n",
       "</div>"
      ],
      "text/plain": [
       "         userId  movieId  rating     timestamp  fact_viewed_movie  \\\n",
       "5594551   11859      901    3.50 1111472681.00               1.00   \n",
       "66943     14507        9    5.00 1156435569.00               1.00   \n",
       "3745537    2320      599    3.50 1304130805.00               1.00   \n",
       "\n",
       "         pred_user_based  \n",
       "5594551                1  \n",
       "66943                  1  \n",
       "3745537                1  "
      ]
     },
     "execution_count": 59,
     "metadata": {},
     "output_type": "execute_result"
    }
   ],
   "source": [
    "test['pred_user_based'] = test.apply(lambda x: round(pred_matrix_user_based[int(x['userId']), int(x['movieId'])]), axis=1)\n",
    "test.head(3)"
   ]
  },
  {
   "cell_type": "code",
   "execution_count": 60,
   "metadata": {},
   "outputs": [
    {
     "data": {
      "text/plain": [
       "array([1, 0], dtype=int64)"
      ]
     },
     "execution_count": 60,
     "metadata": {},
     "output_type": "execute_result"
    }
   ],
   "source": [
    "test['pred_user_based'].unique()"
   ]
  },
  {
   "cell_type": "code",
   "execution_count": 62,
   "metadata": {},
   "outputs": [
    {
     "name": "stdout",
     "output_type": "stream",
     "text": [
      "значение метрики roc_auc для user_based модели  0.7773055761227187\n",
      "значение метрики f1 для user_based модели  0.780314834595873\n"
     ]
    }
   ],
   "source": [
    "prediction = test.pred_user_based\n",
    "y = test.fact_viewed_movie\n",
    "\n",
    "roc_auc_user_based = roc_auc_score(y,prediction)\n",
    "f1_user_based  = f1_score(y,prediction)\n",
    "\n",
    "print('значение метрики roc_auc для user_based модели ', roc_auc_user_based)\n",
    "print('значение метрики f1 для user_based модели ', f1_user_based)"
   ]
  },
  {
   "cell_type": "markdown",
   "metadata": {},
   "source": [
    "- модель user_based дает хорошие результаты. Выводы мы можем сделать исходя из метрик: \n",
    "\n",
    "значение метрики `roc_auc для user_based` модели  0.7773055761227187\\\n",
    "значение метрики `f1 для user_based` модели  0.780314834595873\n",
    "\n",
    "----------------"
   ]
  },
  {
   "cell_type": "markdown",
   "metadata": {},
   "source": [
    "- `Item-based алгоритм`"
   ]
  },
  {
   "cell_type": "code",
   "execution_count": 82,
   "metadata": {},
   "outputs": [],
   "source": [
    "movies_dist = cosine_distances(train_matrix.T)"
   ]
  },
  {
   "cell_type": "code",
   "execution_count": 87,
   "metadata": {},
   "outputs": [
    {
     "data": {
      "text/plain": [
       "(1000, 10, 20000)"
      ]
     },
     "execution_count": 87,
     "metadata": {},
     "output_type": "execute_result"
    }
   ],
   "source": [
    "top = 10\n",
    "top_near_movies = []\n",
    "for i in range(n_movies):\n",
    "    n = movies_dist[i].argsort()[1:top+1]\n",
    "    top_near_movies.append(train_matrix.T[n])\n",
    "top_near_movies = np.array(top_near_movies)\n",
    "top_near_movies.shape"
   ]
  },
  {
   "cell_type": "code",
   "execution_count": 88,
   "metadata": {},
   "outputs": [
    {
     "data": {
      "text/plain": [
       "(20000, 1000)"
      ]
     },
     "execution_count": 88,
     "metadata": {},
     "output_type": "execute_result"
    }
   ],
   "source": [
    "pred_matrix_item_based = top_near_movies.mean(1).T\n",
    "pred_matrix_item_based.shape"
   ]
  },
  {
   "cell_type": "code",
   "execution_count": 89,
   "metadata": {},
   "outputs": [
    {
     "data": {
      "text/html": [
       "<div>\n",
       "<style scoped>\n",
       "    .dataframe tbody tr th:only-of-type {\n",
       "        vertical-align: middle;\n",
       "    }\n",
       "\n",
       "    .dataframe tbody tr th {\n",
       "        vertical-align: top;\n",
       "    }\n",
       "\n",
       "    .dataframe thead th {\n",
       "        text-align: right;\n",
       "    }\n",
       "</style>\n",
       "<table border=\"1\" class=\"dataframe\">\n",
       "  <thead>\n",
       "    <tr style=\"text-align: right;\">\n",
       "      <th></th>\n",
       "      <th>userId</th>\n",
       "      <th>movieId</th>\n",
       "      <th>rating</th>\n",
       "      <th>timestamp</th>\n",
       "      <th>fact_viewed_movie</th>\n",
       "      <th>pred_user_based</th>\n",
       "      <th>svd_predictions</th>\n",
       "      <th>pred_item_based</th>\n",
       "    </tr>\n",
       "  </thead>\n",
       "  <tbody>\n",
       "    <tr>\n",
       "      <th>5594551</th>\n",
       "      <td>11859</td>\n",
       "      <td>901</td>\n",
       "      <td>3.50</td>\n",
       "      <td>1111472681.00</td>\n",
       "      <td>1.00</td>\n",
       "      <td>1</td>\n",
       "      <td>1</td>\n",
       "      <td>1</td>\n",
       "    </tr>\n",
       "    <tr>\n",
       "      <th>66943</th>\n",
       "      <td>14507</td>\n",
       "      <td>9</td>\n",
       "      <td>5.00</td>\n",
       "      <td>1156435569.00</td>\n",
       "      <td>1.00</td>\n",
       "      <td>1</td>\n",
       "      <td>1</td>\n",
       "      <td>1</td>\n",
       "    </tr>\n",
       "    <tr>\n",
       "      <th>3745537</th>\n",
       "      <td>2320</td>\n",
       "      <td>599</td>\n",
       "      <td>3.50</td>\n",
       "      <td>1304130805.00</td>\n",
       "      <td>1.00</td>\n",
       "      <td>1</td>\n",
       "      <td>1</td>\n",
       "      <td>1</td>\n",
       "    </tr>\n",
       "  </tbody>\n",
       "</table>\n",
       "</div>"
      ],
      "text/plain": [
       "         userId  movieId  rating     timestamp  fact_viewed_movie  \\\n",
       "5594551   11859      901    3.50 1111472681.00               1.00   \n",
       "66943     14507        9    5.00 1156435569.00               1.00   \n",
       "3745537    2320      599    3.50 1304130805.00               1.00   \n",
       "\n",
       "         pred_user_based  svd_predictions  pred_item_based  \n",
       "5594551                1                1                1  \n",
       "66943                  1                1                1  \n",
       "3745537                1                1                1  "
      ]
     },
     "execution_count": 89,
     "metadata": {},
     "output_type": "execute_result"
    }
   ],
   "source": [
    "test['pred_item_based'] = test.apply(lambda x: round(pred_matrix_item_based[int(x['userId']), int(x['movieId'])]), axis=1)\n",
    "test.head(3)"
   ]
  },
  {
   "cell_type": "code",
   "execution_count": 91,
   "metadata": {},
   "outputs": [
    {
     "name": "stdout",
     "output_type": "stream",
     "text": [
      "значение метрики roc_auc для item_based модели  0.7607850045058543\n",
      "значение метрики f1 для item_based модели  0.7721516791289003\n"
     ]
    }
   ],
   "source": [
    "pred_item = test.pred_item_based\n",
    "\n",
    "roc_auc_item_based = roc_auc_score(y,pred_item)\n",
    "f1_item_based  = f1_score(y,pred_item)\n",
    "\n",
    "print('значение метрики roc_auc для item_based модели ', roc_auc_item_based)\n",
    "print('значение метрики f1 для item_based модели ', f1_item_based)"
   ]
  },
  {
   "cell_type": "markdown",
   "metadata": {},
   "source": [
    "------\n",
    "\n",
    "- `алгоритм на основе Матричной факторизации`"
   ]
  },
  {
   "cell_type": "code",
   "execution_count": 70,
   "metadata": {},
   "outputs": [
    {
     "data": {
      "text/plain": [
       "(20000, 1000)"
      ]
     },
     "execution_count": 70,
     "metadata": {},
     "output_type": "execute_result"
    }
   ],
   "source": [
    "train_matrix.astype(float).shape"
   ]
  },
  {
   "cell_type": "code",
   "execution_count": 74,
   "metadata": {},
   "outputs": [
    {
     "data": {
      "text/plain": [
       "((50, 50), (20000, 50), (1000, 50))"
      ]
     },
     "execution_count": 74,
     "metadata": {},
     "output_type": "execute_result"
    }
   ],
   "source": [
    "u, s, vh = svds(train_matrix, k = 50)\n",
    "s_diag_matrix = np.diag(s)\n",
    "users = np.dot(u,s_diag_matrix)\n",
    "items = vh.T\n",
    "s_diag_matrix.shape, users.shape, items.shape"
   ]
  },
  {
   "cell_type": "code",
   "execution_count": 77,
   "metadata": {},
   "outputs": [],
   "source": [
    "test['svd_predictions'] = test.apply(lambda x: round(np.dot(users[int(x['userId'])], items[int(x['movieId'])])), axis=1)"
   ]
  },
  {
   "cell_type": "code",
   "execution_count": 78,
   "metadata": {},
   "outputs": [
    {
     "data": {
      "text/html": [
       "<div>\n",
       "<style scoped>\n",
       "    .dataframe tbody tr th:only-of-type {\n",
       "        vertical-align: middle;\n",
       "    }\n",
       "\n",
       "    .dataframe tbody tr th {\n",
       "        vertical-align: top;\n",
       "    }\n",
       "\n",
       "    .dataframe thead th {\n",
       "        text-align: right;\n",
       "    }\n",
       "</style>\n",
       "<table border=\"1\" class=\"dataframe\">\n",
       "  <thead>\n",
       "    <tr style=\"text-align: right;\">\n",
       "      <th></th>\n",
       "      <th>userId</th>\n",
       "      <th>movieId</th>\n",
       "      <th>rating</th>\n",
       "      <th>timestamp</th>\n",
       "      <th>fact_viewed_movie</th>\n",
       "      <th>pred_user_based</th>\n",
       "      <th>svd_predictions</th>\n",
       "    </tr>\n",
       "  </thead>\n",
       "  <tbody>\n",
       "    <tr>\n",
       "      <th>5594551</th>\n",
       "      <td>11859</td>\n",
       "      <td>901</td>\n",
       "      <td>3.50</td>\n",
       "      <td>1111472681.00</td>\n",
       "      <td>1.00</td>\n",
       "      <td>1</td>\n",
       "      <td>1</td>\n",
       "    </tr>\n",
       "    <tr>\n",
       "      <th>66943</th>\n",
       "      <td>14507</td>\n",
       "      <td>9</td>\n",
       "      <td>5.00</td>\n",
       "      <td>1156435569.00</td>\n",
       "      <td>1.00</td>\n",
       "      <td>1</td>\n",
       "      <td>1</td>\n",
       "    </tr>\n",
       "    <tr>\n",
       "      <th>3745537</th>\n",
       "      <td>2320</td>\n",
       "      <td>599</td>\n",
       "      <td>3.50</td>\n",
       "      <td>1304130805.00</td>\n",
       "      <td>1.00</td>\n",
       "      <td>1</td>\n",
       "      <td>1</td>\n",
       "    </tr>\n",
       "    <tr>\n",
       "      <th>6093189</th>\n",
       "      <td>13223</td>\n",
       "      <td>505</td>\n",
       "      <td>0.00</td>\n",
       "      <td>0.00</td>\n",
       "      <td>0.00</td>\n",
       "      <td>0</td>\n",
       "      <td>0</td>\n",
       "    </tr>\n",
       "    <tr>\n",
       "      <th>2262259</th>\n",
       "      <td>17667</td>\n",
       "      <td>358</td>\n",
       "      <td>3.00</td>\n",
       "      <td>1010356966.00</td>\n",
       "      <td>1.00</td>\n",
       "      <td>1</td>\n",
       "      <td>1</td>\n",
       "    </tr>\n",
       "  </tbody>\n",
       "</table>\n",
       "</div>"
      ],
      "text/plain": [
       "         userId  movieId  rating     timestamp  fact_viewed_movie  \\\n",
       "5594551   11859      901    3.50 1111472681.00               1.00   \n",
       "66943     14507        9    5.00 1156435569.00               1.00   \n",
       "3745537    2320      599    3.50 1304130805.00               1.00   \n",
       "6093189   13223      505    0.00          0.00               0.00   \n",
       "2262259   17667      358    3.00 1010356966.00               1.00   \n",
       "\n",
       "         pred_user_based  svd_predictions  \n",
       "5594551                1                1  \n",
       "66943                  1                1  \n",
       "3745537                1                1  \n",
       "6093189                0                0  \n",
       "2262259                1                1  "
      ]
     },
     "execution_count": 78,
     "metadata": {},
     "output_type": "execute_result"
    }
   ],
   "source": [
    "test.head()"
   ]
  },
  {
   "cell_type": "code",
   "execution_count": 92,
   "metadata": {},
   "outputs": [
    {
     "name": "stdout",
     "output_type": "stream",
     "text": [
      "значение метрики roc_auc для матрицы факторизации  0.762937515007499\n",
      "значение метрик f1_score для матрицы факторизации  0.7551152671272212\n"
     ]
    }
   ],
   "source": [
    "roc_auc_avd = roc_auc_score(y, test['svd_predictions'])\n",
    "print('значение метрики roc_auc для матрицы факторизации ', roc_auc_avd)\n",
    "\n",
    "roc_auc_f1 = f1_score(y, test['svd_predictions'], average='weighted')\n",
    "print('значение метрик f1_score для матрицы факторизации ', roc_auc_f1)"
   ]
  },
  {
   "cell_type": "markdown",
   "metadata": {},
   "source": [
    "----------\n",
    "\n",
    "`ВЫВОДЫ:`\n",
    "\n",
    "значение метрики `roc_auc` для:\\\n",
    "item_based модели -  0.76\\\n",
    "`user_based модели - 0.78`\\\n",
    "матрицы факторизации - 0.76\n",
    "\n",
    "\n",
    "значение метрики `f1` для:\\\n",
    "item_based модели -  0.77\\\n",
    "`user_based модели - 0.78`\\\n",
    "матрицы факторизации - 0.75\n",
    "\n",
    "- `user_based модель очень хорошо справилась с задачей на данном наборе данных`.\n",
    "\n",
    "\n",
    "Существует несколько причин, почему модель, основанная на пользовательских данных (user-based модель), может хорошо справиться с задачей рекомендации:\n",
    "\n",
    "1. Персонализация: User-based модель анализирует предпочтения и поведение конкретных пользователей. Это позволяет модели учитывать индивидуальные предпочтения и вкусы каждого пользователя, что может привести к более точным рекомендациям.\n",
    "\n",
    "2. Социальная схожесть: User-based модель ищет схожих пользователей на основе их предпочтений и рейтингов. Если два пользователей имеют похожие предпочтения, то модель может рекомендовать элементы, которые один пользователь оценил положительно, другому пользователю с похожими предпочтениями.\n",
    "\n",
    "3. Простота и интерпретируемость: User-based модель относительно проста в реализации и понимании. Она основана на интуитивном предположении, что пользователи с похожими предпочтениями будут иметь схожие рейтинги. Это делает модель более интерпретируемой и позволяет объяснить рекомендации пользователям.\n",
    "\n",
    "Однако, стоит отметить, что user-based модель также имеет свои ограничения. Например, она может столкнуться с проблемой \"холодного старта\", когда у новых пользователей или новых элементов нет достаточного количества данных для рекомендаций. Также, при увеличении числа пользователей и элементов, вычислительная сложность модели может возрасти."
   ]
  }
 ],
 "metadata": {
  "kernelspec": {
   "display_name": "Python 3",
   "language": "python",
   "name": "python3"
  },
  "language_info": {
   "codemirror_mode": {
    "name": "ipython",
    "version": 3
   },
   "file_extension": ".py",
   "mimetype": "text/x-python",
   "name": "python",
   "nbconvert_exporter": "python",
   "pygments_lexer": "ipython3",
   "version": "3.12.0"
  }
 },
 "nbformat": 4,
 "nbformat_minor": 2
}
