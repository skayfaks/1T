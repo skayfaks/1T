{
 "cells": [
  {
   "cell_type": "code",
   "execution_count": 6,
   "metadata": {},
   "outputs": [],
   "source": [
    "import pandas as pd\n",
    "import numpy as np\n",
    "import scipy.sparse as sp\n",
    "\n",
    "from sklearn.feature_extraction.text import TfidfVectorizer\n",
    "from sklearn.metrics.pairwise import cosine_distances\n",
    "from sklearn.model_selection import train_test_split\n",
    "from sklearn.metrics import mean_squared_error\n",
    "\n",
    "from scipy.sparse.linalg import svds\n",
    "\n",
    "pd.options.display.max_colwidth = 2000\n",
    "pd.options.display.float_format = '{:.2f}'.format"
   ]
  },
  {
   "cell_type": "markdown",
   "metadata": {},
   "source": [
    "# Данные"
   ]
  },
  {
   "cell_type": "markdown",
   "metadata": {},
   "source": [
    "[Источник](https://grouplens.org/datasets/movielens/) исходных данных. \n",
    "Данные для скринкаста предобработаны"
   ]
  },
  {
   "cell_type": "markdown",
   "metadata": {},
   "source": [
    "Извлечем доступные данные о фильмах и о взаимодействиях пользователей с фильмами"
   ]
  },
  {
   "cell_type": "code",
   "execution_count": 7,
   "metadata": {},
   "outputs": [],
   "source": [
    "ratings = pd.read_csv('ratings_df_sample_2.csv')\n",
    "movies = pd.read_csv('movies.csv')"
   ]
  },
  {
   "cell_type": "code",
   "execution_count": 8,
   "metadata": {},
   "outputs": [
    {
     "data": {
      "text/html": [
       "<div>\n",
       "<style scoped>\n",
       "    .dataframe tbody tr th:only-of-type {\n",
       "        vertical-align: middle;\n",
       "    }\n",
       "\n",
       "    .dataframe tbody tr th {\n",
       "        vertical-align: top;\n",
       "    }\n",
       "\n",
       "    .dataframe thead th {\n",
       "        text-align: right;\n",
       "    }\n",
       "</style>\n",
       "<table border=\"1\" class=\"dataframe\">\n",
       "  <thead>\n",
       "    <tr style=\"text-align: right;\">\n",
       "      <th></th>\n",
       "      <th>userId</th>\n",
       "      <th>movieId</th>\n",
       "      <th>rating</th>\n",
       "      <th>timestamp</th>\n",
       "    </tr>\n",
       "  </thead>\n",
       "  <tbody>\n",
       "    <tr>\n",
       "      <th>0</th>\n",
       "      <td>54</td>\n",
       "      <td>2</td>\n",
       "      <td>3.00</td>\n",
       "      <td>974918176</td>\n",
       "    </tr>\n",
       "    <tr>\n",
       "      <th>1</th>\n",
       "      <td>54</td>\n",
       "      <td>32</td>\n",
       "      <td>5.00</td>\n",
       "      <td>974836809</td>\n",
       "    </tr>\n",
       "    <tr>\n",
       "      <th>2</th>\n",
       "      <td>54</td>\n",
       "      <td>47</td>\n",
       "      <td>4.00</td>\n",
       "      <td>974837760</td>\n",
       "    </tr>\n",
       "    <tr>\n",
       "      <th>3</th>\n",
       "      <td>54</td>\n",
       "      <td>50</td>\n",
       "      <td>4.00</td>\n",
       "      <td>974837760</td>\n",
       "    </tr>\n",
       "    <tr>\n",
       "      <th>4</th>\n",
       "      <td>54</td>\n",
       "      <td>223</td>\n",
       "      <td>5.00</td>\n",
       "      <td>974840217</td>\n",
       "    </tr>\n",
       "  </tbody>\n",
       "</table>\n",
       "</div>"
      ],
      "text/plain": [
       "   userId  movieId  rating  timestamp\n",
       "0      54        2    3.00  974918176\n",
       "1      54       32    5.00  974836809\n",
       "2      54       47    4.00  974837760\n",
       "3      54       50    4.00  974837760\n",
       "4      54      223    5.00  974840217"
      ]
     },
     "execution_count": 8,
     "metadata": {},
     "output_type": "execute_result"
    }
   ],
   "source": [
    "ratings.head()"
   ]
  },
  {
   "cell_type": "code",
   "execution_count": 9,
   "id": "dd2d7c17",
   "metadata": {},
   "outputs": [
    {
     "data": {
      "text/html": [
       "<div>\n",
       "<style scoped>\n",
       "    .dataframe tbody tr th:only-of-type {\n",
       "        vertical-align: middle;\n",
       "    }\n",
       "\n",
       "    .dataframe tbody tr th {\n",
       "        vertical-align: top;\n",
       "    }\n",
       "\n",
       "    .dataframe thead th {\n",
       "        text-align: right;\n",
       "    }\n",
       "</style>\n",
       "<table border=\"1\" class=\"dataframe\">\n",
       "  <thead>\n",
       "    <tr style=\"text-align: right;\">\n",
       "      <th></th>\n",
       "      <th>userId</th>\n",
       "      <th>movieId</th>\n",
       "      <th>rating</th>\n",
       "      <th>timestamp</th>\n",
       "    </tr>\n",
       "  </thead>\n",
       "  <tbody>\n",
       "    <tr>\n",
       "      <th>count</th>\n",
       "      <td>6040099.00</td>\n",
       "      <td>6040099.00</td>\n",
       "      <td>6040099.00</td>\n",
       "      <td>6040099.00</td>\n",
       "    </tr>\n",
       "    <tr>\n",
       "      <th>mean</th>\n",
       "      <td>68804.82</td>\n",
       "      <td>4822.96</td>\n",
       "      <td>3.55</td>\n",
       "      <td>1115774334.98</td>\n",
       "    </tr>\n",
       "    <tr>\n",
       "      <th>std</th>\n",
       "      <td>40102.24</td>\n",
       "      <td>11368.03</td>\n",
       "      <td>1.00</td>\n",
       "      <td>135843321.30</td>\n",
       "    </tr>\n",
       "    <tr>\n",
       "      <th>min</th>\n",
       "      <td>7.00</td>\n",
       "      <td>1.00</td>\n",
       "      <td>0.50</td>\n",
       "      <td>824835410.00</td>\n",
       "    </tr>\n",
       "    <tr>\n",
       "      <th>25%</th>\n",
       "      <td>34180.00</td>\n",
       "      <td>919.00</td>\n",
       "      <td>3.00</td>\n",
       "      <td>995660158.00</td>\n",
       "    </tr>\n",
       "    <tr>\n",
       "      <th>50%</th>\n",
       "      <td>68914.00</td>\n",
       "      <td>1876.00</td>\n",
       "      <td>4.00</td>\n",
       "      <td>1111706240.00</td>\n",
       "    </tr>\n",
       "    <tr>\n",
       "      <th>75%</th>\n",
       "      <td>103281.00</td>\n",
       "      <td>3448.00</td>\n",
       "      <td>4.00</td>\n",
       "      <td>1213151458.50</td>\n",
       "    </tr>\n",
       "    <tr>\n",
       "      <th>max</th>\n",
       "      <td>138493.00</td>\n",
       "      <td>81845.00</td>\n",
       "      <td>5.00</td>\n",
       "      <td>1427780469.00</td>\n",
       "    </tr>\n",
       "  </tbody>\n",
       "</table>\n",
       "</div>"
      ],
      "text/plain": [
       "          userId    movieId     rating     timestamp\n",
       "count 6040099.00 6040099.00 6040099.00    6040099.00\n",
       "mean    68804.82    4822.96       3.55 1115774334.98\n",
       "std     40102.24   11368.03       1.00  135843321.30\n",
       "min         7.00       1.00       0.50  824835410.00\n",
       "25%     34180.00     919.00       3.00  995660158.00\n",
       "50%     68914.00    1876.00       4.00 1111706240.00\n",
       "75%    103281.00    3448.00       4.00 1213151458.50\n",
       "max    138493.00   81845.00       5.00 1427780469.00"
      ]
     },
     "execution_count": 9,
     "metadata": {},
     "output_type": "execute_result"
    }
   ],
   "source": [
    "ratings.describe()"
   ]
  },
  {
   "cell_type": "code",
   "execution_count": 10,
   "metadata": {},
   "outputs": [],
   "source": [
    "# ratings.info(null_counts=True)"
   ]
  },
  {
   "cell_type": "code",
   "execution_count": 11,
   "id": "aebb7d43",
   "metadata": {},
   "outputs": [
    {
     "name": "stdout",
     "output_type": "stream",
     "text": [
      "userId       0\n",
      "movieId      0\n",
      "rating       0\n",
      "timestamp    0\n",
      "dtype: int64\n"
     ]
    }
   ],
   "source": [
    "print(ratings.isnull().sum())"
   ]
  },
  {
   "cell_type": "code",
   "execution_count": 12,
   "metadata": {},
   "outputs": [
    {
     "data": {
      "text/html": [
       "<div>\n",
       "<style scoped>\n",
       "    .dataframe tbody tr th:only-of-type {\n",
       "        vertical-align: middle;\n",
       "    }\n",
       "\n",
       "    .dataframe tbody tr th {\n",
       "        vertical-align: top;\n",
       "    }\n",
       "\n",
       "    .dataframe thead th {\n",
       "        text-align: right;\n",
       "    }\n",
       "</style>\n",
       "<table border=\"1\" class=\"dataframe\">\n",
       "  <thead>\n",
       "    <tr style=\"text-align: right;\">\n",
       "      <th></th>\n",
       "      <th>movieId</th>\n",
       "      <th>title</th>\n",
       "      <th>genres</th>\n",
       "    </tr>\n",
       "  </thead>\n",
       "  <tbody>\n",
       "    <tr>\n",
       "      <th>0</th>\n",
       "      <td>1</td>\n",
       "      <td>Toy Story (1995)</td>\n",
       "      <td>Adventure|Animation|Children|Comedy|Fantasy</td>\n",
       "    </tr>\n",
       "    <tr>\n",
       "      <th>1</th>\n",
       "      <td>2</td>\n",
       "      <td>Jumanji (1995)</td>\n",
       "      <td>Adventure|Children|Fantasy</td>\n",
       "    </tr>\n",
       "    <tr>\n",
       "      <th>2</th>\n",
       "      <td>3</td>\n",
       "      <td>Grumpier Old Men (1995)</td>\n",
       "      <td>Comedy|Romance</td>\n",
       "    </tr>\n",
       "    <tr>\n",
       "      <th>3</th>\n",
       "      <td>4</td>\n",
       "      <td>Waiting to Exhale (1995)</td>\n",
       "      <td>Comedy|Drama|Romance</td>\n",
       "    </tr>\n",
       "    <tr>\n",
       "      <th>4</th>\n",
       "      <td>5</td>\n",
       "      <td>Father of the Bride Part II (1995)</td>\n",
       "      <td>Comedy</td>\n",
       "    </tr>\n",
       "  </tbody>\n",
       "</table>\n",
       "</div>"
      ],
      "text/plain": [
       "   movieId                               title  \\\n",
       "0        1                    Toy Story (1995)   \n",
       "1        2                      Jumanji (1995)   \n",
       "2        3             Grumpier Old Men (1995)   \n",
       "3        4            Waiting to Exhale (1995)   \n",
       "4        5  Father of the Bride Part II (1995)   \n",
       "\n",
       "                                        genres  \n",
       "0  Adventure|Animation|Children|Comedy|Fantasy  \n",
       "1                   Adventure|Children|Fantasy  \n",
       "2                               Comedy|Romance  \n",
       "3                         Comedy|Drama|Romance  \n",
       "4                                       Comedy  "
      ]
     },
     "execution_count": 12,
     "metadata": {},
     "output_type": "execute_result"
    }
   ],
   "source": [
    "movies.head()"
   ]
  },
  {
   "cell_type": "code",
   "execution_count": 13,
   "metadata": {},
   "outputs": [
    {
     "name": "stdout",
     "output_type": "stream",
     "text": [
      "<class 'pandas.core.frame.DataFrame'>\n",
      "RangeIndex: 27278 entries, 0 to 27277\n",
      "Data columns (total 3 columns):\n",
      " #   Column   Non-Null Count  Dtype \n",
      "---  ------   --------------  ----- \n",
      " 0   movieId  27278 non-null  int64 \n",
      " 1   title    27278 non-null  object\n",
      " 2   genres   27278 non-null  object\n",
      "dtypes: int64(1), object(2)\n",
      "memory usage: 639.5+ KB\n"
     ]
    }
   ],
   "source": [
    "movies.info()"
   ]
  },
  {
   "cell_type": "markdown",
   "metadata": {},
   "source": [
    "Для удобства, сразу приджоиним фильмы"
   ]
  },
  {
   "cell_type": "code",
   "execution_count": 14,
   "metadata": {},
   "outputs": [],
   "source": [
    "ratings=(ratings.merge(movies, on='movieId'))"
   ]
  },
  {
   "cell_type": "code",
   "execution_count": 15,
   "metadata": {},
   "outputs": [
    {
     "data": {
      "text/plain": [
       "(6040099, 6)"
      ]
     },
     "execution_count": 15,
     "metadata": {},
     "output_type": "execute_result"
    }
   ],
   "source": [
    "ratings.shape"
   ]
  },
  {
   "cell_type": "code",
   "execution_count": 16,
   "metadata": {},
   "outputs": [
    {
     "data": {
      "text/html": [
       "<div>\n",
       "<style scoped>\n",
       "    .dataframe tbody tr th:only-of-type {\n",
       "        vertical-align: middle;\n",
       "    }\n",
       "\n",
       "    .dataframe tbody tr th {\n",
       "        vertical-align: top;\n",
       "    }\n",
       "\n",
       "    .dataframe thead th {\n",
       "        text-align: right;\n",
       "    }\n",
       "</style>\n",
       "<table border=\"1\" class=\"dataframe\">\n",
       "  <thead>\n",
       "    <tr style=\"text-align: right;\">\n",
       "      <th></th>\n",
       "      <th>userId</th>\n",
       "      <th>movieId</th>\n",
       "      <th>rating</th>\n",
       "      <th>timestamp</th>\n",
       "      <th>title</th>\n",
       "      <th>genres</th>\n",
       "    </tr>\n",
       "  </thead>\n",
       "  <tbody>\n",
       "    <tr>\n",
       "      <th>0</th>\n",
       "      <td>54</td>\n",
       "      <td>2</td>\n",
       "      <td>3.00</td>\n",
       "      <td>974918176</td>\n",
       "      <td>Jumanji (1995)</td>\n",
       "      <td>Adventure|Children|Fantasy</td>\n",
       "    </tr>\n",
       "    <tr>\n",
       "      <th>1</th>\n",
       "      <td>91</td>\n",
       "      <td>2</td>\n",
       "      <td>3.50</td>\n",
       "      <td>1112061358</td>\n",
       "      <td>Jumanji (1995)</td>\n",
       "      <td>Adventure|Children|Fantasy</td>\n",
       "    </tr>\n",
       "    <tr>\n",
       "      <th>2</th>\n",
       "      <td>116</td>\n",
       "      <td>2</td>\n",
       "      <td>2.00</td>\n",
       "      <td>1132728068</td>\n",
       "      <td>Jumanji (1995)</td>\n",
       "      <td>Adventure|Children|Fantasy</td>\n",
       "    </tr>\n",
       "    <tr>\n",
       "      <th>3</th>\n",
       "      <td>124</td>\n",
       "      <td>2</td>\n",
       "      <td>2.00</td>\n",
       "      <td>1134476330</td>\n",
       "      <td>Jumanji (1995)</td>\n",
       "      <td>Adventure|Children|Fantasy</td>\n",
       "    </tr>\n",
       "    <tr>\n",
       "      <th>4</th>\n",
       "      <td>129</td>\n",
       "      <td>2</td>\n",
       "      <td>3.00</td>\n",
       "      <td>1283448701</td>\n",
       "      <td>Jumanji (1995)</td>\n",
       "      <td>Adventure|Children|Fantasy</td>\n",
       "    </tr>\n",
       "    <tr>\n",
       "      <th>5</th>\n",
       "      <td>131</td>\n",
       "      <td>2</td>\n",
       "      <td>1.00</td>\n",
       "      <td>1238326861</td>\n",
       "      <td>Jumanji (1995)</td>\n",
       "      <td>Adventure|Children|Fantasy</td>\n",
       "    </tr>\n",
       "  </tbody>\n",
       "</table>\n",
       "</div>"
      ],
      "text/plain": [
       "   userId  movieId  rating   timestamp           title  \\\n",
       "0      54        2    3.00   974918176  Jumanji (1995)   \n",
       "1      91        2    3.50  1112061358  Jumanji (1995)   \n",
       "2     116        2    2.00  1132728068  Jumanji (1995)   \n",
       "3     124        2    2.00  1134476330  Jumanji (1995)   \n",
       "4     129        2    3.00  1283448701  Jumanji (1995)   \n",
       "5     131        2    1.00  1238326861  Jumanji (1995)   \n",
       "\n",
       "                       genres  \n",
       "0  Adventure|Children|Fantasy  \n",
       "1  Adventure|Children|Fantasy  \n",
       "2  Adventure|Children|Fantasy  \n",
       "3  Adventure|Children|Fantasy  \n",
       "4  Adventure|Children|Fantasy  \n",
       "5  Adventure|Children|Fantasy  "
      ]
     },
     "execution_count": 16,
     "metadata": {},
     "output_type": "execute_result"
    }
   ],
   "source": [
    "ratings[:6]"
   ]
  },
  {
   "cell_type": "code",
   "execution_count": 17,
   "metadata": {},
   "outputs": [
    {
     "data": {
      "text/plain": [
       "(20000, 1000)"
      ]
     },
     "execution_count": 17,
     "metadata": {},
     "output_type": "execute_result"
    }
   ],
   "source": [
    "n_users = ratings['userId'].nunique()\n",
    "n_movies = ratings['movieId'].nunique()\n",
    "(n_users, n_movies)"
   ]
  },
  {
   "cell_type": "code",
   "execution_count": 18,
   "metadata": {},
   "outputs": [
    {
     "data": {
      "text/html": [
       "<div>\n",
       "<style scoped>\n",
       "    .dataframe tbody tr th:only-of-type {\n",
       "        vertical-align: middle;\n",
       "    }\n",
       "\n",
       "    .dataframe tbody tr th {\n",
       "        vertical-align: top;\n",
       "    }\n",
       "\n",
       "    .dataframe thead th {\n",
       "        text-align: right;\n",
       "    }\n",
       "</style>\n",
       "<table border=\"1\" class=\"dataframe\">\n",
       "  <thead>\n",
       "    <tr style=\"text-align: right;\">\n",
       "      <th></th>\n",
       "      <th>userId</th>\n",
       "      <th>movieId</th>\n",
       "      <th>rating</th>\n",
       "      <th>timestamp</th>\n",
       "    </tr>\n",
       "  </thead>\n",
       "  <tbody>\n",
       "    <tr>\n",
       "      <th>count</th>\n",
       "      <td>6040099.00</td>\n",
       "      <td>6040099.00</td>\n",
       "      <td>6040099.00</td>\n",
       "      <td>6040099.00</td>\n",
       "    </tr>\n",
       "    <tr>\n",
       "      <th>mean</th>\n",
       "      <td>68804.82</td>\n",
       "      <td>4822.96</td>\n",
       "      <td>3.55</td>\n",
       "      <td>1115774334.98</td>\n",
       "    </tr>\n",
       "    <tr>\n",
       "      <th>std</th>\n",
       "      <td>40102.24</td>\n",
       "      <td>11368.03</td>\n",
       "      <td>1.00</td>\n",
       "      <td>135843321.30</td>\n",
       "    </tr>\n",
       "    <tr>\n",
       "      <th>min</th>\n",
       "      <td>7.00</td>\n",
       "      <td>1.00</td>\n",
       "      <td>0.50</td>\n",
       "      <td>824835410.00</td>\n",
       "    </tr>\n",
       "    <tr>\n",
       "      <th>25%</th>\n",
       "      <td>34180.00</td>\n",
       "      <td>919.00</td>\n",
       "      <td>3.00</td>\n",
       "      <td>995660158.00</td>\n",
       "    </tr>\n",
       "    <tr>\n",
       "      <th>50%</th>\n",
       "      <td>68914.00</td>\n",
       "      <td>1876.00</td>\n",
       "      <td>4.00</td>\n",
       "      <td>1111706240.00</td>\n",
       "    </tr>\n",
       "    <tr>\n",
       "      <th>75%</th>\n",
       "      <td>103281.00</td>\n",
       "      <td>3448.00</td>\n",
       "      <td>4.00</td>\n",
       "      <td>1213151458.50</td>\n",
       "    </tr>\n",
       "    <tr>\n",
       "      <th>max</th>\n",
       "      <td>138493.00</td>\n",
       "      <td>81845.00</td>\n",
       "      <td>5.00</td>\n",
       "      <td>1427780469.00</td>\n",
       "    </tr>\n",
       "  </tbody>\n",
       "</table>\n",
       "</div>"
      ],
      "text/plain": [
       "          userId    movieId     rating     timestamp\n",
       "count 6040099.00 6040099.00 6040099.00    6040099.00\n",
       "mean    68804.82    4822.96       3.55 1115774334.98\n",
       "std     40102.24   11368.03       1.00  135843321.30\n",
       "min         7.00       1.00       0.50  824835410.00\n",
       "25%     34180.00     919.00       3.00  995660158.00\n",
       "50%     68914.00    1876.00       4.00 1111706240.00\n",
       "75%    103281.00    3448.00       4.00 1213151458.50\n",
       "max    138493.00   81845.00       5.00 1427780469.00"
      ]
     },
     "execution_count": 18,
     "metadata": {},
     "output_type": "execute_result"
    }
   ],
   "source": [
    "ratings.describe()"
   ]
  },
  {
   "cell_type": "markdown",
   "metadata": {},
   "source": [
    "Для удобства отмасштабируем идентификаторы фильмов таким образом, чтобы они начинались с 0 и заканчивались на n_movies-1\n",
    "\n",
    "Этот метод позволит находить фильм по индексу матрицы (i-й столбец матрицы это i-й фильм)"
   ]
  },
  {
   "cell_type": "code",
   "execution_count": 19,
   "metadata": {},
   "outputs": [
    {
     "data": {
      "text/html": [
       "<div>\n",
       "<style scoped>\n",
       "    .dataframe tbody tr th:only-of-type {\n",
       "        vertical-align: middle;\n",
       "    }\n",
       "\n",
       "    .dataframe tbody tr th {\n",
       "        vertical-align: top;\n",
       "    }\n",
       "\n",
       "    .dataframe thead th {\n",
       "        text-align: right;\n",
       "    }\n",
       "</style>\n",
       "<table border=\"1\" class=\"dataframe\">\n",
       "  <thead>\n",
       "    <tr style=\"text-align: right;\">\n",
       "      <th></th>\n",
       "      <th>userId</th>\n",
       "      <th>movieId</th>\n",
       "      <th>rating</th>\n",
       "      <th>timestamp</th>\n",
       "      <th>title</th>\n",
       "      <th>genres</th>\n",
       "    </tr>\n",
       "  </thead>\n",
       "  <tbody>\n",
       "    <tr>\n",
       "      <th>0</th>\n",
       "      <td>54</td>\n",
       "      <td>2</td>\n",
       "      <td>3.00</td>\n",
       "      <td>974918176</td>\n",
       "      <td>Jumanji (1995)</td>\n",
       "      <td>Adventure|Children|Fantasy</td>\n",
       "    </tr>\n",
       "    <tr>\n",
       "      <th>1</th>\n",
       "      <td>91</td>\n",
       "      <td>2</td>\n",
       "      <td>3.50</td>\n",
       "      <td>1112061358</td>\n",
       "      <td>Jumanji (1995)</td>\n",
       "      <td>Adventure|Children|Fantasy</td>\n",
       "    </tr>\n",
       "    <tr>\n",
       "      <th>2</th>\n",
       "      <td>116</td>\n",
       "      <td>2</td>\n",
       "      <td>2.00</td>\n",
       "      <td>1132728068</td>\n",
       "      <td>Jumanji (1995)</td>\n",
       "      <td>Adventure|Children|Fantasy</td>\n",
       "    </tr>\n",
       "    <tr>\n",
       "      <th>3</th>\n",
       "      <td>124</td>\n",
       "      <td>2</td>\n",
       "      <td>2.00</td>\n",
       "      <td>1134476330</td>\n",
       "      <td>Jumanji (1995)</td>\n",
       "      <td>Adventure|Children|Fantasy</td>\n",
       "    </tr>\n",
       "    <tr>\n",
       "      <th>4</th>\n",
       "      <td>129</td>\n",
       "      <td>2</td>\n",
       "      <td>3.00</td>\n",
       "      <td>1283448701</td>\n",
       "      <td>Jumanji (1995)</td>\n",
       "      <td>Adventure|Children|Fantasy</td>\n",
       "    </tr>\n",
       "  </tbody>\n",
       "</table>\n",
       "</div>"
      ],
      "text/plain": [
       "   userId  movieId  rating   timestamp           title  \\\n",
       "0      54        2    3.00   974918176  Jumanji (1995)   \n",
       "1      91        2    3.50  1112061358  Jumanji (1995)   \n",
       "2     116        2    2.00  1132728068  Jumanji (1995)   \n",
       "3     124        2    2.00  1134476330  Jumanji (1995)   \n",
       "4     129        2    3.00  1283448701  Jumanji (1995)   \n",
       "\n",
       "                       genres  \n",
       "0  Adventure|Children|Fantasy  \n",
       "1  Adventure|Children|Fantasy  \n",
       "2  Adventure|Children|Fantasy  \n",
       "3  Adventure|Children|Fantasy  \n",
       "4  Adventure|Children|Fantasy  "
      ]
     },
     "execution_count": 19,
     "metadata": {},
     "output_type": "execute_result"
    }
   ],
   "source": [
    "ratings.head()"
   ]
  },
  {
   "cell_type": "code",
   "execution_count": 20,
   "metadata": {},
   "outputs": [
    {
     "name": "stdout",
     "output_type": "stream",
     "text": [
      "CPU times: total: 38.8 s\n",
      "Wall time: 39.7 s\n"
     ]
    }
   ],
   "source": [
    "%%time\n",
    "movies_values = ratings['movieId'].unique()\n",
    "\n",
    "ratings['movieId'] = ratings['movieId'].apply(lambda f: np.where(movies_values == f)[0][0])"
   ]
  },
  {
   "cell_type": "markdown",
   "metadata": {},
   "source": [
    "Также отмасштабируем идентификаторы пользователей таким образом, чтобы они начинались с 0 и заканчивались на n_users-1\n",
    "\n",
    "Этот метод позволит находить пользовтеля по индексу матрицы (i-я строка матрицы это i-й пользователь)"
   ]
  },
  {
   "cell_type": "code",
   "execution_count": 21,
   "metadata": {},
   "outputs": [
    {
     "name": "stdout",
     "output_type": "stream",
     "text": [
      "CPU times: total: 1min 16s\n",
      "Wall time: 1min 17s\n"
     ]
    }
   ],
   "source": [
    "%%time\n",
    "users_values = ratings['userId'].unique()\n",
    "\n",
    "ratings['userId'] = ratings['userId'].apply(lambda f: np.where(users_values == f)[0][0])"
   ]
  },
  {
   "cell_type": "code",
   "execution_count": 22,
   "metadata": {},
   "outputs": [
    {
     "data": {
      "text/html": [
       "<div>\n",
       "<style scoped>\n",
       "    .dataframe tbody tr th:only-of-type {\n",
       "        vertical-align: middle;\n",
       "    }\n",
       "\n",
       "    .dataframe tbody tr th {\n",
       "        vertical-align: top;\n",
       "    }\n",
       "\n",
       "    .dataframe thead th {\n",
       "        text-align: right;\n",
       "    }\n",
       "</style>\n",
       "<table border=\"1\" class=\"dataframe\">\n",
       "  <thead>\n",
       "    <tr style=\"text-align: right;\">\n",
       "      <th></th>\n",
       "      <th>userId</th>\n",
       "      <th>movieId</th>\n",
       "      <th>rating</th>\n",
       "      <th>timestamp</th>\n",
       "      <th>title</th>\n",
       "      <th>genres</th>\n",
       "    </tr>\n",
       "  </thead>\n",
       "  <tbody>\n",
       "    <tr>\n",
       "      <th>0</th>\n",
       "      <td>0</td>\n",
       "      <td>0</td>\n",
       "      <td>3.00</td>\n",
       "      <td>974918176</td>\n",
       "      <td>Jumanji (1995)</td>\n",
       "      <td>Adventure|Children|Fantasy</td>\n",
       "    </tr>\n",
       "    <tr>\n",
       "      <th>1</th>\n",
       "      <td>1</td>\n",
       "      <td>0</td>\n",
       "      <td>3.50</td>\n",
       "      <td>1112061358</td>\n",
       "      <td>Jumanji (1995)</td>\n",
       "      <td>Adventure|Children|Fantasy</td>\n",
       "    </tr>\n",
       "    <tr>\n",
       "      <th>2</th>\n",
       "      <td>2</td>\n",
       "      <td>0</td>\n",
       "      <td>2.00</td>\n",
       "      <td>1132728068</td>\n",
       "      <td>Jumanji (1995)</td>\n",
       "      <td>Adventure|Children|Fantasy</td>\n",
       "    </tr>\n",
       "    <tr>\n",
       "      <th>3</th>\n",
       "      <td>3</td>\n",
       "      <td>0</td>\n",
       "      <td>2.00</td>\n",
       "      <td>1134476330</td>\n",
       "      <td>Jumanji (1995)</td>\n",
       "      <td>Adventure|Children|Fantasy</td>\n",
       "    </tr>\n",
       "    <tr>\n",
       "      <th>4</th>\n",
       "      <td>4</td>\n",
       "      <td>0</td>\n",
       "      <td>3.00</td>\n",
       "      <td>1283448701</td>\n",
       "      <td>Jumanji (1995)</td>\n",
       "      <td>Adventure|Children|Fantasy</td>\n",
       "    </tr>\n",
       "  </tbody>\n",
       "</table>\n",
       "</div>"
      ],
      "text/plain": [
       "   userId  movieId  rating   timestamp           title  \\\n",
       "0       0        0    3.00   974918176  Jumanji (1995)   \n",
       "1       1        0    3.50  1112061358  Jumanji (1995)   \n",
       "2       2        0    2.00  1132728068  Jumanji (1995)   \n",
       "3       3        0    2.00  1134476330  Jumanji (1995)   \n",
       "4       4        0    3.00  1283448701  Jumanji (1995)   \n",
       "\n",
       "                       genres  \n",
       "0  Adventure|Children|Fantasy  \n",
       "1  Adventure|Children|Fantasy  \n",
       "2  Adventure|Children|Fantasy  \n",
       "3  Adventure|Children|Fantasy  \n",
       "4  Adventure|Children|Fantasy  "
      ]
     },
     "execution_count": 22,
     "metadata": {},
     "output_type": "execute_result"
    }
   ],
   "source": [
    "ratings[:5]"
   ]
  },
  {
   "cell_type": "code",
   "execution_count": 23,
   "metadata": {},
   "outputs": [
    {
     "data": {
      "text/html": [
       "<div>\n",
       "<style scoped>\n",
       "    .dataframe tbody tr th:only-of-type {\n",
       "        vertical-align: middle;\n",
       "    }\n",
       "\n",
       "    .dataframe tbody tr th {\n",
       "        vertical-align: top;\n",
       "    }\n",
       "\n",
       "    .dataframe thead th {\n",
       "        text-align: right;\n",
       "    }\n",
       "</style>\n",
       "<table border=\"1\" class=\"dataframe\">\n",
       "  <thead>\n",
       "    <tr style=\"text-align: right;\">\n",
       "      <th></th>\n",
       "      <th>userId</th>\n",
       "      <th>movieId</th>\n",
       "      <th>rating</th>\n",
       "      <th>timestamp</th>\n",
       "    </tr>\n",
       "  </thead>\n",
       "  <tbody>\n",
       "    <tr>\n",
       "      <th>count</th>\n",
       "      <td>6040099.00</td>\n",
       "      <td>6040099.00</td>\n",
       "      <td>6040099.00</td>\n",
       "      <td>6040099.00</td>\n",
       "    </tr>\n",
       "    <tr>\n",
       "      <th>mean</th>\n",
       "      <td>9115.02</td>\n",
       "      <td>422.90</td>\n",
       "      <td>3.55</td>\n",
       "      <td>1115774334.98</td>\n",
       "    </tr>\n",
       "    <tr>\n",
       "      <th>std</th>\n",
       "      <td>5563.83</td>\n",
       "      <td>283.85</td>\n",
       "      <td>1.00</td>\n",
       "      <td>135843321.30</td>\n",
       "    </tr>\n",
       "    <tr>\n",
       "      <th>min</th>\n",
       "      <td>0.00</td>\n",
       "      <td>0.00</td>\n",
       "      <td>0.50</td>\n",
       "      <td>824835410.00</td>\n",
       "    </tr>\n",
       "    <tr>\n",
       "      <th>25%</th>\n",
       "      <td>4365.00</td>\n",
       "      <td>165.00</td>\n",
       "      <td>3.00</td>\n",
       "      <td>995660158.00</td>\n",
       "    </tr>\n",
       "    <tr>\n",
       "      <th>50%</th>\n",
       "      <td>8679.00</td>\n",
       "      <td>415.00</td>\n",
       "      <td>4.00</td>\n",
       "      <td>1111706240.00</td>\n",
       "    </tr>\n",
       "    <tr>\n",
       "      <th>75%</th>\n",
       "      <td>13758.00</td>\n",
       "      <td>646.00</td>\n",
       "      <td>4.00</td>\n",
       "      <td>1213151458.50</td>\n",
       "    </tr>\n",
       "    <tr>\n",
       "      <th>max</th>\n",
       "      <td>19999.00</td>\n",
       "      <td>999.00</td>\n",
       "      <td>5.00</td>\n",
       "      <td>1427780469.00</td>\n",
       "    </tr>\n",
       "  </tbody>\n",
       "</table>\n",
       "</div>"
      ],
      "text/plain": [
       "          userId    movieId     rating     timestamp\n",
       "count 6040099.00 6040099.00 6040099.00    6040099.00\n",
       "mean     9115.02     422.90       3.55 1115774334.98\n",
       "std      5563.83     283.85       1.00  135843321.30\n",
       "min         0.00       0.00       0.50  824835410.00\n",
       "25%      4365.00     165.00       3.00  995660158.00\n",
       "50%      8679.00     415.00       4.00 1111706240.00\n",
       "75%     13758.00     646.00       4.00 1213151458.50\n",
       "max     19999.00     999.00       5.00 1427780469.00"
      ]
     },
     "execution_count": 23,
     "metadata": {},
     "output_type": "execute_result"
    }
   ],
   "source": [
    "ratings.describe()"
   ]
  },
  {
   "cell_type": "markdown",
   "metadata": {},
   "source": [
    "# Контентная рекомендация фильмов"
   ]
  },
  {
   "cell_type": "markdown",
   "metadata": {},
   "source": [
    "Реализуем алгоритм рекомендации, используя только информацию о фильмах. \n",
    "\n",
    "Используя название и жанр фильма, сформируем tf-idf ветора, и для каждого фильма найдем топ 5 похожих фильмов по косинусному расстоянию."
   ]
  },
  {
   "cell_type": "markdown",
   "metadata": {},
   "source": [
    "Извлечем фильмы, сделам текстовую фичу test_feature, которую будем кодировать"
   ]
  },
  {
   "cell_type": "code",
   "execution_count": 24,
   "metadata": {},
   "outputs": [],
   "source": [
    "unique_movies = ratings[['movieId', 'title', 'genres']].drop_duplicates()"
   ]
  },
  {
   "cell_type": "code",
   "execution_count": 25,
   "metadata": {},
   "outputs": [
    {
     "data": {
      "text/plain": [
       "(1000, 3)"
      ]
     },
     "execution_count": 25,
     "metadata": {},
     "output_type": "execute_result"
    }
   ],
   "source": [
    "unique_movies.shape"
   ]
  },
  {
   "cell_type": "code",
   "execution_count": 26,
   "metadata": {},
   "outputs": [
    {
     "data": {
      "text/html": [
       "<div>\n",
       "<style scoped>\n",
       "    .dataframe tbody tr th:only-of-type {\n",
       "        vertical-align: middle;\n",
       "    }\n",
       "\n",
       "    .dataframe tbody tr th {\n",
       "        vertical-align: top;\n",
       "    }\n",
       "\n",
       "    .dataframe thead th {\n",
       "        text-align: right;\n",
       "    }\n",
       "</style>\n",
       "<table border=\"1\" class=\"dataframe\">\n",
       "  <thead>\n",
       "    <tr style=\"text-align: right;\">\n",
       "      <th></th>\n",
       "      <th>movieId</th>\n",
       "      <th>title</th>\n",
       "      <th>genres</th>\n",
       "    </tr>\n",
       "  </thead>\n",
       "  <tbody>\n",
       "    <tr>\n",
       "      <th>0</th>\n",
       "      <td>0</td>\n",
       "      <td>Jumanji (1995)</td>\n",
       "      <td>Adventure|Children|Fantasy</td>\n",
       "    </tr>\n",
       "    <tr>\n",
       "      <th>9524</th>\n",
       "      <td>1</td>\n",
       "      <td>Twelve Monkeys (a.k.a. 12 Monkeys) (1995)</td>\n",
       "      <td>Mystery|Sci-Fi|Thriller</td>\n",
       "    </tr>\n",
       "    <tr>\n",
       "      <th>23118</th>\n",
       "      <td>2</td>\n",
       "      <td>Seven (a.k.a. Se7en) (1995)</td>\n",
       "      <td>Mystery|Thriller</td>\n",
       "    </tr>\n",
       "    <tr>\n",
       "      <th>36942</th>\n",
       "      <td>3</td>\n",
       "      <td>Usual Suspects, The (1995)</td>\n",
       "      <td>Crime|Mystery|Thriller</td>\n",
       "    </tr>\n",
       "    <tr>\n",
       "      <th>51035</th>\n",
       "      <td>4</td>\n",
       "      <td>Clerks (1994)</td>\n",
       "      <td>Comedy</td>\n",
       "    </tr>\n",
       "  </tbody>\n",
       "</table>\n",
       "</div>"
      ],
      "text/plain": [
       "       movieId                                      title  \\\n",
       "0            0                             Jumanji (1995)   \n",
       "9524         1  Twelve Monkeys (a.k.a. 12 Monkeys) (1995)   \n",
       "23118        2                Seven (a.k.a. Se7en) (1995)   \n",
       "36942        3                 Usual Suspects, The (1995)   \n",
       "51035        4                              Clerks (1994)   \n",
       "\n",
       "                           genres  \n",
       "0      Adventure|Children|Fantasy  \n",
       "9524      Mystery|Sci-Fi|Thriller  \n",
       "23118            Mystery|Thriller  \n",
       "36942      Crime|Mystery|Thriller  \n",
       "51035                      Comedy  "
      ]
     },
     "execution_count": 26,
     "metadata": {},
     "output_type": "execute_result"
    }
   ],
   "source": [
    "unique_movies.head()"
   ]
  },
  {
   "cell_type": "code",
   "execution_count": 27,
   "metadata": {},
   "outputs": [],
   "source": [
    "unique_movies['genres'] = unique_movies['genres'].apply(lambda x: ' '.join(x.split('|')))"
   ]
  },
  {
   "cell_type": "code",
   "execution_count": 28,
   "metadata": {},
   "outputs": [],
   "source": [
    "unique_movies['text_feature'] = unique_movies.apply(lambda x: x['title'].lower() + ' ' + x['genres'].lower(), axis = 1)"
   ]
  },
  {
   "cell_type": "code",
   "execution_count": 29,
   "metadata": {},
   "outputs": [],
   "source": [
    "unique_movies = unique_movies.sort_values('movieId')"
   ]
  },
  {
   "cell_type": "code",
   "execution_count": 30,
   "metadata": {},
   "outputs": [
    {
     "data": {
      "text/html": [
       "<div>\n",
       "<style scoped>\n",
       "    .dataframe tbody tr th:only-of-type {\n",
       "        vertical-align: middle;\n",
       "    }\n",
       "\n",
       "    .dataframe tbody tr th {\n",
       "        vertical-align: top;\n",
       "    }\n",
       "\n",
       "    .dataframe thead th {\n",
       "        text-align: right;\n",
       "    }\n",
       "</style>\n",
       "<table border=\"1\" class=\"dataframe\">\n",
       "  <thead>\n",
       "    <tr style=\"text-align: right;\">\n",
       "      <th></th>\n",
       "      <th>movieId</th>\n",
       "      <th>title</th>\n",
       "      <th>genres</th>\n",
       "      <th>text_feature</th>\n",
       "    </tr>\n",
       "  </thead>\n",
       "  <tbody>\n",
       "    <tr>\n",
       "      <th>0</th>\n",
       "      <td>0</td>\n",
       "      <td>Jumanji (1995)</td>\n",
       "      <td>Adventure Children Fantasy</td>\n",
       "      <td>jumanji (1995) adventure children fantasy</td>\n",
       "    </tr>\n",
       "    <tr>\n",
       "      <th>9524</th>\n",
       "      <td>1</td>\n",
       "      <td>Twelve Monkeys (a.k.a. 12 Monkeys) (1995)</td>\n",
       "      <td>Mystery Sci-Fi Thriller</td>\n",
       "      <td>twelve monkeys (a.k.a. 12 monkeys) (1995) mystery sci-fi thriller</td>\n",
       "    </tr>\n",
       "    <tr>\n",
       "      <th>23118</th>\n",
       "      <td>2</td>\n",
       "      <td>Seven (a.k.a. Se7en) (1995)</td>\n",
       "      <td>Mystery Thriller</td>\n",
       "      <td>seven (a.k.a. se7en) (1995) mystery thriller</td>\n",
       "    </tr>\n",
       "    <tr>\n",
       "      <th>36942</th>\n",
       "      <td>3</td>\n",
       "      <td>Usual Suspects, The (1995)</td>\n",
       "      <td>Crime Mystery Thriller</td>\n",
       "      <td>usual suspects, the (1995) crime mystery thriller</td>\n",
       "    </tr>\n",
       "    <tr>\n",
       "      <th>51035</th>\n",
       "      <td>4</td>\n",
       "      <td>Clerks (1994)</td>\n",
       "      <td>Comedy</td>\n",
       "      <td>clerks (1994) comedy</td>\n",
       "    </tr>\n",
       "  </tbody>\n",
       "</table>\n",
       "</div>"
      ],
      "text/plain": [
       "       movieId                                      title  \\\n",
       "0            0                             Jumanji (1995)   \n",
       "9524         1  Twelve Monkeys (a.k.a. 12 Monkeys) (1995)   \n",
       "23118        2                Seven (a.k.a. Se7en) (1995)   \n",
       "36942        3                 Usual Suspects, The (1995)   \n",
       "51035        4                              Clerks (1994)   \n",
       "\n",
       "                           genres  \\\n",
       "0      Adventure Children Fantasy   \n",
       "9524      Mystery Sci-Fi Thriller   \n",
       "23118            Mystery Thriller   \n",
       "36942      Crime Mystery Thriller   \n",
       "51035                      Comedy   \n",
       "\n",
       "                                                            text_feature  \n",
       "0                              jumanji (1995) adventure children fantasy  \n",
       "9524   twelve monkeys (a.k.a. 12 monkeys) (1995) mystery sci-fi thriller  \n",
       "23118                       seven (a.k.a. se7en) (1995) mystery thriller  \n",
       "36942                  usual suspects, the (1995) crime mystery thriller  \n",
       "51035                                               clerks (1994) comedy  "
      ]
     },
     "execution_count": 30,
     "metadata": {},
     "output_type": "execute_result"
    }
   ],
   "source": [
    "unique_movies[:5]"
   ]
  },
  {
   "cell_type": "markdown",
   "metadata": {},
   "source": [
    "Сформируем tf-idf ветора для каждого text_feature  \n",
    "Как считается [TF-IDF](https://ru.wikipedia.org/wiki/TF-IDF)"
   ]
  },
  {
   "cell_type": "code",
   "execution_count": 31,
   "metadata": {},
   "outputs": [],
   "source": [
    "vectorizer = TfidfVectorizer()"
   ]
  },
  {
   "cell_type": "code",
   "execution_count": 32,
   "metadata": {},
   "outputs": [],
   "source": [
    "tfidf_features = vectorizer.fit_transform(unique_movies['text_feature']).toarray()"
   ]
  },
  {
   "cell_type": "code",
   "execution_count": 33,
   "metadata": {},
   "outputs": [
    {
     "data": {
      "text/plain": [
       "(1000, 1646)"
      ]
     },
     "execution_count": 33,
     "metadata": {},
     "output_type": "execute_result"
    }
   ],
   "source": [
    "tfidf_features.shape"
   ]
  },
  {
   "cell_type": "code",
   "execution_count": 34,
   "metadata": {},
   "outputs": [
    {
     "data": {
      "text/html": [
       "<div>\n",
       "<style scoped>\n",
       "    .dataframe tbody tr th:only-of-type {\n",
       "        vertical-align: middle;\n",
       "    }\n",
       "\n",
       "    .dataframe tbody tr th {\n",
       "        vertical-align: top;\n",
       "    }\n",
       "\n",
       "    .dataframe thead th {\n",
       "        text-align: right;\n",
       "    }\n",
       "</style>\n",
       "<table border=\"1\" class=\"dataframe\">\n",
       "  <thead>\n",
       "    <tr style=\"text-align: right;\">\n",
       "      <th></th>\n",
       "      <th>0</th>\n",
       "      <th>1</th>\n",
       "      <th>2</th>\n",
       "      <th>3</th>\n",
       "      <th>4</th>\n",
       "      <th>5</th>\n",
       "      <th>6</th>\n",
       "      <th>7</th>\n",
       "      <th>8</th>\n",
       "      <th>9</th>\n",
       "      <th>...</th>\n",
       "      <th>1636</th>\n",
       "      <th>1637</th>\n",
       "      <th>1638</th>\n",
       "      <th>1639</th>\n",
       "      <th>1640</th>\n",
       "      <th>1641</th>\n",
       "      <th>1642</th>\n",
       "      <th>1643</th>\n",
       "      <th>1644</th>\n",
       "      <th>1645</th>\n",
       "    </tr>\n",
       "  </thead>\n",
       "  <tbody>\n",
       "    <tr>\n",
       "      <th>0</th>\n",
       "      <td>0.00</td>\n",
       "      <td>0.00</td>\n",
       "      <td>0.00</td>\n",
       "      <td>0.00</td>\n",
       "      <td>0.00</td>\n",
       "      <td>0.00</td>\n",
       "      <td>0.00</td>\n",
       "      <td>0.00</td>\n",
       "      <td>0.00</td>\n",
       "      <td>0.00</td>\n",
       "      <td>...</td>\n",
       "      <td>0.00</td>\n",
       "      <td>0.00</td>\n",
       "      <td>0.00</td>\n",
       "      <td>0.00</td>\n",
       "      <td>0.00</td>\n",
       "      <td>0.00</td>\n",
       "      <td>0.00</td>\n",
       "      <td>0.00</td>\n",
       "      <td>0.00</td>\n",
       "      <td>0.00</td>\n",
       "    </tr>\n",
       "    <tr>\n",
       "      <th>1</th>\n",
       "      <td>0.00</td>\n",
       "      <td>0.00</td>\n",
       "      <td>0.00</td>\n",
       "      <td>0.00</td>\n",
       "      <td>0.37</td>\n",
       "      <td>0.00</td>\n",
       "      <td>0.00</td>\n",
       "      <td>0.00</td>\n",
       "      <td>0.00</td>\n",
       "      <td>0.00</td>\n",
       "      <td>...</td>\n",
       "      <td>0.00</td>\n",
       "      <td>0.00</td>\n",
       "      <td>0.00</td>\n",
       "      <td>0.00</td>\n",
       "      <td>0.00</td>\n",
       "      <td>0.00</td>\n",
       "      <td>0.00</td>\n",
       "      <td>0.00</td>\n",
       "      <td>0.00</td>\n",
       "      <td>0.00</td>\n",
       "    </tr>\n",
       "    <tr>\n",
       "      <th>2</th>\n",
       "      <td>0.00</td>\n",
       "      <td>0.00</td>\n",
       "      <td>0.00</td>\n",
       "      <td>0.00</td>\n",
       "      <td>0.00</td>\n",
       "      <td>0.00</td>\n",
       "      <td>0.00</td>\n",
       "      <td>0.00</td>\n",
       "      <td>0.00</td>\n",
       "      <td>0.00</td>\n",
       "      <td>...</td>\n",
       "      <td>0.00</td>\n",
       "      <td>0.00</td>\n",
       "      <td>0.00</td>\n",
       "      <td>0.00</td>\n",
       "      <td>0.00</td>\n",
       "      <td>0.00</td>\n",
       "      <td>0.00</td>\n",
       "      <td>0.00</td>\n",
       "      <td>0.00</td>\n",
       "      <td>0.00</td>\n",
       "    </tr>\n",
       "    <tr>\n",
       "      <th>3</th>\n",
       "      <td>0.00</td>\n",
       "      <td>0.00</td>\n",
       "      <td>0.00</td>\n",
       "      <td>0.00</td>\n",
       "      <td>0.00</td>\n",
       "      <td>0.00</td>\n",
       "      <td>0.00</td>\n",
       "      <td>0.00</td>\n",
       "      <td>0.00</td>\n",
       "      <td>0.00</td>\n",
       "      <td>...</td>\n",
       "      <td>0.00</td>\n",
       "      <td>0.00</td>\n",
       "      <td>0.00</td>\n",
       "      <td>0.00</td>\n",
       "      <td>0.00</td>\n",
       "      <td>0.00</td>\n",
       "      <td>0.00</td>\n",
       "      <td>0.00</td>\n",
       "      <td>0.00</td>\n",
       "      <td>0.00</td>\n",
       "    </tr>\n",
       "    <tr>\n",
       "      <th>4</th>\n",
       "      <td>0.00</td>\n",
       "      <td>0.00</td>\n",
       "      <td>0.00</td>\n",
       "      <td>0.00</td>\n",
       "      <td>0.00</td>\n",
       "      <td>0.00</td>\n",
       "      <td>0.00</td>\n",
       "      <td>0.00</td>\n",
       "      <td>0.00</td>\n",
       "      <td>0.00</td>\n",
       "      <td>...</td>\n",
       "      <td>0.00</td>\n",
       "      <td>0.00</td>\n",
       "      <td>0.00</td>\n",
       "      <td>0.00</td>\n",
       "      <td>0.00</td>\n",
       "      <td>0.00</td>\n",
       "      <td>0.00</td>\n",
       "      <td>0.00</td>\n",
       "      <td>0.00</td>\n",
       "      <td>0.00</td>\n",
       "    </tr>\n",
       "    <tr>\n",
       "      <th>...</th>\n",
       "      <td>...</td>\n",
       "      <td>...</td>\n",
       "      <td>...</td>\n",
       "      <td>...</td>\n",
       "      <td>...</td>\n",
       "      <td>...</td>\n",
       "      <td>...</td>\n",
       "      <td>...</td>\n",
       "      <td>...</td>\n",
       "      <td>...</td>\n",
       "      <td>...</td>\n",
       "      <td>...</td>\n",
       "      <td>...</td>\n",
       "      <td>...</td>\n",
       "      <td>...</td>\n",
       "      <td>...</td>\n",
       "      <td>...</td>\n",
       "      <td>...</td>\n",
       "      <td>...</td>\n",
       "      <td>...</td>\n",
       "      <td>...</td>\n",
       "    </tr>\n",
       "    <tr>\n",
       "      <th>995</th>\n",
       "      <td>0.00</td>\n",
       "      <td>0.00</td>\n",
       "      <td>0.00</td>\n",
       "      <td>0.00</td>\n",
       "      <td>0.00</td>\n",
       "      <td>0.00</td>\n",
       "      <td>0.00</td>\n",
       "      <td>0.00</td>\n",
       "      <td>0.00</td>\n",
       "      <td>0.00</td>\n",
       "      <td>...</td>\n",
       "      <td>0.00</td>\n",
       "      <td>0.00</td>\n",
       "      <td>0.00</td>\n",
       "      <td>0.00</td>\n",
       "      <td>0.00</td>\n",
       "      <td>0.00</td>\n",
       "      <td>0.00</td>\n",
       "      <td>0.00</td>\n",
       "      <td>0.00</td>\n",
       "      <td>0.00</td>\n",
       "    </tr>\n",
       "    <tr>\n",
       "      <th>996</th>\n",
       "      <td>0.00</td>\n",
       "      <td>0.00</td>\n",
       "      <td>0.00</td>\n",
       "      <td>0.00</td>\n",
       "      <td>0.00</td>\n",
       "      <td>0.00</td>\n",
       "      <td>0.00</td>\n",
       "      <td>0.00</td>\n",
       "      <td>0.00</td>\n",
       "      <td>0.00</td>\n",
       "      <td>...</td>\n",
       "      <td>0.00</td>\n",
       "      <td>0.00</td>\n",
       "      <td>0.00</td>\n",
       "      <td>0.00</td>\n",
       "      <td>0.00</td>\n",
       "      <td>0.00</td>\n",
       "      <td>0.00</td>\n",
       "      <td>0.00</td>\n",
       "      <td>0.00</td>\n",
       "      <td>0.00</td>\n",
       "    </tr>\n",
       "    <tr>\n",
       "      <th>997</th>\n",
       "      <td>0.00</td>\n",
       "      <td>0.00</td>\n",
       "      <td>0.00</td>\n",
       "      <td>0.00</td>\n",
       "      <td>0.00</td>\n",
       "      <td>0.00</td>\n",
       "      <td>0.00</td>\n",
       "      <td>0.00</td>\n",
       "      <td>0.00</td>\n",
       "      <td>0.00</td>\n",
       "      <td>...</td>\n",
       "      <td>0.00</td>\n",
       "      <td>0.00</td>\n",
       "      <td>0.00</td>\n",
       "      <td>0.00</td>\n",
       "      <td>0.00</td>\n",
       "      <td>0.00</td>\n",
       "      <td>0.00</td>\n",
       "      <td>0.00</td>\n",
       "      <td>0.00</td>\n",
       "      <td>0.00</td>\n",
       "    </tr>\n",
       "    <tr>\n",
       "      <th>998</th>\n",
       "      <td>0.00</td>\n",
       "      <td>0.00</td>\n",
       "      <td>0.00</td>\n",
       "      <td>0.00</td>\n",
       "      <td>0.00</td>\n",
       "      <td>0.00</td>\n",
       "      <td>0.00</td>\n",
       "      <td>0.00</td>\n",
       "      <td>0.00</td>\n",
       "      <td>0.00</td>\n",
       "      <td>...</td>\n",
       "      <td>0.00</td>\n",
       "      <td>0.00</td>\n",
       "      <td>0.00</td>\n",
       "      <td>0.00</td>\n",
       "      <td>0.00</td>\n",
       "      <td>0.00</td>\n",
       "      <td>0.00</td>\n",
       "      <td>0.00</td>\n",
       "      <td>0.00</td>\n",
       "      <td>0.00</td>\n",
       "    </tr>\n",
       "    <tr>\n",
       "      <th>999</th>\n",
       "      <td>0.00</td>\n",
       "      <td>0.00</td>\n",
       "      <td>0.00</td>\n",
       "      <td>0.00</td>\n",
       "      <td>0.00</td>\n",
       "      <td>0.00</td>\n",
       "      <td>0.00</td>\n",
       "      <td>0.00</td>\n",
       "      <td>0.00</td>\n",
       "      <td>0.00</td>\n",
       "      <td>...</td>\n",
       "      <td>0.00</td>\n",
       "      <td>0.00</td>\n",
       "      <td>0.00</td>\n",
       "      <td>0.00</td>\n",
       "      <td>0.00</td>\n",
       "      <td>0.00</td>\n",
       "      <td>0.00</td>\n",
       "      <td>0.00</td>\n",
       "      <td>0.00</td>\n",
       "      <td>0.00</td>\n",
       "    </tr>\n",
       "  </tbody>\n",
       "</table>\n",
       "<p>1000 rows × 1646 columns</p>\n",
       "</div>"
      ],
      "text/plain": [
       "     0     1     2     3     4     5     6     7     8     9     ...  1636  \\\n",
       "0    0.00  0.00  0.00  0.00  0.00  0.00  0.00  0.00  0.00  0.00  ...  0.00   \n",
       "1    0.00  0.00  0.00  0.00  0.37  0.00  0.00  0.00  0.00  0.00  ...  0.00   \n",
       "2    0.00  0.00  0.00  0.00  0.00  0.00  0.00  0.00  0.00  0.00  ...  0.00   \n",
       "3    0.00  0.00  0.00  0.00  0.00  0.00  0.00  0.00  0.00  0.00  ...  0.00   \n",
       "4    0.00  0.00  0.00  0.00  0.00  0.00  0.00  0.00  0.00  0.00  ...  0.00   \n",
       "..    ...   ...   ...   ...   ...   ...   ...   ...   ...   ...  ...   ...   \n",
       "995  0.00  0.00  0.00  0.00  0.00  0.00  0.00  0.00  0.00  0.00  ...  0.00   \n",
       "996  0.00  0.00  0.00  0.00  0.00  0.00  0.00  0.00  0.00  0.00  ...  0.00   \n",
       "997  0.00  0.00  0.00  0.00  0.00  0.00  0.00  0.00  0.00  0.00  ...  0.00   \n",
       "998  0.00  0.00  0.00  0.00  0.00  0.00  0.00  0.00  0.00  0.00  ...  0.00   \n",
       "999  0.00  0.00  0.00  0.00  0.00  0.00  0.00  0.00  0.00  0.00  ...  0.00   \n",
       "\n",
       "     1637  1638  1639  1640  1641  1642  1643  1644  1645  \n",
       "0    0.00  0.00  0.00  0.00  0.00  0.00  0.00  0.00  0.00  \n",
       "1    0.00  0.00  0.00  0.00  0.00  0.00  0.00  0.00  0.00  \n",
       "2    0.00  0.00  0.00  0.00  0.00  0.00  0.00  0.00  0.00  \n",
       "3    0.00  0.00  0.00  0.00  0.00  0.00  0.00  0.00  0.00  \n",
       "4    0.00  0.00  0.00  0.00  0.00  0.00  0.00  0.00  0.00  \n",
       "..    ...   ...   ...   ...   ...   ...   ...   ...   ...  \n",
       "995  0.00  0.00  0.00  0.00  0.00  0.00  0.00  0.00  0.00  \n",
       "996  0.00  0.00  0.00  0.00  0.00  0.00  0.00  0.00  0.00  \n",
       "997  0.00  0.00  0.00  0.00  0.00  0.00  0.00  0.00  0.00  \n",
       "998  0.00  0.00  0.00  0.00  0.00  0.00  0.00  0.00  0.00  \n",
       "999  0.00  0.00  0.00  0.00  0.00  0.00  0.00  0.00  0.00  \n",
       "\n",
       "[1000 rows x 1646 columns]"
      ]
     },
     "execution_count": 34,
     "metadata": {},
     "output_type": "execute_result"
    }
   ],
   "source": [
    "pd.DataFrame(tfidf_features)"
   ]
  },
  {
   "cell_type": "code",
   "execution_count": 35,
   "metadata": {},
   "outputs": [
    {
     "data": {
      "text/plain": [
       "['12']"
      ]
     },
     "execution_count": 35,
     "metadata": {},
     "output_type": "execute_result"
    }
   ],
   "source": [
    "[u for u, v in vectorizer.vocabulary_.items() if v == 4]"
   ]
  },
  {
   "cell_type": "markdown",
   "metadata": {},
   "source": [
    "# Косинусное расстояние"
   ]
  },
  {
   "cell_type": "markdown",
   "metadata": {},
   "source": [
    "Рассмотрим функцию для попарных косинусных расстояния массива\n",
    "\n",
    "Сosine_distances - это единица минус косинус, такая величина берется для того, чтобы выполнялась логика - чем меньше значение тем ближе\n",
    "вектора"
   ]
  },
  {
   "cell_type": "code",
   "execution_count": 36,
   "metadata": {},
   "outputs": [
    {
     "data": {
      "text/plain": [
       "array([[0.        , 0.59577396, 0.8867723 , 0.28933095],\n",
       "       [0.59577396, 0.        , 0.2036092 , 0.4484398 ],\n",
       "       [0.8867723 , 0.2036092 , 0.        , 0.87929886],\n",
       "       [0.28933095, 0.4484398 , 0.87929886, 0.        ]])"
      ]
     },
     "execution_count": 36,
     "metadata": {},
     "output_type": "execute_result"
    }
   ],
   "source": [
    "demo_data = np.array([[5,5,5,0,0], [4,1,0,5,3], [1,0,0,5,0], [5,0,5,0,4]])\n",
    "\n",
    "cosine_distances(demo_data)"
   ]
  },
  {
   "cell_type": "markdown",
   "metadata": {},
   "source": [
    "Проверим что, что на позиции 0 1 действитеьно 1 - косинус"
   ]
  },
  {
   "cell_type": "code",
   "execution_count": 37,
   "metadata": {},
   "outputs": [
    {
     "data": {
      "text/plain": [
       "0.5957739582727783"
      ]
     },
     "execution_count": 37,
     "metadata": {},
     "output_type": "execute_result"
    }
   ],
   "source": [
    "1 - (demo_data[0]*demo_data[1]).sum()/( (demo_data[0]**2).sum() * (demo_data[1]**2).sum())**0.5"
   ]
  },
  {
   "cell_type": "markdown",
   "metadata": {},
   "source": [
    "Вычислим расстояния"
   ]
  },
  {
   "cell_type": "code",
   "execution_count": 38,
   "metadata": {},
   "outputs": [],
   "source": [
    "cosine_similarity = cosine_distances(tfidf_features)"
   ]
  },
  {
   "cell_type": "code",
   "execution_count": 39,
   "metadata": {},
   "outputs": [
    {
     "data": {
      "text/plain": [
       "(1000, 1000)"
      ]
     },
     "execution_count": 39,
     "metadata": {},
     "output_type": "execute_result"
    }
   ],
   "source": [
    "cosine_similarity.shape"
   ]
  },
  {
   "cell_type": "markdown",
   "metadata": {},
   "source": [
    "Зная попарные косинусные расстояния, найдем топ 5 кандидатов для каждого фильма"
   ]
  },
  {
   "cell_type": "code",
   "execution_count": 40,
   "metadata": {},
   "outputs": [],
   "source": [
    "top=5\n",
    "movies_sim = []\n",
    "for i in range(len(cosine_similarity)):\n",
    "    neighbors = (cosine_similarity[i]).argsort()[1:top+1] # считаем от 1 до top1 + 1, \n",
    "    # так как ближайшее расстояние у вектора до самого себя\n",
    "    movies_sim.append(neighbors)\n",
    "movies_sim = np.array(movies_sim)"
   ]
  },
  {
   "cell_type": "code",
   "execution_count": 41,
   "metadata": {},
   "outputs": [
    {
     "data": {
      "text/plain": [
       "(1000, 5)"
      ]
     },
     "execution_count": 41,
     "metadata": {},
     "output_type": "execute_result"
    }
   ],
   "source": [
    "movies_sim.shape"
   ]
  },
  {
   "cell_type": "markdown",
   "metadata": {},
   "source": [
    "Составим датафрейм для того, чтобы понять по описаниям, какие фильмы похожи на какие"
   ]
  },
  {
   "cell_type": "code",
   "execution_count": 42,
   "metadata": {},
   "outputs": [],
   "source": [
    "movie_id_name = dict(unique_movies.set_index('movieId')['text_feature'])\n",
    "movies_top_df = pd.DataFrame(movies_sim, columns = ['top1', 'top2', 'top3', 'top4', 'top5'])\n",
    "movies_top_df['top1'] = movies_top_df['top1'].apply(lambda x: movie_id_name[x])\n",
    "movies_top_df['top2'] = movies_top_df['top2'].apply(lambda x: movie_id_name[x])\n",
    "movies_top_df['top3'] = movies_top_df['top3'].apply(lambda x: movie_id_name[x])\n",
    "movies_top_df['top4'] = movies_top_df['top4'].apply(lambda x: movie_id_name[x])\n",
    "movies_top_df['top5'] = movies_top_df['top5'].apply(lambda x: movie_id_name[x])\n",
    "\n",
    "movies_top_df['movieId'] = movies_top_df.index"
   ]
  },
  {
   "cell_type": "markdown",
   "metadata": {},
   "source": [
    "Посмотрим на полученные рекомендации"
   ]
  },
  {
   "cell_type": "code",
   "execution_count": 43,
   "metadata": {},
   "outputs": [],
   "source": [
    "movies_recs = (\n",
    "    unique_movies.merge(\n",
    "        movies_top_df,\n",
    "        left_on='movieId', right_on='movieId'\n",
    "    )\n",
    ")"
   ]
  },
  {
   "cell_type": "code",
   "execution_count": 44,
   "metadata": {},
   "outputs": [
    {
     "data": {
      "text/html": [
       "<div>\n",
       "<style scoped>\n",
       "    .dataframe tbody tr th:only-of-type {\n",
       "        vertical-align: middle;\n",
       "    }\n",
       "\n",
       "    .dataframe tbody tr th {\n",
       "        vertical-align: top;\n",
       "    }\n",
       "\n",
       "    .dataframe thead th {\n",
       "        text-align: right;\n",
       "    }\n",
       "</style>\n",
       "<table border=\"1\" class=\"dataframe\">\n",
       "  <thead>\n",
       "    <tr style=\"text-align: right;\">\n",
       "      <th></th>\n",
       "      <th>movieId</th>\n",
       "      <th>title</th>\n",
       "      <th>genres</th>\n",
       "      <th>text_feature</th>\n",
       "      <th>top1</th>\n",
       "      <th>top2</th>\n",
       "      <th>top3</th>\n",
       "      <th>top4</th>\n",
       "      <th>top5</th>\n",
       "    </tr>\n",
       "  </thead>\n",
       "  <tbody>\n",
       "    <tr>\n",
       "      <th>0</th>\n",
       "      <td>0</td>\n",
       "      <td>Jumanji (1995)</td>\n",
       "      <td>Adventure Children Fantasy</td>\n",
       "      <td>jumanji (1995) adventure children fantasy</td>\n",
       "      <td>toy story (1995) adventure animation children comedy fantasy</td>\n",
       "      <td>casper (1995) adventure children</td>\n",
       "      <td>indian in the cupboard, the (1995) adventure children fantasy</td>\n",
       "      <td>babe (1995) children drama</td>\n",
       "      <td>antz (1998) adventure animation children comedy fantasy</td>\n",
       "    </tr>\n",
       "    <tr>\n",
       "      <th>1</th>\n",
       "      <td>1</td>\n",
       "      <td>Twelve Monkeys (a.k.a. 12 Monkeys) (1995)</td>\n",
       "      <td>Mystery Sci-Fi Thriller</td>\n",
       "      <td>twelve monkeys (a.k.a. 12 monkeys) (1995) mystery sci-fi thriller</td>\n",
       "      <td>ocean's twelve (2004) action comedy crime thriller</td>\n",
       "      <td>congo (1995) action adventure mystery sci-fi</td>\n",
       "      <td>strange days (1995) action crime drama mystery sci-fi thriller</td>\n",
       "      <td>12 angry men (1957) drama</td>\n",
       "      <td>outbreak (1995) action drama sci-fi thriller</td>\n",
       "    </tr>\n",
       "    <tr>\n",
       "      <th>2</th>\n",
       "      <td>2</td>\n",
       "      <td>Seven (a.k.a. Se7en) (1995)</td>\n",
       "      <td>Mystery Thriller</td>\n",
       "      <td>seven (a.k.a. se7en) (1995) mystery thriller</td>\n",
       "      <td>copycat (1995) crime drama horror mystery thriller</td>\n",
       "      <td>usual suspects, the (1995) crime mystery thriller</td>\n",
       "      <td>strange days (1995) action crime drama mystery sci-fi thriller</td>\n",
       "      <td>congo (1995) action adventure mystery sci-fi</td>\n",
       "      <td>snow white and the seven dwarfs (1937) animation children drama fantasy musical</td>\n",
       "    </tr>\n",
       "    <tr>\n",
       "      <th>3</th>\n",
       "      <td>3</td>\n",
       "      <td>Usual Suspects, The (1995)</td>\n",
       "      <td>Crime Mystery Thriller</td>\n",
       "      <td>usual suspects, the (1995) crime mystery thriller</td>\n",
       "      <td>copycat (1995) crime drama horror mystery thriller</td>\n",
       "      <td>net, the (1995) action crime thriller</td>\n",
       "      <td>strange days (1995) action crime drama mystery sci-fi thriller</td>\n",
       "      <td>negotiator, the (1998) action crime drama mystery thriller</td>\n",
       "      <td>heat (1995) action crime thriller</td>\n",
       "    </tr>\n",
       "    <tr>\n",
       "      <th>4</th>\n",
       "      <td>4</td>\n",
       "      <td>Clerks (1994)</td>\n",
       "      <td>Comedy</td>\n",
       "      <td>clerks (1994) comedy</td>\n",
       "      <td>i.q. (1994) comedy romance</td>\n",
       "      <td>airheads (1994) comedy</td>\n",
       "      <td>junior (1994) comedy sci-fi</td>\n",
       "      <td>mask, the (1994) action comedy crime fantasy</td>\n",
       "      <td>flintstones, the (1994) children comedy fantasy</td>\n",
       "    </tr>\n",
       "  </tbody>\n",
       "</table>\n",
       "</div>"
      ],
      "text/plain": [
       "   movieId                                      title  \\\n",
       "0        0                             Jumanji (1995)   \n",
       "1        1  Twelve Monkeys (a.k.a. 12 Monkeys) (1995)   \n",
       "2        2                Seven (a.k.a. Se7en) (1995)   \n",
       "3        3                 Usual Suspects, The (1995)   \n",
       "4        4                              Clerks (1994)   \n",
       "\n",
       "                       genres  \\\n",
       "0  Adventure Children Fantasy   \n",
       "1     Mystery Sci-Fi Thriller   \n",
       "2            Mystery Thriller   \n",
       "3      Crime Mystery Thriller   \n",
       "4                      Comedy   \n",
       "\n",
       "                                                        text_feature  \\\n",
       "0                          jumanji (1995) adventure children fantasy   \n",
       "1  twelve monkeys (a.k.a. 12 monkeys) (1995) mystery sci-fi thriller   \n",
       "2                       seven (a.k.a. se7en) (1995) mystery thriller   \n",
       "3                  usual suspects, the (1995) crime mystery thriller   \n",
       "4                                               clerks (1994) comedy   \n",
       "\n",
       "                                                           top1  \\\n",
       "0  toy story (1995) adventure animation children comedy fantasy   \n",
       "1            ocean's twelve (2004) action comedy crime thriller   \n",
       "2            copycat (1995) crime drama horror mystery thriller   \n",
       "3            copycat (1995) crime drama horror mystery thriller   \n",
       "4                                    i.q. (1994) comedy romance   \n",
       "\n",
       "                                                top2  \\\n",
       "0                   casper (1995) adventure children   \n",
       "1       congo (1995) action adventure mystery sci-fi   \n",
       "2  usual suspects, the (1995) crime mystery thriller   \n",
       "3              net, the (1995) action crime thriller   \n",
       "4                             airheads (1994) comedy   \n",
       "\n",
       "                                                             top3  \\\n",
       "0   indian in the cupboard, the (1995) adventure children fantasy   \n",
       "1  strange days (1995) action crime drama mystery sci-fi thriller   \n",
       "2  strange days (1995) action crime drama mystery sci-fi thriller   \n",
       "3  strange days (1995) action crime drama mystery sci-fi thriller   \n",
       "4                                     junior (1994) comedy sci-fi   \n",
       "\n",
       "                                                         top4  \\\n",
       "0                                  babe (1995) children drama   \n",
       "1                                   12 angry men (1957) drama   \n",
       "2                congo (1995) action adventure mystery sci-fi   \n",
       "3  negotiator, the (1998) action crime drama mystery thriller   \n",
       "4                mask, the (1994) action comedy crime fantasy   \n",
       "\n",
       "                                                                              top5  \n",
       "0                          antz (1998) adventure animation children comedy fantasy  \n",
       "1                                     outbreak (1995) action drama sci-fi thriller  \n",
       "2  snow white and the seven dwarfs (1937) animation children drama fantasy musical  \n",
       "3                                                heat (1995) action crime thriller  \n",
       "4                                  flintstones, the (1994) children comedy fantasy  "
      ]
     },
     "execution_count": 44,
     "metadata": {},
     "output_type": "execute_result"
    }
   ],
   "source": [
    "movies_recs[:5]"
   ]
  },
  {
   "cell_type": "code",
   "execution_count": 45,
   "metadata": {},
   "outputs": [
    {
     "data": {
      "text/html": [
       "<div>\n",
       "<style scoped>\n",
       "    .dataframe tbody tr th:only-of-type {\n",
       "        vertical-align: middle;\n",
       "    }\n",
       "\n",
       "    .dataframe tbody tr th {\n",
       "        vertical-align: top;\n",
       "    }\n",
       "\n",
       "    .dataframe thead th {\n",
       "        text-align: right;\n",
       "    }\n",
       "</style>\n",
       "<table border=\"1\" class=\"dataframe\">\n",
       "  <thead>\n",
       "    <tr style=\"text-align: right;\">\n",
       "      <th></th>\n",
       "      <th>movieId</th>\n",
       "      <th>title</th>\n",
       "      <th>genres</th>\n",
       "      <th>text_feature</th>\n",
       "      <th>top1</th>\n",
       "      <th>top2</th>\n",
       "      <th>top3</th>\n",
       "      <th>top4</th>\n",
       "      <th>top5</th>\n",
       "    </tr>\n",
       "  </thead>\n",
       "  <tbody>\n",
       "    <tr>\n",
       "      <th>5</th>\n",
       "      <td>5</td>\n",
       "      <td>Star Wars: Episode IV - A New Hope (1977)</td>\n",
       "      <td>Action Adventure Sci-Fi</td>\n",
       "      <td>star wars: episode iv - a new hope (1977) action adventure sci-fi</td>\n",
       "      <td>star wars: episode i - the phantom menace (1999) action adventure sci-fi</td>\n",
       "      <td>star wars: episode v - the empire strikes back (1980) action adventure sci-fi</td>\n",
       "      <td>star wars: episode iii - revenge of the sith (2005) action adventure sci-fi</td>\n",
       "      <td>star wars: episode vi - return of the jedi (1983) action adventure sci-fi</td>\n",
       "      <td>star wars: episode ii - attack of the clones (2002) action adventure sci-fi imax</td>\n",
       "    </tr>\n",
       "    <tr>\n",
       "      <th>20</th>\n",
       "      <td>20</td>\n",
       "      <td>Star Wars: Episode V - The Empire Strikes Back (1980)</td>\n",
       "      <td>Action Adventure Sci-Fi</td>\n",
       "      <td>star wars: episode v - the empire strikes back (1980) action adventure sci-fi</td>\n",
       "      <td>star wars: episode i - the phantom menace (1999) action adventure sci-fi</td>\n",
       "      <td>star wars: episode iii - revenge of the sith (2005) action adventure sci-fi</td>\n",
       "      <td>star wars: episode vi - return of the jedi (1983) action adventure sci-fi</td>\n",
       "      <td>star wars: episode ii - attack of the clones (2002) action adventure sci-fi imax</td>\n",
       "      <td>star wars: episode iv - a new hope (1977) action adventure sci-fi</td>\n",
       "    </tr>\n",
       "    <tr>\n",
       "      <th>51</th>\n",
       "      <td>51</td>\n",
       "      <td>Star Wars: Episode I - The Phantom Menace (1999)</td>\n",
       "      <td>Action Adventure Sci-Fi</td>\n",
       "      <td>star wars: episode i - the phantom menace (1999) action adventure sci-fi</td>\n",
       "      <td>star wars: episode v - the empire strikes back (1980) action adventure sci-fi</td>\n",
       "      <td>star wars: episode iii - revenge of the sith (2005) action adventure sci-fi</td>\n",
       "      <td>star wars: episode vi - return of the jedi (1983) action adventure sci-fi</td>\n",
       "      <td>star wars: episode ii - attack of the clones (2002) action adventure sci-fi imax</td>\n",
       "      <td>star wars: episode iv - a new hope (1977) action adventure sci-fi</td>\n",
       "    </tr>\n",
       "    <tr>\n",
       "      <th>64</th>\n",
       "      <td>64</td>\n",
       "      <td>Star Wars: Episode VI - Return of the Jedi (1983)</td>\n",
       "      <td>Action Adventure Sci-Fi</td>\n",
       "      <td>star wars: episode vi - return of the jedi (1983) action adventure sci-fi</td>\n",
       "      <td>star wars: episode i - the phantom menace (1999) action adventure sci-fi</td>\n",
       "      <td>star wars: episode iii - revenge of the sith (2005) action adventure sci-fi</td>\n",
       "      <td>star wars: episode ii - attack of the clones (2002) action adventure sci-fi imax</td>\n",
       "      <td>star wars: episode v - the empire strikes back (1980) action adventure sci-fi</td>\n",
       "      <td>star wars: episode iv - a new hope (1977) action adventure sci-fi</td>\n",
       "    </tr>\n",
       "    <tr>\n",
       "      <th>560</th>\n",
       "      <td>560</td>\n",
       "      <td>Star Wars: Episode II - Attack of the Clones (2002)</td>\n",
       "      <td>Action Adventure Sci-Fi IMAX</td>\n",
       "      <td>star wars: episode ii - attack of the clones (2002) action adventure sci-fi imax</td>\n",
       "      <td>star wars: episode i - the phantom menace (1999) action adventure sci-fi</td>\n",
       "      <td>star wars: episode iii - revenge of the sith (2005) action adventure sci-fi</td>\n",
       "      <td>star wars: episode vi - return of the jedi (1983) action adventure sci-fi</td>\n",
       "      <td>star wars: episode v - the empire strikes back (1980) action adventure sci-fi</td>\n",
       "      <td>star wars: episode iv - a new hope (1977) action adventure sci-fi</td>\n",
       "    </tr>\n",
       "    <tr>\n",
       "      <th>577</th>\n",
       "      <td>577</td>\n",
       "      <td>Star Wars: Episode III - Revenge of the Sith (2005)</td>\n",
       "      <td>Action Adventure Sci-Fi</td>\n",
       "      <td>star wars: episode iii - revenge of the sith (2005) action adventure sci-fi</td>\n",
       "      <td>star wars: episode i - the phantom menace (1999) action adventure sci-fi</td>\n",
       "      <td>star wars: episode vi - return of the jedi (1983) action adventure sci-fi</td>\n",
       "      <td>star wars: episode ii - attack of the clones (2002) action adventure sci-fi imax</td>\n",
       "      <td>star wars: episode v - the empire strikes back (1980) action adventure sci-fi</td>\n",
       "      <td>star wars: episode iv - a new hope (1977) action adventure sci-fi</td>\n",
       "    </tr>\n",
       "  </tbody>\n",
       "</table>\n",
       "</div>"
      ],
      "text/plain": [
       "     movieId                                                  title  \\\n",
       "5          5              Star Wars: Episode IV - A New Hope (1977)   \n",
       "20        20  Star Wars: Episode V - The Empire Strikes Back (1980)   \n",
       "51        51       Star Wars: Episode I - The Phantom Menace (1999)   \n",
       "64        64      Star Wars: Episode VI - Return of the Jedi (1983)   \n",
       "560      560    Star Wars: Episode II - Attack of the Clones (2002)   \n",
       "577      577    Star Wars: Episode III - Revenge of the Sith (2005)   \n",
       "\n",
       "                           genres  \\\n",
       "5         Action Adventure Sci-Fi   \n",
       "20        Action Adventure Sci-Fi   \n",
       "51        Action Adventure Sci-Fi   \n",
       "64        Action Adventure Sci-Fi   \n",
       "560  Action Adventure Sci-Fi IMAX   \n",
       "577       Action Adventure Sci-Fi   \n",
       "\n",
       "                                                                         text_feature  \\\n",
       "5                   star wars: episode iv - a new hope (1977) action adventure sci-fi   \n",
       "20      star wars: episode v - the empire strikes back (1980) action adventure sci-fi   \n",
       "51           star wars: episode i - the phantom menace (1999) action adventure sci-fi   \n",
       "64          star wars: episode vi - return of the jedi (1983) action adventure sci-fi   \n",
       "560  star wars: episode ii - attack of the clones (2002) action adventure sci-fi imax   \n",
       "577       star wars: episode iii - revenge of the sith (2005) action adventure sci-fi   \n",
       "\n",
       "                                                                              top1  \\\n",
       "5         star wars: episode i - the phantom menace (1999) action adventure sci-fi   \n",
       "20        star wars: episode i - the phantom menace (1999) action adventure sci-fi   \n",
       "51   star wars: episode v - the empire strikes back (1980) action adventure sci-fi   \n",
       "64        star wars: episode i - the phantom menace (1999) action adventure sci-fi   \n",
       "560       star wars: episode i - the phantom menace (1999) action adventure sci-fi   \n",
       "577       star wars: episode i - the phantom menace (1999) action adventure sci-fi   \n",
       "\n",
       "                                                                              top2  \\\n",
       "5    star wars: episode v - the empire strikes back (1980) action adventure sci-fi   \n",
       "20     star wars: episode iii - revenge of the sith (2005) action adventure sci-fi   \n",
       "51     star wars: episode iii - revenge of the sith (2005) action adventure sci-fi   \n",
       "64     star wars: episode iii - revenge of the sith (2005) action adventure sci-fi   \n",
       "560    star wars: episode iii - revenge of the sith (2005) action adventure sci-fi   \n",
       "577      star wars: episode vi - return of the jedi (1983) action adventure sci-fi   \n",
       "\n",
       "                                                                                 top3  \\\n",
       "5         star wars: episode iii - revenge of the sith (2005) action adventure sci-fi   \n",
       "20          star wars: episode vi - return of the jedi (1983) action adventure sci-fi   \n",
       "51          star wars: episode vi - return of the jedi (1983) action adventure sci-fi   \n",
       "64   star wars: episode ii - attack of the clones (2002) action adventure sci-fi imax   \n",
       "560         star wars: episode vi - return of the jedi (1983) action adventure sci-fi   \n",
       "577  star wars: episode ii - attack of the clones (2002) action adventure sci-fi imax   \n",
       "\n",
       "                                                                                 top4  \\\n",
       "5           star wars: episode vi - return of the jedi (1983) action adventure sci-fi   \n",
       "20   star wars: episode ii - attack of the clones (2002) action adventure sci-fi imax   \n",
       "51   star wars: episode ii - attack of the clones (2002) action adventure sci-fi imax   \n",
       "64      star wars: episode v - the empire strikes back (1980) action adventure sci-fi   \n",
       "560     star wars: episode v - the empire strikes back (1980) action adventure sci-fi   \n",
       "577     star wars: episode v - the empire strikes back (1980) action adventure sci-fi   \n",
       "\n",
       "                                                                                 top5  \n",
       "5    star wars: episode ii - attack of the clones (2002) action adventure sci-fi imax  \n",
       "20                  star wars: episode iv - a new hope (1977) action adventure sci-fi  \n",
       "51                  star wars: episode iv - a new hope (1977) action adventure sci-fi  \n",
       "64                  star wars: episode iv - a new hope (1977) action adventure sci-fi  \n",
       "560                 star wars: episode iv - a new hope (1977) action adventure sci-fi  \n",
       "577                 star wars: episode iv - a new hope (1977) action adventure sci-fi  "
      ]
     },
     "execution_count": 45,
     "metadata": {},
     "output_type": "execute_result"
    }
   ],
   "source": [
    "movies_recs[movies_recs['title'].apply(lambda x: 'Star Wars' in x)]"
   ]
  },
  {
   "cell_type": "markdown",
   "metadata": {},
   "source": [
    "# Колаборативная фильтрация"
   ]
  },
  {
   "cell_type": "markdown",
   "metadata": {},
   "source": [
    "Для оценки прогнозов с помощью колаборативной фильтрации, разобьем датасет на train и test"
   ]
  },
  {
   "cell_type": "code",
   "execution_count": 46,
   "metadata": {},
   "outputs": [
    {
     "name": "stdout",
     "output_type": "stream",
     "text": [
      "Train shape: (5979698, 6)\n",
      "Test shape: (60401, 6)\n"
     ]
    }
   ],
   "source": [
    "train_data, test_data = train_test_split(ratings, test_size=0.01)\n",
    "\n",
    "print('Train shape: {}'.format(train_data.shape))\n",
    "print('Test shape: {}'.format(test_data.shape))"
   ]
  },
  {
   "cell_type": "markdown",
   "metadata": {},
   "source": [
    "# Метрика качества"
   ]
  },
  {
   "cell_type": "markdown",
   "metadata": {},
   "source": [
    "Посчитаем метрику на тесте, если бы мы предсказали всем средний рейтинг"
   ]
  },
  {
   "cell_type": "code",
   "execution_count": 47,
   "metadata": {},
   "outputs": [
    {
     "data": {
      "text/plain": [
       "3.5539891813934417"
      ]
     },
     "execution_count": 47,
     "metadata": {},
     "output_type": "execute_result"
    }
   ],
   "source": [
    "train_data['rating'].mean()"
   ]
  },
  {
   "cell_type": "code",
   "execution_count": 48,
   "metadata": {},
   "outputs": [
    {
     "name": "stdout",
     "output_type": "stream",
     "text": [
      "RMSE metric: 1.0091980253120807\n"
     ]
    }
   ],
   "source": [
    "const_default = 3.5\n",
    "test_data['constant_predict'] = const_default\n",
    "print(f\"RMSE metric: {np.sqrt(mean_squared_error(test_data['constant_predict'], test_data['rating']))}\")"
   ]
  },
  {
   "cell_type": "markdown",
   "metadata": {},
   "source": [
    "# Сформируем матрицу user-item"
   ]
  },
  {
   "cell_type": "code",
   "execution_count": 49,
   "metadata": {},
   "outputs": [
    {
     "data": {
      "text/plain": [
       "20000"
      ]
     },
     "execution_count": 49,
     "metadata": {},
     "output_type": "execute_result"
    }
   ],
   "source": [
    "n_users = train_data['userId'].nunique()\n",
    "n_users"
   ]
  },
  {
   "cell_type": "code",
   "execution_count": 50,
   "metadata": {},
   "outputs": [
    {
     "data": {
      "text/plain": [
       "1000"
      ]
     },
     "execution_count": 50,
     "metadata": {},
     "output_type": "execute_result"
    }
   ],
   "source": [
    "n_movies = train_data['movieId'].nunique()\n",
    "n_movies"
   ]
  },
  {
   "cell_type": "markdown",
   "metadata": {},
   "source": [
    "Создаём user-item матрицу – для обучения\n",
    "\n",
    "Неопределенные ячейки будем заполнять не нулями, а 3.5, так как это средний рейтинг (заполняем пропуски средним)"
   ]
  },
  {
   "cell_type": "code",
   "execution_count": 51,
   "metadata": {},
   "outputs": [
    {
     "name": "stdout",
     "output_type": "stream",
     "text": [
      "CPU times: total: 17.5 s\n",
      "Wall time: 17.6 s\n"
     ]
    }
   ],
   "source": [
    "%%time\n",
    "train_data_matrix = const_default*np.ones((n_users, n_movies))\n",
    "for line in train_data.to_dict(orient='records'):\n",
    "    train_data_matrix[line['userId'], line['movieId']] = line['rating']  "
   ]
  },
  {
   "cell_type": "code",
   "execution_count": 52,
   "metadata": {},
   "outputs": [
    {
     "data": {
      "text/plain": [
       "(20000, 1000)"
      ]
     },
     "execution_count": 52,
     "metadata": {},
     "output_type": "execute_result"
    }
   ],
   "source": [
    "train_data_matrix.shape"
   ]
  },
  {
   "cell_type": "code",
   "execution_count": 53,
   "metadata": {},
   "outputs": [
    {
     "data": {
      "text/plain": [
       "array([[3. , 5. , 4. , ..., 3.5, 3.5, 3.5],\n",
       "       [3.5, 4. , 4. , ..., 3.5, 3.5, 3.5],\n",
       "       [2. , 4. , 4.5, ..., 3.5, 3.5, 3.5],\n",
       "       ...,\n",
       "       [3.5, 3.5, 3.5, ..., 3.5, 3.5, 3.5],\n",
       "       [3.5, 3.5, 3.5, ..., 3.5, 3.5, 3.5],\n",
       "       [3.5, 3.5, 3.5, ..., 3.5, 3. , 3.5]])"
      ]
     },
     "execution_count": 53,
     "metadata": {},
     "output_type": "execute_result"
    }
   ],
   "source": [
    "train_data_matrix"
   ]
  },
  {
   "cell_type": "markdown",
   "metadata": {},
   "source": [
    "# Матрицы попарных косинусных расстояний"
   ]
  },
  {
   "cell_type": "code",
   "execution_count": 54,
   "metadata": {},
   "outputs": [
    {
     "name": "stdout",
     "output_type": "stream",
     "text": [
      "CPU times: total: 22.4 s\n",
      "Wall time: 6.31 s\n"
     ]
    }
   ],
   "source": [
    "%%time\n",
    "# считаем попарное косинусное расстояние для пользователей (строк матрицы)\n",
    "user_similarity = cosine_distances(train_data_matrix)"
   ]
  },
  {
   "cell_type": "code",
   "execution_count": 55,
   "metadata": {},
   "outputs": [],
   "source": [
    "# # считаем попарное косинусное расстояние для фильмов (столбцов матрицы)\n",
    "movie_similarity = cosine_distances(train_data_matrix.T)"
   ]
  },
  {
   "cell_type": "code",
   "execution_count": 56,
   "metadata": {},
   "outputs": [
    {
     "data": {
      "text/plain": [
       "array([[0.        , 0.02459358, 0.05513699, ..., 0.01838672, 0.01578322,\n",
       "        0.018997  ],\n",
       "       [0.02459358, 0.        , 0.04896937, ..., 0.01594009, 0.01317102,\n",
       "        0.01792606],\n",
       "       [0.05513699, 0.04896937, 0.        , ..., 0.04882036, 0.0476033 ,\n",
       "        0.05330809],\n",
       "       ...,\n",
       "       [0.01838672, 0.01594009, 0.04882036, ..., 0.        , 0.0053888 ,\n",
       "        0.01095453],\n",
       "       [0.01578322, 0.01317102, 0.0476033 , ..., 0.0053888 , 0.        ,\n",
       "        0.00754749],\n",
       "       [0.018997  , 0.01792606, 0.05330809, ..., 0.01095453, 0.00754749,\n",
       "        0.        ]])"
      ]
     },
     "execution_count": 56,
     "metadata": {},
     "output_type": "execute_result"
    }
   ],
   "source": [
    "user_similarity"
   ]
  },
  {
   "cell_type": "code",
   "execution_count": 57,
   "metadata": {},
   "outputs": [
    {
     "data": {
      "text/plain": [
       "array([[0.        , 0.03624089, 0.03699741, ..., 0.02398577, 0.02724317,\n",
       "        0.02513415],\n",
       "       [0.03624089, 0.        , 0.02555235, ..., 0.02076354, 0.02320895,\n",
       "        0.02267538],\n",
       "       [0.03699741, 0.02555235, 0.        , ..., 0.02194172, 0.02295996,\n",
       "        0.02487794],\n",
       "       ...,\n",
       "       [0.02398577, 0.02076354, 0.02194172, ..., 0.        , 0.01163548,\n",
       "        0.00871386],\n",
       "       [0.02724317, 0.02320895, 0.02295996, ..., 0.01163548, 0.        ,\n",
       "        0.01333686],\n",
       "       [0.02513415, 0.02267538, 0.02487794, ..., 0.00871386, 0.01333686,\n",
       "        0.        ]])"
      ]
     },
     "execution_count": 57,
     "metadata": {},
     "output_type": "execute_result"
    }
   ],
   "source": [
    "movie_similarity"
   ]
  },
  {
   "cell_type": "code",
   "execution_count": 58,
   "metadata": {},
   "outputs": [
    {
     "data": {
      "text/plain": [
       "(20000, 20000)"
      ]
     },
     "execution_count": 58,
     "metadata": {},
     "output_type": "execute_result"
    }
   ],
   "source": [
    "user_similarity.shape"
   ]
  },
  {
   "cell_type": "code",
   "execution_count": 59,
   "metadata": {},
   "outputs": [
    {
     "data": {
      "text/plain": [
       "(1000, 1000)"
      ]
     },
     "execution_count": 59,
     "metadata": {},
     "output_type": "execute_result"
    }
   ],
   "source": [
    "movie_similarity.shape"
   ]
  },
  {
   "cell_type": "markdown",
   "metadata": {},
   "source": [
    "# Алгоритм user-based"
   ]
  },
  {
   "cell_type": "markdown",
   "metadata": {},
   "source": [
    "Для каждого пользователя находим топ 10 ближайших соседей, исключая себя самого (поэтому индекс от единицы до top + 1)"
   ]
  },
  {
   "cell_type": "code",
   "execution_count": 60,
   "metadata": {},
   "outputs": [
    {
     "name": "stdout",
     "output_type": "stream",
     "text": [
      "CPU times: total: 26.2 s\n",
      "Wall time: 26.4 s\n"
     ]
    }
   ],
   "source": [
    "%%time\n",
    "top=10\n",
    "top_similar_users = []\n",
    "for i in range(n_users):\n",
    "    neighbors = (user_similarity[i]).argsort()[1:top + 1]\n",
    "    top_similar_users.append(\n",
    "        train_data_matrix[neighbors]\n",
    "    )\n",
    "top_similar_users = np.array(top_similar_users)"
   ]
  },
  {
   "cell_type": "markdown",
   "metadata": {},
   "source": [
    "Количество  пользователей, количество соседей, количество фильмов"
   ]
  },
  {
   "cell_type": "code",
   "execution_count": 61,
   "metadata": {},
   "outputs": [
    {
     "data": {
      "text/plain": [
       "(20000, 10, 1000)"
      ]
     },
     "execution_count": 61,
     "metadata": {},
     "output_type": "execute_result"
    }
   ],
   "source": [
    "top_similar_users.shape"
   ]
  },
  {
   "cell_type": "markdown",
   "metadata": {},
   "source": [
    "Для каждого пользователя и каждого фильма считаем средний рейтинг у фильма от топ похожих пользователей\n",
    "\n",
    "Так делам матрицу с предсказанными рейтингами"
   ]
  },
  {
   "cell_type": "code",
   "execution_count": 62,
   "metadata": {},
   "outputs": [],
   "source": [
    "predicted_ratings_user_based = top_similar_users.mean(1)"
   ]
  },
  {
   "cell_type": "code",
   "execution_count": 63,
   "metadata": {},
   "outputs": [
    {
     "data": {
      "text/plain": [
       "(20000, 1000)"
      ]
     },
     "execution_count": 63,
     "metadata": {},
     "output_type": "execute_result"
    }
   ],
   "source": [
    "predicted_ratings_user_based.shape"
   ]
  },
  {
   "cell_type": "markdown",
   "metadata": {},
   "source": [
    "Делаем предикт на тестовом датасете, для каждого тестового userId и movieId заполняем предсказанный рейтинг из полученной матрицы\n",
    "\n",
    "По userId строке и movieId столбцу, для этого и делали смену айдишников"
   ]
  },
  {
   "cell_type": "code",
   "execution_count": 64,
   "metadata": {},
   "outputs": [],
   "source": [
    "def round_to_nearest_0_5(n):\n",
    "    return round(n * 2) / 2"
   ]
  },
  {
   "cell_type": "code",
   "execution_count": 65,
   "metadata": {},
   "outputs": [],
   "source": [
    "test_data['predict_user_based'] = test_data.apply(\n",
    "    lambda f: round_to_nearest_0_5(predicted_ratings_user_based[f['userId'], f['movieId']]), axis = 1\n",
    ")"
   ]
  },
  {
   "cell_type": "code",
   "execution_count": 66,
   "metadata": {},
   "outputs": [
    {
     "name": "stdout",
     "output_type": "stream",
     "text": [
      "RMSE metric: 0.95472282396593\n"
     ]
    }
   ],
   "source": [
    "print(f\"RMSE metric: {np.sqrt(mean_squared_error(test_data['predict_user_based'], test_data['rating']))}\")"
   ]
  },
  {
   "cell_type": "markdown",
   "metadata": {},
   "source": [
    "# Алгоритм item-based"
   ]
  },
  {
   "cell_type": "markdown",
   "metadata": {},
   "source": [
    "Для каждого фильма находим топ 10 ближайших соседей, исключая себя самого (поэтмоу индекс от единицы до top + 1)"
   ]
  },
  {
   "cell_type": "code",
   "execution_count": 67,
   "metadata": {},
   "outputs": [],
   "source": [
    "top=10\n",
    "top_similar_ratings = []\n",
    "for i in range(n_movies):\n",
    "    neighbors = (movie_similarity[i]).argsort()[1:top + 1]\n",
    "    top_similar_ratings.append(\n",
    "        train_data_matrix.T[neighbors]\n",
    "    )\n",
    "    \n",
    "top_similar_ratings = np.array(top_similar_ratings)"
   ]
  },
  {
   "cell_type": "markdown",
   "metadata": {},
   "source": [
    "Число фильмов, число соседей, число пользователей"
   ]
  },
  {
   "cell_type": "code",
   "execution_count": 68,
   "metadata": {},
   "outputs": [
    {
     "data": {
      "text/plain": [
       "(1000, 10, 20000)"
      ]
     },
     "execution_count": 68,
     "metadata": {},
     "output_type": "execute_result"
    }
   ],
   "source": [
    "top_similar_ratings.shape"
   ]
  },
  {
   "cell_type": "markdown",
   "metadata": {},
   "source": [
    "Для каждого пользователя и каждого фильма считаем средний рейтинг от пользователя для топ соседних фильмов "
   ]
  },
  {
   "cell_type": "code",
   "execution_count": 69,
   "metadata": {},
   "outputs": [],
   "source": [
    "predicted_ratings_item_based = top_similar_ratings.mean(1).T"
   ]
  },
  {
   "cell_type": "code",
   "execution_count": 70,
   "metadata": {},
   "outputs": [
    {
     "data": {
      "text/plain": [
       "(20000, 1000)"
      ]
     },
     "execution_count": 70,
     "metadata": {},
     "output_type": "execute_result"
    }
   ],
   "source": [
    "predicted_ratings_item_based.shape"
   ]
  },
  {
   "cell_type": "markdown",
   "metadata": {},
   "source": [
    "Делаем предикт на тестовом датасете, для каждого тестового userId и movieId заполняем предсказанный рейтинг из полученной матрицы\n",
    "\n",
    "По userId строке и movieId столбцу, для этого и делали смену айдишников"
   ]
  },
  {
   "cell_type": "code",
   "execution_count": 71,
   "metadata": {},
   "outputs": [],
   "source": [
    "test_data['predict_item_based'] = test_data.apply(\n",
    "    lambda f: round_to_nearest_0_5(predicted_ratings_item_based[f['userId'], f['movieId']]), axis = 1\n",
    ")"
   ]
  },
  {
   "cell_type": "code",
   "execution_count": 72,
   "metadata": {},
   "outputs": [
    {
     "name": "stdout",
     "output_type": "stream",
     "text": [
      "RMSE metric: 0.9608656825417514\n"
     ]
    }
   ],
   "source": [
    "print(f\"RMSE metric: {np.sqrt(mean_squared_error(test_data['predict_item_based'], test_data['rating']))}\")"
   ]
  },
  {
   "cell_type": "markdown",
   "metadata": {},
   "source": [
    "Когда у вас много пользователей и мало фильмов, рекомендации, основанные на пользователях (user-based), могут быть более эффективными по сравнению с рекомендациями, основанными на элементах (item-based). Это связано с тем, что user-based рекомендации сосредотачиваются на схожести между пользователями и используют информацию о предпочтениях пользователей, чтобы сделать рекомендации.\n",
    "\n",
    "В случае user-based рекомендаций для каждого пользователя вычисляется схожесть с другими пользователями на основе их предпочтений по фильмам. Когда множество пользователей больше, выше шанс найти похожие пользовательские профили и предложить релевантные рекомендации.\n",
    "\n",
    "В отличие от этого, item-based рекомендации фокусируются на схожести между фильмами. Когда у вас мало фильмов, может быть трудно найти достаточно похожих элементов для выработки рекомендаций.\n",
    "\n",
    "Таким образом, в вашем случае, user-based алгоритм рекомендаций фильмов скорее всего будет более эффективным и произведет более качественные рекомендации. Однако, рекомендации основанные на содержании фильмов (content-based) или гибридные методы, комбинирующие несколько подходов, также могут быть полезными вариантами в ситуации с небольшим количеством фильмов."
   ]
  },
  {
   "cell_type": "markdown",
   "metadata": {},
   "source": [
    "# Алгоритм на основе матричного разложения"
   ]
  },
  {
   "cell_type": "code",
   "execution_count": 73,
   "metadata": {},
   "outputs": [
    {
     "data": {
      "text/plain": [
       "(20000, 1000)"
      ]
     },
     "execution_count": 73,
     "metadata": {},
     "output_type": "execute_result"
    }
   ],
   "source": [
    "train_data_matrix.shape"
   ]
  },
  {
   "cell_type": "markdown",
   "metadata": {},
   "source": [
    "[Документация](https://docs.scipy.org/doc/scipy/reference/generated/scipy.sparse.linalg.svds.html) SVDs разложения  \n",
    "[Документация](https://docs.scipy.org/doc/scipy/reference/generated/scipy.linalg.svd.html) SVD разложения"
   ]
  },
  {
   "cell_type": "code",
   "execution_count": 74,
   "metadata": {},
   "outputs": [
    {
     "name": "stdout",
     "output_type": "stream",
     "text": [
      "CPU times: total: 4.55 s\n",
      "Wall time: 797 ms\n"
     ]
    }
   ],
   "source": [
    "%%time\n",
    "# делаем SVD\n",
    "u, s, vh = svds(train_data_matrix, k=20)\n",
    "s_diag_matrix = np.diag(s)\n",
    "\n",
    "users = np.dot(u, s_diag_matrix)\n",
    "items = vh.T"
   ]
  },
  {
   "cell_type": "code",
   "execution_count": 75,
   "metadata": {},
   "outputs": [
    {
     "data": {
      "text/plain": [
       "(20, 20)"
      ]
     },
     "execution_count": 75,
     "metadata": {},
     "output_type": "execute_result"
    }
   ],
   "source": [
    "np.diag(s).shape"
   ]
  },
  {
   "cell_type": "code",
   "execution_count": 76,
   "metadata": {},
   "outputs": [
    {
     "data": {
      "text/plain": [
       "(20, 1000)"
      ]
     },
     "execution_count": 76,
     "metadata": {},
     "output_type": "execute_result"
    }
   ],
   "source": [
    "vh.shape"
   ]
  },
  {
   "cell_type": "code",
   "execution_count": 77,
   "metadata": {},
   "outputs": [
    {
     "data": {
      "text/plain": [
       "(20000, 20)"
      ]
     },
     "execution_count": 77,
     "metadata": {},
     "output_type": "execute_result"
    }
   ],
   "source": [
    "users.shape"
   ]
  },
  {
   "cell_type": "code",
   "execution_count": 78,
   "metadata": {},
   "outputs": [
    {
     "data": {
      "text/plain": [
       "(1000, 20)"
      ]
     },
     "execution_count": 78,
     "metadata": {},
     "output_type": "execute_result"
    }
   ],
   "source": [
    "items.shape"
   ]
  },
  {
   "cell_type": "code",
   "execution_count": 79,
   "metadata": {},
   "outputs": [
    {
     "data": {
      "text/html": [
       "<div>\n",
       "<style scoped>\n",
       "    .dataframe tbody tr th:only-of-type {\n",
       "        vertical-align: middle;\n",
       "    }\n",
       "\n",
       "    .dataframe tbody tr th {\n",
       "        vertical-align: top;\n",
       "    }\n",
       "\n",
       "    .dataframe thead th {\n",
       "        text-align: right;\n",
       "    }\n",
       "</style>\n",
       "<table border=\"1\" class=\"dataframe\">\n",
       "  <thead>\n",
       "    <tr style=\"text-align: right;\">\n",
       "      <th></th>\n",
       "      <th>userId</th>\n",
       "      <th>movieId</th>\n",
       "      <th>rating</th>\n",
       "      <th>timestamp</th>\n",
       "      <th>title</th>\n",
       "      <th>genres</th>\n",
       "      <th>constant_predict</th>\n",
       "      <th>predict_user_based</th>\n",
       "      <th>predict_item_based</th>\n",
       "    </tr>\n",
       "  </thead>\n",
       "  <tbody>\n",
       "    <tr>\n",
       "      <th>2508089</th>\n",
       "      <td>15993</td>\n",
       "      <td>316</td>\n",
       "      <td>1.00</td>\n",
       "      <td>969305029</td>\n",
       "      <td>Taxi Driver (1976)</td>\n",
       "      <td>Crime|Drama|Thriller</td>\n",
       "      <td>3.50</td>\n",
       "      <td>3.50</td>\n",
       "      <td>3.50</td>\n",
       "    </tr>\n",
       "    <tr>\n",
       "      <th>2339751</th>\n",
       "      <td>18362</td>\n",
       "      <td>289</td>\n",
       "      <td>4.00</td>\n",
       "      <td>1142275124</td>\n",
       "      <td>Life Is Beautiful (La Vita è bella) (1997)</td>\n",
       "      <td>Comedy|Drama|Romance|War</td>\n",
       "      <td>3.50</td>\n",
       "      <td>4.00</td>\n",
       "      <td>3.50</td>\n",
       "    </tr>\n",
       "    <tr>\n",
       "      <th>5728391</th>\n",
       "      <td>962</td>\n",
       "      <td>915</td>\n",
       "      <td>3.00</td>\n",
       "      <td>1328672390</td>\n",
       "      <td>Right Stuff, The (1983)</td>\n",
       "      <td>Drama</td>\n",
       "      <td>3.50</td>\n",
       "      <td>4.00</td>\n",
       "      <td>3.00</td>\n",
       "    </tr>\n",
       "    <tr>\n",
       "      <th>5821818</th>\n",
       "      <td>1064</td>\n",
       "      <td>940</td>\n",
       "      <td>3.50</td>\n",
       "      <td>1180957556</td>\n",
       "      <td>Matilda (1996)</td>\n",
       "      <td>Children|Comedy|Fantasy</td>\n",
       "      <td>3.50</td>\n",
       "      <td>3.50</td>\n",
       "      <td>3.50</td>\n",
       "    </tr>\n",
       "    <tr>\n",
       "      <th>5461028</th>\n",
       "      <td>16859</td>\n",
       "      <td>844</td>\n",
       "      <td>4.00</td>\n",
       "      <td>941218566</td>\n",
       "      <td>Carlito's Way (1993)</td>\n",
       "      <td>Crime|Drama</td>\n",
       "      <td>3.50</td>\n",
       "      <td>3.50</td>\n",
       "      <td>3.50</td>\n",
       "    </tr>\n",
       "    <tr>\n",
       "      <th>...</th>\n",
       "      <td>...</td>\n",
       "      <td>...</td>\n",
       "      <td>...</td>\n",
       "      <td>...</td>\n",
       "      <td>...</td>\n",
       "      <td>...</td>\n",
       "      <td>...</td>\n",
       "      <td>...</td>\n",
       "      <td>...</td>\n",
       "    </tr>\n",
       "    <tr>\n",
       "      <th>3455429</th>\n",
       "      <td>9549</td>\n",
       "      <td>474</td>\n",
       "      <td>2.00</td>\n",
       "      <td>974299215</td>\n",
       "      <td>Road Warrior, The (Mad Max 2) (1981)</td>\n",
       "      <td>Action|Adventure|Sci-Fi</td>\n",
       "      <td>3.50</td>\n",
       "      <td>3.50</td>\n",
       "      <td>3.50</td>\n",
       "    </tr>\n",
       "    <tr>\n",
       "      <th>4623265</th>\n",
       "      <td>11294</td>\n",
       "      <td>663</td>\n",
       "      <td>4.00</td>\n",
       "      <td>1208588918</td>\n",
       "      <td>Sideways (2004)</td>\n",
       "      <td>Comedy|Drama|Romance</td>\n",
       "      <td>3.50</td>\n",
       "      <td>3.50</td>\n",
       "      <td>3.50</td>\n",
       "    </tr>\n",
       "    <tr>\n",
       "      <th>4658458</th>\n",
       "      <td>6205</td>\n",
       "      <td>669</td>\n",
       "      <td>2.00</td>\n",
       "      <td>1215034941</td>\n",
       "      <td>Léon: The Professional (a.k.a. The Professional) (Léon) (1994)</td>\n",
       "      <td>Action|Crime|Drama|Thriller</td>\n",
       "      <td>3.50</td>\n",
       "      <td>3.50</td>\n",
       "      <td>3.50</td>\n",
       "    </tr>\n",
       "    <tr>\n",
       "      <th>1684140</th>\n",
       "      <td>7623</td>\n",
       "      <td>190</td>\n",
       "      <td>4.00</td>\n",
       "      <td>1104523342</td>\n",
       "      <td>Face/Off (1997)</td>\n",
       "      <td>Action|Crime|Drama|Thriller</td>\n",
       "      <td>3.50</td>\n",
       "      <td>3.50</td>\n",
       "      <td>3.50</td>\n",
       "    </tr>\n",
       "    <tr>\n",
       "      <th>3540558</th>\n",
       "      <td>9793</td>\n",
       "      <td>487</td>\n",
       "      <td>5.00</td>\n",
       "      <td>847445572</td>\n",
       "      <td>Cool Hand Luke (1967)</td>\n",
       "      <td>Drama</td>\n",
       "      <td>3.50</td>\n",
       "      <td>4.00</td>\n",
       "      <td>3.50</td>\n",
       "    </tr>\n",
       "  </tbody>\n",
       "</table>\n",
       "<p>60401 rows × 9 columns</p>\n",
       "</div>"
      ],
      "text/plain": [
       "         userId  movieId  rating   timestamp  \\\n",
       "2508089   15993      316    1.00   969305029   \n",
       "2339751   18362      289    4.00  1142275124   \n",
       "5728391     962      915    3.00  1328672390   \n",
       "5821818    1064      940    3.50  1180957556   \n",
       "5461028   16859      844    4.00   941218566   \n",
       "...         ...      ...     ...         ...   \n",
       "3455429    9549      474    2.00   974299215   \n",
       "4623265   11294      663    4.00  1208588918   \n",
       "4658458    6205      669    2.00  1215034941   \n",
       "1684140    7623      190    4.00  1104523342   \n",
       "3540558    9793      487    5.00   847445572   \n",
       "\n",
       "                                                                  title  \\\n",
       "2508089                                              Taxi Driver (1976)   \n",
       "2339751                      Life Is Beautiful (La Vita è bella) (1997)   \n",
       "5728391                                         Right Stuff, The (1983)   \n",
       "5821818                                                  Matilda (1996)   \n",
       "5461028                                            Carlito's Way (1993)   \n",
       "...                                                                 ...   \n",
       "3455429                            Road Warrior, The (Mad Max 2) (1981)   \n",
       "4623265                                                 Sideways (2004)   \n",
       "4658458  Léon: The Professional (a.k.a. The Professional) (Léon) (1994)   \n",
       "1684140                                                 Face/Off (1997)   \n",
       "3540558                                           Cool Hand Luke (1967)   \n",
       "\n",
       "                              genres  constant_predict  predict_user_based  \\\n",
       "2508089         Crime|Drama|Thriller              3.50                3.50   \n",
       "2339751     Comedy|Drama|Romance|War              3.50                4.00   \n",
       "5728391                        Drama              3.50                4.00   \n",
       "5821818      Children|Comedy|Fantasy              3.50                3.50   \n",
       "5461028                  Crime|Drama              3.50                3.50   \n",
       "...                              ...               ...                 ...   \n",
       "3455429      Action|Adventure|Sci-Fi              3.50                3.50   \n",
       "4623265         Comedy|Drama|Romance              3.50                3.50   \n",
       "4658458  Action|Crime|Drama|Thriller              3.50                3.50   \n",
       "1684140  Action|Crime|Drama|Thriller              3.50                3.50   \n",
       "3540558                        Drama              3.50                4.00   \n",
       "\n",
       "         predict_item_based  \n",
       "2508089                3.50  \n",
       "2339751                3.50  \n",
       "5728391                3.00  \n",
       "5821818                3.50  \n",
       "5461028                3.50  \n",
       "...                     ...  \n",
       "3455429                3.50  \n",
       "4623265                3.50  \n",
       "4658458                3.50  \n",
       "1684140                3.50  \n",
       "3540558                3.50  \n",
       "\n",
       "[60401 rows x 9 columns]"
      ]
     },
     "execution_count": 79,
     "metadata": {},
     "output_type": "execute_result"
    }
   ],
   "source": [
    "test_data"
   ]
  },
  {
   "cell_type": "code",
   "execution_count": 80,
   "metadata": {},
   "outputs": [],
   "source": [
    "test_data['svd_predictions'] = test_data.apply(\n",
    "    lambda f: round_to_nearest_0_5(np.dot(users[f['userId']], items[f['movieId']])), axis = 1\n",
    ")"
   ]
  },
  {
   "cell_type": "code",
   "execution_count": 81,
   "metadata": {},
   "outputs": [
    {
     "name": "stdout",
     "output_type": "stream",
     "text": [
      "RMSE metric: 0.8395692793874393\n"
     ]
    }
   ],
   "source": [
    "print(f\"RMSE metric: {np.sqrt(mean_squared_error(test_data['svd_predictions'], test_data['rating']))}\")"
   ]
  },
  {
   "cell_type": "markdown",
   "metadata": {},
   "source": [
    "матрица профилей (эмбедингов) пользователей"
   ]
  },
  {
   "cell_type": "code",
   "execution_count": 82,
   "metadata": {},
   "outputs": [
    {
     "data": {
      "text/plain": [
       "(20000, 20)"
      ]
     },
     "execution_count": 82,
     "metadata": {},
     "output_type": "execute_result"
    }
   ],
   "source": [
    "users.shape"
   ]
  },
  {
   "cell_type": "markdown",
   "metadata": {},
   "source": [
    "матрица профилей (эмбедингов) фильмов"
   ]
  },
  {
   "cell_type": "code",
   "execution_count": 83,
   "metadata": {},
   "outputs": [
    {
     "data": {
      "text/plain": [
       "(1000, 20)"
      ]
     },
     "execution_count": 83,
     "metadata": {},
     "output_type": "execute_result"
    }
   ],
   "source": [
    "items.shape"
   ]
  },
  {
   "cell_type": "markdown",
   "metadata": {},
   "source": [
    "посмотрим на соседей фильмов по эмбедингам (так же как по tf-idf)"
   ]
  },
  {
   "cell_type": "code",
   "execution_count": 84,
   "metadata": {},
   "outputs": [],
   "source": [
    "cosine_similarity_items = cosine_distances(items)"
   ]
  },
  {
   "cell_type": "code",
   "execution_count": 85,
   "metadata": {},
   "outputs": [],
   "source": [
    "top=5\n",
    "movies_sim = []\n",
    "for i in range(len(cosine_similarity_items)):\n",
    "    neighbors = (cosine_similarity_items[i]).argsort()[1:top+1] # считаем от 1 до top1 + 1, \n",
    "    # так как ближайшее расстояние у вектора до самого себя\n",
    "    movies_sim.append(neighbors)\n",
    "movies_sim = np.array(movies_sim)"
   ]
  },
  {
   "cell_type": "code",
   "execution_count": 86,
   "metadata": {},
   "outputs": [],
   "source": [
    "movie_id_name = dict(unique_movies[['movieId', 'text_feature']].values.tolist())\n",
    "movies_top_df = pd.DataFrame(movies_sim, columns = ['top1', 'top2', 'top3', 'top4', 'top5'])\n",
    "movies_top_df['top1'] = movies_top_df['top1'].apply(lambda x: movie_id_name[x])\n",
    "movies_top_df['top2'] = movies_top_df['top2'].apply(lambda x: movie_id_name[x])\n",
    "movies_top_df['top3'] = movies_top_df['top3'].apply(lambda x: movie_id_name[x])\n",
    "movies_top_df['top4'] = movies_top_df['top4'].apply(lambda x: movie_id_name[x])\n",
    "movies_top_df['top5'] = movies_top_df['top5'].apply(lambda x: movie_id_name[x])\n",
    "\n",
    "movies_top_df = movies_top_df.reset_index()\n",
    "movies_top_df['movieId'] = movies_top_df['index']"
   ]
  },
  {
   "cell_type": "markdown",
   "metadata": {},
   "source": [
    "на основе матрично факторизации получили более неочевидные item рекомендации по сравнению с tf-idf\n",
    "\n",
    "в рекомендациях появился star trek к star wars"
   ]
  },
  {
   "cell_type": "code",
   "execution_count": 87,
   "metadata": {},
   "outputs": [],
   "source": [
    "movies_recs_matrix = (\n",
    "    unique_movies.merge(\n",
    "        movies_top_df,\n",
    "        left_on='movieId', right_on='movieId'\n",
    "    )\n",
    ")"
   ]
  },
  {
   "cell_type": "code",
   "execution_count": 88,
   "metadata": {},
   "outputs": [
    {
     "data": {
      "text/html": [
       "<div>\n",
       "<style scoped>\n",
       "    .dataframe tbody tr th:only-of-type {\n",
       "        vertical-align: middle;\n",
       "    }\n",
       "\n",
       "    .dataframe tbody tr th {\n",
       "        vertical-align: top;\n",
       "    }\n",
       "\n",
       "    .dataframe thead th {\n",
       "        text-align: right;\n",
       "    }\n",
       "</style>\n",
       "<table border=\"1\" class=\"dataframe\">\n",
       "  <thead>\n",
       "    <tr style=\"text-align: right;\">\n",
       "      <th></th>\n",
       "      <th>movieId</th>\n",
       "      <th>title</th>\n",
       "      <th>genres</th>\n",
       "      <th>text_feature</th>\n",
       "      <th>index</th>\n",
       "      <th>top1</th>\n",
       "      <th>top2</th>\n",
       "      <th>top3</th>\n",
       "      <th>top4</th>\n",
       "      <th>top5</th>\n",
       "    </tr>\n",
       "  </thead>\n",
       "  <tbody>\n",
       "    <tr>\n",
       "      <th>5</th>\n",
       "      <td>5</td>\n",
       "      <td>Star Wars: Episode IV - A New Hope (1977)</td>\n",
       "      <td>Action Adventure Sci-Fi</td>\n",
       "      <td>star wars: episode iv - a new hope (1977) action adventure sci-fi</td>\n",
       "      <td>5</td>\n",
       "      <td>star wars: episode v - the empire strikes back (1980) action adventure sci-fi</td>\n",
       "      <td>star wars: episode vi - return of the jedi (1983) action adventure sci-fi</td>\n",
       "      <td>raiders of the lost ark (indiana jones and the raiders of the lost ark) (1981) action adventure</td>\n",
       "      <td>indiana jones and the last crusade (1989) action adventure</td>\n",
       "      <td>star wars: episode i - the phantom menace (1999) action adventure sci-fi</td>\n",
       "    </tr>\n",
       "    <tr>\n",
       "      <th>20</th>\n",
       "      <td>20</td>\n",
       "      <td>Star Wars: Episode V - The Empire Strikes Back (1980)</td>\n",
       "      <td>Action Adventure Sci-Fi</td>\n",
       "      <td>star wars: episode v - the empire strikes back (1980) action adventure sci-fi</td>\n",
       "      <td>20</td>\n",
       "      <td>star wars: episode iv - a new hope (1977) action adventure sci-fi</td>\n",
       "      <td>star wars: episode vi - return of the jedi (1983) action adventure sci-fi</td>\n",
       "      <td>raiders of the lost ark (indiana jones and the raiders of the lost ark) (1981) action adventure</td>\n",
       "      <td>indiana jones and the last crusade (1989) action adventure</td>\n",
       "      <td>star wars: episode i - the phantom menace (1999) action adventure sci-fi</td>\n",
       "    </tr>\n",
       "    <tr>\n",
       "      <th>51</th>\n",
       "      <td>51</td>\n",
       "      <td>Star Wars: Episode I - The Phantom Menace (1999)</td>\n",
       "      <td>Action Adventure Sci-Fi</td>\n",
       "      <td>star wars: episode i - the phantom menace (1999) action adventure sci-fi</td>\n",
       "      <td>51</td>\n",
       "      <td>star wars: episode ii - attack of the clones (2002) action adventure sci-fi imax</td>\n",
       "      <td>star wars: episode iii - revenge of the sith (2005) action adventure sci-fi</td>\n",
       "      <td>matrix revolutions, the (2003) action adventure sci-fi thriller imax</td>\n",
       "      <td>matrix reloaded, the (2003) action adventure sci-fi thriller imax</td>\n",
       "      <td>star trek: generations (1994) adventure drama sci-fi</td>\n",
       "    </tr>\n",
       "    <tr>\n",
       "      <th>64</th>\n",
       "      <td>64</td>\n",
       "      <td>Star Wars: Episode VI - Return of the Jedi (1983)</td>\n",
       "      <td>Action Adventure Sci-Fi</td>\n",
       "      <td>star wars: episode vi - return of the jedi (1983) action adventure sci-fi</td>\n",
       "      <td>64</td>\n",
       "      <td>star wars: episode iv - a new hope (1977) action adventure sci-fi</td>\n",
       "      <td>star wars: episode v - the empire strikes back (1980) action adventure sci-fi</td>\n",
       "      <td>indiana jones and the last crusade (1989) action adventure</td>\n",
       "      <td>raiders of the lost ark (indiana jones and the raiders of the lost ark) (1981) action adventure</td>\n",
       "      <td>star wars: episode i - the phantom menace (1999) action adventure sci-fi</td>\n",
       "    </tr>\n",
       "    <tr>\n",
       "      <th>560</th>\n",
       "      <td>560</td>\n",
       "      <td>Star Wars: Episode II - Attack of the Clones (2002)</td>\n",
       "      <td>Action Adventure Sci-Fi IMAX</td>\n",
       "      <td>star wars: episode ii - attack of the clones (2002) action adventure sci-fi imax</td>\n",
       "      <td>560</td>\n",
       "      <td>star wars: episode i - the phantom menace (1999) action adventure sci-fi</td>\n",
       "      <td>star wars: episode iii - revenge of the sith (2005) action adventure sci-fi</td>\n",
       "      <td>matrix revolutions, the (2003) action adventure sci-fi thriller imax</td>\n",
       "      <td>matrix reloaded, the (2003) action adventure sci-fi thriller imax</td>\n",
       "      <td>x-men: the last stand (2006) action sci-fi thriller</td>\n",
       "    </tr>\n",
       "    <tr>\n",
       "      <th>577</th>\n",
       "      <td>577</td>\n",
       "      <td>Star Wars: Episode III - Revenge of the Sith (2005)</td>\n",
       "      <td>Action Adventure Sci-Fi</td>\n",
       "      <td>star wars: episode iii - revenge of the sith (2005) action adventure sci-fi</td>\n",
       "      <td>577</td>\n",
       "      <td>star wars: episode ii - attack of the clones (2002) action adventure sci-fi imax</td>\n",
       "      <td>star wars: episode i - the phantom menace (1999) action adventure sci-fi</td>\n",
       "      <td>matrix reloaded, the (2003) action adventure sci-fi thriller imax</td>\n",
       "      <td>matrix revolutions, the (2003) action adventure sci-fi thriller imax</td>\n",
       "      <td>x-men: the last stand (2006) action sci-fi thriller</td>\n",
       "    </tr>\n",
       "  </tbody>\n",
       "</table>\n",
       "</div>"
      ],
      "text/plain": [
       "     movieId                                                  title  \\\n",
       "5          5              Star Wars: Episode IV - A New Hope (1977)   \n",
       "20        20  Star Wars: Episode V - The Empire Strikes Back (1980)   \n",
       "51        51       Star Wars: Episode I - The Phantom Menace (1999)   \n",
       "64        64      Star Wars: Episode VI - Return of the Jedi (1983)   \n",
       "560      560    Star Wars: Episode II - Attack of the Clones (2002)   \n",
       "577      577    Star Wars: Episode III - Revenge of the Sith (2005)   \n",
       "\n",
       "                           genres  \\\n",
       "5         Action Adventure Sci-Fi   \n",
       "20        Action Adventure Sci-Fi   \n",
       "51        Action Adventure Sci-Fi   \n",
       "64        Action Adventure Sci-Fi   \n",
       "560  Action Adventure Sci-Fi IMAX   \n",
       "577       Action Adventure Sci-Fi   \n",
       "\n",
       "                                                                         text_feature  \\\n",
       "5                   star wars: episode iv - a new hope (1977) action adventure sci-fi   \n",
       "20      star wars: episode v - the empire strikes back (1980) action adventure sci-fi   \n",
       "51           star wars: episode i - the phantom menace (1999) action adventure sci-fi   \n",
       "64          star wars: episode vi - return of the jedi (1983) action adventure sci-fi   \n",
       "560  star wars: episode ii - attack of the clones (2002) action adventure sci-fi imax   \n",
       "577       star wars: episode iii - revenge of the sith (2005) action adventure sci-fi   \n",
       "\n",
       "     index  \\\n",
       "5        5   \n",
       "20      20   \n",
       "51      51   \n",
       "64      64   \n",
       "560    560   \n",
       "577    577   \n",
       "\n",
       "                                                                                 top1  \\\n",
       "5       star wars: episode v - the empire strikes back (1980) action adventure sci-fi   \n",
       "20                  star wars: episode iv - a new hope (1977) action adventure sci-fi   \n",
       "51   star wars: episode ii - attack of the clones (2002) action adventure sci-fi imax   \n",
       "64                  star wars: episode iv - a new hope (1977) action adventure sci-fi   \n",
       "560          star wars: episode i - the phantom menace (1999) action adventure sci-fi   \n",
       "577  star wars: episode ii - attack of the clones (2002) action adventure sci-fi imax   \n",
       "\n",
       "                                                                              top2  \\\n",
       "5        star wars: episode vi - return of the jedi (1983) action adventure sci-fi   \n",
       "20       star wars: episode vi - return of the jedi (1983) action adventure sci-fi   \n",
       "51     star wars: episode iii - revenge of the sith (2005) action adventure sci-fi   \n",
       "64   star wars: episode v - the empire strikes back (1980) action adventure sci-fi   \n",
       "560    star wars: episode iii - revenge of the sith (2005) action adventure sci-fi   \n",
       "577       star wars: episode i - the phantom menace (1999) action adventure sci-fi   \n",
       "\n",
       "                                                                                                top3  \\\n",
       "5    raiders of the lost ark (indiana jones and the raiders of the lost ark) (1981) action adventure   \n",
       "20   raiders of the lost ark (indiana jones and the raiders of the lost ark) (1981) action adventure   \n",
       "51                              matrix revolutions, the (2003) action adventure sci-fi thriller imax   \n",
       "64                                        indiana jones and the last crusade (1989) action adventure   \n",
       "560                             matrix revolutions, the (2003) action adventure sci-fi thriller imax   \n",
       "577                                matrix reloaded, the (2003) action adventure sci-fi thriller imax   \n",
       "\n",
       "                                                                                                top4  \\\n",
       "5                                         indiana jones and the last crusade (1989) action adventure   \n",
       "20                                        indiana jones and the last crusade (1989) action adventure   \n",
       "51                                 matrix reloaded, the (2003) action adventure sci-fi thriller imax   \n",
       "64   raiders of the lost ark (indiana jones and the raiders of the lost ark) (1981) action adventure   \n",
       "560                                matrix reloaded, the (2003) action adventure sci-fi thriller imax   \n",
       "577                             matrix revolutions, the (2003) action adventure sci-fi thriller imax   \n",
       "\n",
       "                                                                         top5  \n",
       "5    star wars: episode i - the phantom menace (1999) action adventure sci-fi  \n",
       "20   star wars: episode i - the phantom menace (1999) action adventure sci-fi  \n",
       "51                       star trek: generations (1994) adventure drama sci-fi  \n",
       "64   star wars: episode i - the phantom menace (1999) action adventure sci-fi  \n",
       "560                       x-men: the last stand (2006) action sci-fi thriller  \n",
       "577                       x-men: the last stand (2006) action sci-fi thriller  "
      ]
     },
     "execution_count": 88,
     "metadata": {},
     "output_type": "execute_result"
    }
   ],
   "source": [
    "movies_recs_matrix[movies_recs_matrix['title'].apply(lambda x: 'Star Wars' in x)]"
   ]
  },
  {
   "cell_type": "markdown",
   "metadata": {},
   "source": [
    "tf-idf"
   ]
  },
  {
   "cell_type": "code",
   "execution_count": 89,
   "metadata": {},
   "outputs": [
    {
     "data": {
      "text/html": [
       "<div>\n",
       "<style scoped>\n",
       "    .dataframe tbody tr th:only-of-type {\n",
       "        vertical-align: middle;\n",
       "    }\n",
       "\n",
       "    .dataframe tbody tr th {\n",
       "        vertical-align: top;\n",
       "    }\n",
       "\n",
       "    .dataframe thead th {\n",
       "        text-align: right;\n",
       "    }\n",
       "</style>\n",
       "<table border=\"1\" class=\"dataframe\">\n",
       "  <thead>\n",
       "    <tr style=\"text-align: right;\">\n",
       "      <th></th>\n",
       "      <th>movieId</th>\n",
       "      <th>title</th>\n",
       "      <th>genres</th>\n",
       "      <th>text_feature</th>\n",
       "      <th>top1</th>\n",
       "      <th>top2</th>\n",
       "      <th>top3</th>\n",
       "      <th>top4</th>\n",
       "      <th>top5</th>\n",
       "    </tr>\n",
       "  </thead>\n",
       "  <tbody>\n",
       "    <tr>\n",
       "      <th>5</th>\n",
       "      <td>5</td>\n",
       "      <td>Star Wars: Episode IV - A New Hope (1977)</td>\n",
       "      <td>Action Adventure Sci-Fi</td>\n",
       "      <td>star wars: episode iv - a new hope (1977) action adventure sci-fi</td>\n",
       "      <td>star wars: episode i - the phantom menace (1999) action adventure sci-fi</td>\n",
       "      <td>star wars: episode v - the empire strikes back (1980) action adventure sci-fi</td>\n",
       "      <td>star wars: episode iii - revenge of the sith (2005) action adventure sci-fi</td>\n",
       "      <td>star wars: episode vi - return of the jedi (1983) action adventure sci-fi</td>\n",
       "      <td>star wars: episode ii - attack of the clones (2002) action adventure sci-fi imax</td>\n",
       "    </tr>\n",
       "    <tr>\n",
       "      <th>20</th>\n",
       "      <td>20</td>\n",
       "      <td>Star Wars: Episode V - The Empire Strikes Back (1980)</td>\n",
       "      <td>Action Adventure Sci-Fi</td>\n",
       "      <td>star wars: episode v - the empire strikes back (1980) action adventure sci-fi</td>\n",
       "      <td>star wars: episode i - the phantom menace (1999) action adventure sci-fi</td>\n",
       "      <td>star wars: episode iii - revenge of the sith (2005) action adventure sci-fi</td>\n",
       "      <td>star wars: episode vi - return of the jedi (1983) action adventure sci-fi</td>\n",
       "      <td>star wars: episode ii - attack of the clones (2002) action adventure sci-fi imax</td>\n",
       "      <td>star wars: episode iv - a new hope (1977) action adventure sci-fi</td>\n",
       "    </tr>\n",
       "    <tr>\n",
       "      <th>51</th>\n",
       "      <td>51</td>\n",
       "      <td>Star Wars: Episode I - The Phantom Menace (1999)</td>\n",
       "      <td>Action Adventure Sci-Fi</td>\n",
       "      <td>star wars: episode i - the phantom menace (1999) action adventure sci-fi</td>\n",
       "      <td>star wars: episode v - the empire strikes back (1980) action adventure sci-fi</td>\n",
       "      <td>star wars: episode iii - revenge of the sith (2005) action adventure sci-fi</td>\n",
       "      <td>star wars: episode vi - return of the jedi (1983) action adventure sci-fi</td>\n",
       "      <td>star wars: episode ii - attack of the clones (2002) action adventure sci-fi imax</td>\n",
       "      <td>star wars: episode iv - a new hope (1977) action adventure sci-fi</td>\n",
       "    </tr>\n",
       "    <tr>\n",
       "      <th>64</th>\n",
       "      <td>64</td>\n",
       "      <td>Star Wars: Episode VI - Return of the Jedi (1983)</td>\n",
       "      <td>Action Adventure Sci-Fi</td>\n",
       "      <td>star wars: episode vi - return of the jedi (1983) action adventure sci-fi</td>\n",
       "      <td>star wars: episode i - the phantom menace (1999) action adventure sci-fi</td>\n",
       "      <td>star wars: episode iii - revenge of the sith (2005) action adventure sci-fi</td>\n",
       "      <td>star wars: episode ii - attack of the clones (2002) action adventure sci-fi imax</td>\n",
       "      <td>star wars: episode v - the empire strikes back (1980) action adventure sci-fi</td>\n",
       "      <td>star wars: episode iv - a new hope (1977) action adventure sci-fi</td>\n",
       "    </tr>\n",
       "    <tr>\n",
       "      <th>560</th>\n",
       "      <td>560</td>\n",
       "      <td>Star Wars: Episode II - Attack of the Clones (2002)</td>\n",
       "      <td>Action Adventure Sci-Fi IMAX</td>\n",
       "      <td>star wars: episode ii - attack of the clones (2002) action adventure sci-fi imax</td>\n",
       "      <td>star wars: episode i - the phantom menace (1999) action adventure sci-fi</td>\n",
       "      <td>star wars: episode iii - revenge of the sith (2005) action adventure sci-fi</td>\n",
       "      <td>star wars: episode vi - return of the jedi (1983) action adventure sci-fi</td>\n",
       "      <td>star wars: episode v - the empire strikes back (1980) action adventure sci-fi</td>\n",
       "      <td>star wars: episode iv - a new hope (1977) action adventure sci-fi</td>\n",
       "    </tr>\n",
       "    <tr>\n",
       "      <th>577</th>\n",
       "      <td>577</td>\n",
       "      <td>Star Wars: Episode III - Revenge of the Sith (2005)</td>\n",
       "      <td>Action Adventure Sci-Fi</td>\n",
       "      <td>star wars: episode iii - revenge of the sith (2005) action adventure sci-fi</td>\n",
       "      <td>star wars: episode i - the phantom menace (1999) action adventure sci-fi</td>\n",
       "      <td>star wars: episode vi - return of the jedi (1983) action adventure sci-fi</td>\n",
       "      <td>star wars: episode ii - attack of the clones (2002) action adventure sci-fi imax</td>\n",
       "      <td>star wars: episode v - the empire strikes back (1980) action adventure sci-fi</td>\n",
       "      <td>star wars: episode iv - a new hope (1977) action adventure sci-fi</td>\n",
       "    </tr>\n",
       "  </tbody>\n",
       "</table>\n",
       "</div>"
      ],
      "text/plain": [
       "     movieId                                                  title  \\\n",
       "5          5              Star Wars: Episode IV - A New Hope (1977)   \n",
       "20        20  Star Wars: Episode V - The Empire Strikes Back (1980)   \n",
       "51        51       Star Wars: Episode I - The Phantom Menace (1999)   \n",
       "64        64      Star Wars: Episode VI - Return of the Jedi (1983)   \n",
       "560      560    Star Wars: Episode II - Attack of the Clones (2002)   \n",
       "577      577    Star Wars: Episode III - Revenge of the Sith (2005)   \n",
       "\n",
       "                           genres  \\\n",
       "5         Action Adventure Sci-Fi   \n",
       "20        Action Adventure Sci-Fi   \n",
       "51        Action Adventure Sci-Fi   \n",
       "64        Action Adventure Sci-Fi   \n",
       "560  Action Adventure Sci-Fi IMAX   \n",
       "577       Action Adventure Sci-Fi   \n",
       "\n",
       "                                                                         text_feature  \\\n",
       "5                   star wars: episode iv - a new hope (1977) action adventure sci-fi   \n",
       "20      star wars: episode v - the empire strikes back (1980) action adventure sci-fi   \n",
       "51           star wars: episode i - the phantom menace (1999) action adventure sci-fi   \n",
       "64          star wars: episode vi - return of the jedi (1983) action adventure sci-fi   \n",
       "560  star wars: episode ii - attack of the clones (2002) action adventure sci-fi imax   \n",
       "577       star wars: episode iii - revenge of the sith (2005) action adventure sci-fi   \n",
       "\n",
       "                                                                              top1  \\\n",
       "5         star wars: episode i - the phantom menace (1999) action adventure sci-fi   \n",
       "20        star wars: episode i - the phantom menace (1999) action adventure sci-fi   \n",
       "51   star wars: episode v - the empire strikes back (1980) action adventure sci-fi   \n",
       "64        star wars: episode i - the phantom menace (1999) action adventure sci-fi   \n",
       "560       star wars: episode i - the phantom menace (1999) action adventure sci-fi   \n",
       "577       star wars: episode i - the phantom menace (1999) action adventure sci-fi   \n",
       "\n",
       "                                                                              top2  \\\n",
       "5    star wars: episode v - the empire strikes back (1980) action adventure sci-fi   \n",
       "20     star wars: episode iii - revenge of the sith (2005) action adventure sci-fi   \n",
       "51     star wars: episode iii - revenge of the sith (2005) action adventure sci-fi   \n",
       "64     star wars: episode iii - revenge of the sith (2005) action adventure sci-fi   \n",
       "560    star wars: episode iii - revenge of the sith (2005) action adventure sci-fi   \n",
       "577      star wars: episode vi - return of the jedi (1983) action adventure sci-fi   \n",
       "\n",
       "                                                                                 top3  \\\n",
       "5         star wars: episode iii - revenge of the sith (2005) action adventure sci-fi   \n",
       "20          star wars: episode vi - return of the jedi (1983) action adventure sci-fi   \n",
       "51          star wars: episode vi - return of the jedi (1983) action adventure sci-fi   \n",
       "64   star wars: episode ii - attack of the clones (2002) action adventure sci-fi imax   \n",
       "560         star wars: episode vi - return of the jedi (1983) action adventure sci-fi   \n",
       "577  star wars: episode ii - attack of the clones (2002) action adventure sci-fi imax   \n",
       "\n",
       "                                                                                 top4  \\\n",
       "5           star wars: episode vi - return of the jedi (1983) action adventure sci-fi   \n",
       "20   star wars: episode ii - attack of the clones (2002) action adventure sci-fi imax   \n",
       "51   star wars: episode ii - attack of the clones (2002) action adventure sci-fi imax   \n",
       "64      star wars: episode v - the empire strikes back (1980) action adventure sci-fi   \n",
       "560     star wars: episode v - the empire strikes back (1980) action adventure sci-fi   \n",
       "577     star wars: episode v - the empire strikes back (1980) action adventure sci-fi   \n",
       "\n",
       "                                                                                 top5  \n",
       "5    star wars: episode ii - attack of the clones (2002) action adventure sci-fi imax  \n",
       "20                  star wars: episode iv - a new hope (1977) action adventure sci-fi  \n",
       "51                  star wars: episode iv - a new hope (1977) action adventure sci-fi  \n",
       "64                  star wars: episode iv - a new hope (1977) action adventure sci-fi  \n",
       "560                 star wars: episode iv - a new hope (1977) action adventure sci-fi  \n",
       "577                 star wars: episode iv - a new hope (1977) action adventure sci-fi  "
      ]
     },
     "execution_count": 89,
     "metadata": {},
     "output_type": "execute_result"
    },
    {
     "ename": "",
     "evalue": "",
     "output_type": "error",
     "traceback": [
      "\u001b[1;31mПри выполнении кода в текущей ячейке или предыдущей ячейке ядро аварийно завершило работу. Проверьте код в ячейках, чтобы определить возможную причину сбоя. Щелкните <a href=\"https://aka.ms/vscodeJupyterKernelCrash\">здесь</a> для получения дополнительных сведений. Подробнее см. в <a href='command:jupyter.viewOutput'>журнале Jupyter</a>."
     ]
    }
   ],
   "source": [
    "movies_recs[movies_recs['title'].apply(lambda x: 'Star Wars' in x)]"
   ]
  },
  {
   "cell_type": "code",
   "execution_count": null,
   "metadata": {},
   "outputs": [],
   "source": []
  }
 ],
 "metadata": {
  "kernelspec": {
   "display_name": "Python 3",
   "language": "python",
   "name": "python3"
  },
  "language_info": {
   "codemirror_mode": {
    "name": "ipython",
    "version": 3
   },
   "file_extension": ".py",
   "mimetype": "text/x-python",
   "name": "python",
   "nbconvert_exporter": "python",
   "pygments_lexer": "ipython3",
   "version": "3.12.0"
  },
  "toc": {
   "base_numbering": 1,
   "nav_menu": {},
   "number_sections": false,
   "sideBar": false,
   "skip_h1_title": false,
   "title_cell": "Table of Contents",
   "title_sidebar": "Contents",
   "toc_cell": false,
   "toc_position": {},
   "toc_section_display": false,
   "toc_window_display": false
  }
 },
 "nbformat": 4,
 "nbformat_minor": 5
}
